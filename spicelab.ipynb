{
  "cells": [
    {
      "source": [
        "<style>\n",
        "/*Estilos para poder centrar las imágenes*/\n",
        "img[src$=\"centerme\"]\n",
        "{\n",
        "    display:block; \n",
        "    float:none; \n",
        "    margin-left:auto;\n",
        "    margin-right:auto;\n",
        "    /*width:60%;*/\n",
        "}\n",
        "  \n",
        "img[src$=\"avatar_estudiante\"] {\n",
        "  vertical-align: middle;\n",
        "  width: 50px;\n",
        "  height: 50px;\n",
        "  border-radius: 50%;\n",
        "}\n",
        "\n",
        "img[src$=\"avatar_autor\"] {\n",
        "  vertical-align: middle;\n",
        "  width: 100px;\n",
        "  height: 100px;\n",
        "  border-radius: 50%;\n",
        "  display:block; \n",
        "  float:none; \n",
        "  margin-left:auto;\n",
        "  margin-right:auto;\n",
        "\n",
        "}\n",
        "\n",
        "\n",
        "</style> "
      ],
      "cell_type": "markdown",
      "metadata": {}
    },
    {
      "cell_type": "markdown",
      "source": [
        "# LABORATORIO SOBRE EL ESTANDAR DE SIMULACIÓN DE CIRCUITOS **SPICE**\n",
        "![](imagenes/avatares/avatar_alberto.jpg?style=avatar_estudiante)  Alberto de la Serna Parada\n",
        "# Objetivo del laboratorio\n",
        "El objetivo de la presenta práctica es conocer el estándar de simulación de circuitos [SPICE](http://bwrcs.eecs.berkeley.edu/Classes/IcBook/SPICE) y realizar pequeñas simulaciones en corriente continua con el mismo. SPICE es una forma elegante y sencilla de codificar circuitos eléctricos de manera que puedan ser procesados por un ordenador. Mediante un sencillo lenguaje podemos definir resistencias, fuentes de alimentación, etc., las conexiones entre ellos y los resultados que deseamos obtener.\n",
        "\n",
        "\n"
      ],
      "metadata": {}
    },
    {
      "source": [
        "# Un poco de historia que originó la pieza clave de un circuito, la electricidad.\n",
        "\n",
        "Pero la electricidad no es solo el pilar fundacional de la civilización tecnológica, sino también uno de los mejores ejemplos del progreso científico como obra colectiva, fruto de las aportaciones de numerosos genios. Estos son los principales genios que cambiaron el curso de la historia con sus descubrimientos\n",
        "\n",
        "\n",
        "|  | Nombre | Descubrimiento  |\n",
        "| ---------- |: ------------------ |: ---------------- |\n",
        "| ![](imagenes/avatares/gilbert.jpg?style=avatar) | WILLIAM GILBERT      |  La electricidad estática se conocía desde antiguo, pero fue en 1600 cuando el británico William Gilbert se acercó por primera vez a su estudio científico. Cumpliendo el encargo de la reina Isabel I de Inglaterra de estudiar el funcionamiento de la brújula, Gilbert descubrió que el magnetismo estaba relacionado con la atracción que el ámbar ejercía sobre objetos pequeños al frotarse. Gilbert acuñó para este fenómeno el término “electricidad”, del griego elektron, “ámbar”.  |\n",
        "| ![](imagenes/avatares/franklin.jpg?style=avatar) | BENJAMIN FRANKLIN | Tras los estudios de Gilbert, los hombres de ciencia comenzaron a investigar las propiedades de aquella extraña materia eléctrica que podía crearse, almacenarse en las llamadas botellas de Leyden y transmitirse a través de cables metálicos. Sin embargo, hasta entonces no se tenía constancia de que aquel misterioso fluido existiera fuera de los laboratorios. Fue el estadounidense Benjamin Franklin quien en 1752, con su célebre experimento de la cometa, demostró que la energía de las tormentas y la de las botellas de Leyden eran la misma cosa, instaurando así la ciencia de la electricidad. |\n",
        "| ![](imagenes/avatares/galvani.jpg?style=avatar) | LUIGI GALVANI | En la década de 1780, el italiano Luigi Galvani y su esposa, Lucia Galeazzi, describieron la “electricidad animal” como el poder que los nervios transmitían a través de un medio líquido para provocar el movimiento de los músculos. El galvanismo así definido atrajo el interés popular hacia la electricidad de los seres vivos, hasta el punto de inspirar a la escritora Mary Wollstonecraft Shelley para escribir su obra Frankenstein o el moderno Prometeo. El trabajo de los Galvani sentó las bases para el posterior conocimiento de la electrofisiología del sistema nervioso. |\n",
        "| ![](imagenes/avatares/volta.jpg?style=avatar) | ALESSANDRO VOLTA | Contemporáneo y amigo de Galvani, aunque rival en el terreno científico, el también italiano Alessandro Volta disputó la teoría de la electricidad animal, alegando que la corriente observada en los experimentos de su colega con patas de rana tenía un origen externo. Cuando Volta sustituyó el material biológico por cartón empapado de solución salina, inventó la primera batería, una fuente constante de corriente eléctrica que no dependía de la generación electrostática. La invención de la pila voltaica en 1799 ofreció a los científicos una valiosa herramienta para el estudio de la electricidad. En reconocimiento a su labor, se asignó su nombre a la unidad de potencial eléctrico, el voltio. |\n",
        "| ![](imagenes/avatares/coulomb.jpg?style=avatar) | CHARLES-AUGUSTIN DE COULOMB | En la segunda mitad del siglo XVIII, científicos como los británicos Joseph Priestley o Henry Cavendish comenzaron a observar experimentalmente que la fuerza de atracción o repulsión entre dos cargas dependía de la magnitud de estas y era inversamente proporcional a la distancia entre ellas, como la fuerza gravitatoria descrita por Isaac Newton. Fue el francés Charles-Augustin de Coulomb quien en 1785 formuló la ley que lleva su nombre. En 1908 se designó en su honor la unidad de carga, el culombio.|\n",
        "| ![](imagenes/avatares/ampere.jpg?style=avatar) | ANDRÉ-MARIE AMPÈRE |  Si el impulso de Coulomb fue decisivo para la formulación de la electrostática, fue su compatriota André-Marie Ampère quien sentó los fundamentos de la electrodinámica. Basándose en los trabajos previos del danés Hans Christian Ørsted, en la década de 1820 Ampère comenzó a dar forma física y matemática a la fuerza de atracción o repulsión entre dos cables paralelos conductores de corriente eléctrica. La ley de Ampère abrió el camino hacia la comprensión y la definición matemática del electromagnetismo, lo que en 1881 fue reconocido asignando el nombre de amperio a la unidad de corriente eléctrica. |\n",
        "| ![](imagenes/avatares/ohm.jpg?style=avatar) | GEORG OHM |  Mientras Ampère investigaba la fuerza en acción entre dos cables eléctricos, el alemán Georg Ohm empleaba las baterías de Volta y artefactos de diseño propio para estudiar cómo la corriente (I) variaba en función del voltaje aplicado (V) y la resistencia del circuito (R). Este asunto ya había interesado a científicos como Cavendish, que empleaba su cuerpo para cerrar el circuito y experimentar en propia carne la fuerza del choque eléctrico en cada caso. La ley que resume los resultados de Ohm, I = V/R, puede parecer hoy casi obvia, y sin embargo la publicación de su formulación original en 1827 suscitó más recelo que aplauso. Posteriormente la contribución de Ohm se plasmaría en el nombre de la unidad de resistencia eléctrica, el ohmio.|\n",
        "|  ![](imagenes/avatares/faraday.jpg?style=avatar) | MICHAEL FARADAY | Durante el siglo XIX, la época del florecimiento de la ciencia eléctrica, fueron numerosos los científicos dedicados a desentrañar los principios físicos y matemáticos de la electricidad. Pero alguien aún debía convertir todo aquel conocimiento en tecnología práctica, y en este campo destacó el inglés Michael Faraday con su desarrollo de lo que sería el motor eléctrico. No obstante, Faraday no se limitó a la invención, sino que sus observaciones proporcionarían el material para construir una teoría completa del electromagnetismo. Y todo ello a pesar de que nunca estudió en la universidad; fue un científico autodidacta cuya condición humilde le llevó a trabajar para el químico Humphry Davy, pero no solo como ayudante, sino también como ayuda de cámara. El genio de Faraday hizo que la fama del pupilo superara la de su mentor, y hoy la unidad de capacidad eléctrica lleva su nombre, faradio.|\n",
        "| ![](imagenes/avatares/maxwell.jpg?style=avatar) | JAMES CLERK MAXWELL | Puede decirse que el broche a la edad de oro de la ciencia eléctrica fue obra del escocés James Clerk Maxwell, quien entre 1861 y 1862 publicó un conjunto de ecuaciones que convertía las observaciones intuitivas de Faraday en una completa teoría del electromagnetismo. Las ecuaciones de Maxwell, finalmente reducidas a cuatro, recogían y resumían todo el trabajo de sus predecesores para servir como tablas de la ley bajo el reino unificado del campo electromagnético. A su vez, y dado que la ciencia suele ser una construcción colectiva sin principio ni fin, las ecuaciones de Maxwell serían en el siglo posterior uno de los puntos de partida del nacimiento de otra nueva ciencia: la física cuántica. |\n",
        "\n",
        "\n",
        "---\n",
        "Título: \"El olimpo de la electricidad: los genios que nos dieron la energía\"\n",
        "Bibliografía: https://www.bbvaopenmind.com/ciencia/grandes-personajes/olimpo-la-electricidad-los-genios-nos-dieron-la-energia/\n",
        "---"
      ],
      "cell_type": "markdown",
      "metadata": {}
    },
    {
      "source": [
        "# El estándar SPICE\n",
        "**SPICE** es una abreviabiación de *Simulation Program with Integrated Circtuit Emphasis*.\n",
        "Se trata básicamente de un método estándar para describir circuitos usando texto plano en\n",
        "lugar de una representación gráfica (o *esquemática*). A esta descripción en texto se\n",
        "la llama también **netlist** y básicamente se corresponde con la *lista* de los componentes del circuito y cómo estos están conectados entre sí, es decir, de los nodos de unión.\n",
        "Los ficheros netlist pueden tener extensiones `.cir`, `.net`, `.ckt`, ó `.sp` y es muy común encontrárselos con cualquiera de estas.\n",
        "\n",
        "Existen en el mercado muchas variantes (intérpretes) de Spice, aunque el original fue descrito\n",
        "en la Universidad de Berkeley. En la lista de intérpretes de Spice tenemos desde esfuerzos y proyectos comerciales hasta *open source* y regidos por distintas comunidades de usuarios y programadores.\n",
        "\n",
        "> **Pregunta:** Enumera todos los intérprete de Spice que puedas encontrar. Crea una tabla en Markdown con varias columnas (para el nombre, fabricante, versión actual, licencia y alguna característica sobresaliente). Aquí tienes un ejemplo del que puedes partir y seguir completando:\n",
        "\n",
        "> | Intérprete | Licencia | Fabricante         | Características  |\n",
        "> | ---------- | -------- | ------------------ | ---------------- |\n",
        "> | Ahkab      | GPL      | Giuseppe Venturini | Basado en Python |\n",
        "> | HSPICE     | de pago  | Cadence Design Systems, Inc | Basado en C             |\n",
        "> | LTspice    | Freeware |   Linear Technology, Analog Devices (desarrolladores)                 |                  |\n",
        "> | ngspice    | GNU | Open Source, colaborativo | Basado en C| \n",
        "> | PSpice     | de pago  | Cadence Design Systems, Inc                   |     Basado en C             |\n",
        "\n",
        "\n",
        "> **Pregunta:** ¿Qué comparación puedes efectuar entre C y Spice como estándares (lenguajes) y sus respectivas implementaciones en software? ¿Qué implementaciones reales (compiladores) del lenguaje C conoces? \n",
        "\n",
        ">> Programar una simulación de circuito con SPICE es muy similar a programar en cualquier otro lenguaje de programación: se escriben los comandos como texto en un archivo, se guarda ese archivo en el disco duro del ordenador y luego se procesa el contenido de ese archivo con un programa (compilador o intérprete) que comprenda dichos comandos. En un lenguaje interpretado, se necesita un programa especial llamado intérprete que traduce el programa que se escribió (el llamado archivo fuente) al propio lenguaje del ordenador, sobre la marcha, mientras se ejecuta:\n",
        "\n",
        ">> ![](imagenes/interpreter.jpg?style=centerme)\n",
        "\n",
        ">> Sin embargo en un lenguaje de ordenador compilado, el programa que escribió se traduce de una vez al propio lenguaje de ordenador mediante un programa especial llamado compilador. Una vez que el programa que se ha escrito ha sido \"compilado\", el archivo ejecutable resultante no necesita más traducción para ser entendido directamente por el ordenador. Ahora se puede \"ejecutar\" en un ordenador, ya sea que se haya instalado o no el software del compilador en ese ordenador:\n",
        "\n",
        ">> ![](imagenes/compiler.png?style=centerme)\n",
        "\n",
        ">> SPICE es un lenguaje interpretado. Para que un ordenador pueda entender las instrucciones SPICE que escribe, debe tener instalado el programa SPICE (intérprete):\n",
        "\n",
        ">> ![](imagenes/spicer_interpreter.png?style=centerme)\n",
        "\n",
        ">> Teniendo en cuenta que el lenguaje C es un lenguaje compilado, esta sería la mayor difernecia entre ambos lenguajes de programación.\n",
        "\n",
        ">> Los programas de compilacion de C que conozco, seguro que existan muchos mas:\n",
        "- GCC (GNU Compiler Collection)\n",
        "- MinGW (implementación de GCC para Windows)\n",
        "- Los antiguos Turbo C y Turbo C++ que eran tanto compiladores como IDE para el sistema operativo MS-DOS \n",
        "- C++Builder, y Visual C++ (que forma parte de Visual Studio).\n",
        "\n",
        ">> Por otro lado los IDE que utilizan algunos de estos compiladores son:\n",
        "- Dev-C++: Este emplea el compilador MinGW. Se trata de un software libre, sencillo, ligero y eficiente, para la plataforma Windows.\n",
        "- Code::Blocks: Este es un software libre, multiplataforma. Code Blocks es una alternativa a Dev-C++ y desarrollada mediante el propio lenguaje C++. Sus capacidades son bastante buenas y es muy popular entre los nuevos programadores. Se puede encontrar separado del compilado o la versión “mingw” que incluye g++ (GCC para C++).\n",
        "- Visual C++: Posee editor de interfaces gráficas y una serie de asistentes que hacen muy cómodo el proceso de desarrollo.\n",
        "- C++Builder: Esta es la opción desarrollada por Borland, es un software propietario y de pago destinado a la plataforma Windows.\n",
        "\n",
        "\n",
        "https://www.allaboutcircuits.com/textbook/reference/chpt-7/fundamentals-spice-programming/\n",
        "\n",
        "## Elementos de un netlist\n",
        "Como acabamos de comentar, un netlist se corresponde con la codificación de los elementos electrónicos de un circuito y las uniones entre los mismos. Veamos con más concreción qué partes y secciones lo componen.\n",
        "\n",
        "## Comentarios\n",
        "\n",
        "La primera línea de un netlist se corresponderá siempre con un comentario. A partir de esta línea se pueden introducir más comentarios pero tienen que ir siempre precedidos de un `*`. Ejemplo:\n",
        "\n",
        "```spice\n",
        "Mi primer circuito\n",
        "* Otro comentario\n",
        "* más comentarios\n",
        "*\n",
        "```\n",
        "\n",
        "## Dispositivos básicos de un circuito\n",
        "Los elementos de un netlist son los mismos que encontramos en cualquier circuito eléctrico sencillo,\n",
        "tales como resistencias, **condensadores**, **bobinas**, **interruptores**, **hilos** y **fuentes** de alimentación.\n",
        "Para distinguir uno de otro, se reserva una letra característica: `V` para fuentes de alimentación, `R` para resistencias, `C` para condensadores y `L` para bobinas. También es posible usar estas letras en su versión en minúscula (`r`, `v`, `c`, `l`, etc.).\n",
        "Después de esta letra característica se puede sufijar cualquier texto para diferenciar un elemento de otro (números, letras, palabras, etc.). Ejemplo:\n",
        "\n",
        "```\n",
        "* Una resistencia\n",
        "R1\n",
        "*  Otra resistencia\n",
        "R2\n",
        "* Fuente de alimentación\n",
        "V\n",
        "* Un condensador\n",
        "Cprincipal\n",
        "```\n",
        "\n",
        "## Conexiones\n",
        "A continuación de indicar el elemento eléctrico, tenemos que informar a Spice cuáles\n",
        "son los puntos de unión tanto a un lado como al otro del elemento.\n",
        "Así es como Spice sabe qué está conectado a qué: porque comparten un **punto**\n",
        "(o **nodo**, aunque este término se reserva sobretodo a uniones de más de dos elementos)\n",
        "que hemos señalizado correctamente. Para nombrar nodos, lo mejor es emplear una\n",
        "numeración secuencial: 0...n. **La enumeración de los puntos de unión es completamente\n",
        "a nuestro criterio**.\n",
        "\n",
        "```\n",
        "* Una resistencia\n",
        "* entre cables 0 y 1\n",
        "R1 0 1\n",
        "```\n",
        "\n",
        "**Sólo es necesario seguir un criterio**: en el caso de una\n",
        "fuente de alimentación, el nodo que pondremos primero será\n",
        "aquel que está más cerca del *borne* positivo. Ejemplo:\n",
        "\n",
        "```spice\n",
        "* Para una fuente indicamos primeramente conexión a nodo positivo.\n",
        "v 2 3 type=vdc vdc=1\n",
        "```\n",
        "\n",
        "En el *caso de LTspice* no es necesario indicar los parámetros `type=vdc` y `vdc=X`, sino que si no se especifica nada, se supone que el último valor es el del voltaje a corriente continua:\n",
        "\n",
        "```spice\n",
        "* Especificación de una fuente de alimentación de 10 V en corrient continua en el caso de LTspice\n",
        "v 0 1 10\n",
        "```\n",
        "\n",
        "Aquí tienes un ejemplo gráfico de los componentes comentados justo arriba (resistencia y voltaje):\n",
        "\n",
        "![](https://raw.githubusercontent.com/pammacdotnet/spicelab/master/resistencia%20y%20pila%20con%20nodos.svg?sanitize=true)\n",
        "\n",
        "## Unidades en SPICE\n",
        "\n",
        "Las unidades de las magnitudes características del circuito son siempre [unidades\n",
        "del Sistema Internacional](https://en.wikipedia.org/wiki/SI_electromagnetism_units) y no es necesario indicarlo explícitamente en el netlist.\n",
        "\n",
        "La forma de especificar múltiplos de estas cantidades es añadiendo una letra.\n",
        "Básicamente las que nos interesan y las que suelen aparecer mayoritariamente son `k` para \"kilo-,\" `m` para \"mili?\" y `u` para \"micro?\".\n",
        "\n",
        "> **Pregunta:** Crea una tabla en Markdown con todos los prefijos de múltiplos que puedas, su abreviatura y su equivalencia numérica.\n",
        "\n",
        "> Dividimos los prefijos en dos tipos: múltiplos y submúltiplos\n",
        "\n",
        "> Múltiplos\n",
        "\n",
        "> | Símbolo | Prefijo | Equivalencia numérica |\n",
        "> | ---------- | --------  | ---------------- |\n",
        "> |   da   |   deca   |    $$ 10^{1} $$   |\n",
        "> |   h   |   hecto   |   $$ 10^{2} $$   |\n",
        "> |   k   |   kilo   |   $$ 10^{3} $$   |\n",
        "> |   M   |   mega   |   $$ 10^{6} $$   |\n",
        "> |   G   |   giga   |   $$ 10^{9} $$   |\n",
        "> |   T   |   tera   |   $$ 10^{12} $$   |\n",
        "> |   P   |   peta   |   $$ 10^{15} $$   |\n",
        "> |   E   |   exa   |   $$ 10^{18} $$   |\n",
        "\n",
        "\n",
        "> Submúltiplos \n",
        "\n",
        "> | Símbolo | Prefijo | Equivalencia numérica |\n",
        "> | ---------- | --------  | ---------------- |\n",
        "> | d | deci | $$10^{-1}$$ |\t\n",
        "> | c | centi | $$10^{-2}$$ |\t\n",
        "> | m | mili | $$10^{-3}$$ |\t\n",
        "> | µ | micro | $$10^{-6}$$ |\t\n",
        "> | n | nano | $$10^{-9}$$ |\t\n",
        "> | p | pico | $$10^{-12}$$ |\t\n",
        "> | f | femto | $$10^{-15}$$ |\t\n",
        "> | a | atto | $$10^{-18}$$ |\t\n",
        "\n",
        "En el caso de las fuentes de alimentación hemos de especificar si se trata de corriente contínua (`vdc`) o alterna (`ac`).\n",
        "\n",
        "```\n",
        "* Una resistencia de 5 Ohmios\n",
        "R2 1 0 5\n",
        "* Una pila de 10 Voltios (continua)\n",
        "V1 1 0 type=vdc vdc=10\n",
        "* Una resistencia de 5 kΩ\n",
        "RX 2 4 5k\n",
        "```\n",
        "\n",
        "> **Pregunta**: ¿qué unidades del Sistema Internacional relacionadas con la asignatura –y los circuitos en general– conoces? Responde aquí mismo en una celda de Markdown con una tabla.\n",
        "\n",
        "> | Unidad  | Símbolo       | Unidades básicas |\n",
        "> | ---------- | --------  | ---------------- |\n",
        "> | coulomb | $$\\mathrm{C}$$  | $$\\mathrm{A⋅s}$$ | \n",
        "> | ampere\t| $$\\mathrm{A}$$\t| $$\\mathrm{A (= W/V = C/s)}$$ |\n",
        "> | volt\t| $$\\mathrm{V}$$\t| $$\\mathrm{J/C = kg⋅m^{2}⋅s^{−3}⋅A^{−1}}$$ |\n",
        "> | ohm\t\t| $$\\mathrm{Ω}$$  | $$\\mathrm{V/A = kg⋅m^{2}⋅s^{−3}⋅A^{−2}}$$ |\n",
        "> | watt\t| $$\\mathrm{W}$$\t| $$\\mathrm{V⋅A = kg⋅m^{2}⋅s^{−3}}$$ |\n",
        "> | farad\t| $$\\mathrm{F}$$\t| $$\\mathrm{C/V = kg^{−1}⋅m^{−2}⋅A^2⋅s^4}$$ |\n",
        "\n",
        "\n",
        "## Valores iniciales\n",
        "\n",
        "Aparecen justo al final de la definición del componente (`ic`). Suelen aplicarse principalmente con condensadores.\n",
        "\n",
        "```\n",
        "* Una condensador inicialmente no cargado\n",
        "c 1 0 1u ic=0\n",
        "```\n",
        "\n",
        "## Fin del circuito\n",
        "\n",
        "El fin de la descripción de un netlist se especifica mediante el\n",
        "comando `.end`.\n",
        "\n",
        "```spice\n",
        "* Mi primer circuito\n",
        "V 1 0 vdc=10 type=vdc\n",
        "R 1 0 5\n",
        "* Fin del circuito\n",
        ".end\n",
        "```\n",
        "\n",
        "\n",
        "## Comandos SPICE para circuitos en corriente continua\n",
        "\n",
        "Además de la descripción del circuito, hemos de indicar al intérprete de Spice qué\n",
        "tipo de análisis queremos realizar en sobre el mismo y cómo queremos presentar\n",
        "la salida de la simulación. Los comandos en Spice empiezan por un `.` y suelen\n",
        "escribirse justo al final del circuito, pero antes del comando `.end`.\n",
        "\n",
        "```\n",
        "Mi primer circuito\n",
        "* Aquí van los componentes\n",
        "R 1 0 6k\n",
        "...\n",
        "* Comandos\n",
        ".op\n",
        "...\n",
        "* Fin del circuito\n",
        ".end\n",
        "```\n",
        "\n",
        "> **Pregunta**: Hasta lo que has visto del lenguaje Spice, ¿dentro de qué tipo o conjunto de lenguajes encajaría? ¿Funcionales? ¿Específicos de dominio? ¿Procedurales? ¿Estructurados? ¿Orientado a Objetos ¿Funcionales? Justifica tu respuesta. \n",
        "\n",
        ">> SPICE encaja dentro de los lenguajes específicos de dominio. El motivo es que nos es un lenguaje que se utilice fuera del estandar marcado para el diseño y análisis de de los circuitos, es decir no tiene sentido utilizar fuera del ámbito de los circuitos.\n",
        "\n",
        "\n",
        "Veamos los principales comandos de simulación:\n",
        "\n",
        "- `.op` es el comando más sencillo que podemos emplear en. Devuelve el voltaje e intensidad en cada ramal y componente del circuito. Este comando no necesita parámetros.\n",
        "- `.dc` es uy parecido al comando `.op` pero nos permite cambiar el valor del voltaje de una fuente de alimentación en pasos consecutivos entre el valor A y el valor B.\n",
        "En el caso de que la fuente tuviera asignada ya un valor para su voltaje, este sería ignorado. Ejemplo:\n",
        "\n",
        "\n",
        "```spice\n",
        "* Variamos el valor del voltaje\n",
        "* de la fuente \"v\" de 1 a 1000\n",
        "* en pasos de 5 voltios\n",
        "v 1 0 type=vdc vdc=10\n",
        ".dc v 1 start=1 stop=1000 step=20\n",
        "v2a 2 4 type=vdc vdc=9\n",
        "* Igual para v2a. Se ignora su voltaje de 9V\n",
        ".dc v2a start=0 stop=10 step=2\n",
        "```\n",
        "\n",
        "- El comando `.tran` realiza un análisis en el tiempo de los parámetros del\n",
        "circuito. Si no se emplea la directiva `uic` (*use initial conditions*) o esta es igual a cero, este análisis se realiza desde el punto estable de funcionamiento del circuito hasta un tiempo `tfinal`.\n",
        "y en intervalos `tstep`. Si empleamos un valor distinto para parámetro `uic`,\n",
        "entonces se hará uso de las condiciones iniciales definidas para cada componente\n",
        "(típicamente `ic=X` en el caso de los condensadores, que da cuenta de la carga incial que estos pudieran tener).\n",
        "\n",
        "\n",
        "```\n",
        "* Hacemos avanzar el tiempo entre\n",
        "* tinicial y tfinal en pasos tstep\n",
        ".tran tstart=X tstop=Y tstep=Z uic=0/1/2/3\n",
        "```\n",
        "\n",
        "`X`, `Y` y `Z` tienen, evidentemente unidades de tiempo en el S.I. (segundos).\n",
        "\n",
        "> **Pregunta**: El parámetro `uic` puede tener varios valores y cada uno significa una cosa. Detállalo usando un celda Markdown y consultando la [documentación de Ahkab](https://buildmedia.readthedocs.org/media/pdf/ahkab/latest/ahkab.pdf).\n",
        "\n",
        "\n",
        ">> UIC (Usar condiciones iniciales): se usa para especificar el estado del circuito en el momento nodo/point inicial. Los valores disponibles son 0, 1, 2 o 3.\n",
        ">> - uic=0: se supondrá que todos los voltajes y corrientes de los nodos a través de las fuentes v/h/e/ son cero en el nodo/point inicial\n",
        ">> - uic=1: el estado en el nodo/point inicial es el último resultado de un análisis OP. \n",
        ">> - uic=2: el estado en el nodo/point inicial es el último resultado de un análisis OP en el que se establecen los valores de las corrientes a través de inductores y voltajes en los condensadores especificados en su .ic. Esto se hace de manera muy aproximada, se recomienda verificar los resultados.\n",
        ">> - uic=3: Cargue un ic proporcionado por el usuario. Esto requiere una directiva .ic en algún lugar de la lista de red, y el nombre .ic y ic_label deben coincidir.\n",
        "\n",
        "\n",
        "## Intérprete SPICE que vamos a usar: Ahkab\n",
        "Tras un estándar siempre hay una o varias implementaciones. Ahkab no deja de ser una implementación más en Python del estándar Spice.\n",
        "> **Pregunta:** Comenta las distintas implementaciones de lenguajes y estándares que conozcas. Hazlo usando una tabla en Markdown. [Aquí](https://www.markdownguide.org/extended-syntax/#tables) tienes un poco de ayuda (aunque antes ya se ha puesto el ejemplo de una tabla).\n",
        "\n",
        "> | Lenguaje  | Implementaciones  | \n",
        "> | ---------- | --------  | \n",
        "> | C# | Microsoft .NET, Microsoft .NET Core  | \n",
        "> | Java | OpenJDK, HotSpot |\n",
        "> | JavaScript | SpiderMonkey, Rhino, KJS, JavaScriptCore, V8, Chakra. |\n",
        "> | PHP | Motor Zend, HHVM, Phalanger, Quercus, Project Zero, Parrot |\n",
        "> | Swift | Cocoa y Cocoa Touch |\n",
        "\n",
        "> **Pregunta:** Describe brevemente este software (creador, objetivos, versiones, licencia, características principales, dependencias, etc.).\n",
        "\n",
        ">> El creador de Ahkab fue Giuseppe G. Venturini, un apasionado del diseño de los circuitos, la modulación delta-signma, los libros y su perro. En esta foto aparece con su mascota\n",
        "que tal como comenta es su fiel amigo.\n",
        "giuseppe.jpeg\n",
        "\n",
        ">> ![](imagenes/avatares/giuseppe.jpg?style=avatar_autor)\n",
        "\n",
        ">> Giuseppe tenía dos facetas profesionales  por un lado trabajo en dos proyectos Open-source:\n",
        ">> - como sabemos Ahkab \n",
        ">> - también desarrollo [python-deltasigma](https://github.com/ggventurini/python-deltasigma)\n",
        "\n",
        ">> por otro lado es ingeniero electrónico, está licenciado y estuvo estudiando para sacarse un doctorado en microelectrónica.\n",
        ">> Estas son una serie de publicaciones que realizó:\n",
        ">> - G. Venturini, F. Anghinolfi, B. Dehning, F. Krummenacher, M. Kayal, A 120dB dynamic-range radiation-tolerant charge-to-digital converter for radiation monitoring, Microelectronics Journal, Volume 44, Issue 12, December 2013, Pages 1302-1308.\n",
        ">> - G. Venturini et al., “Characterization of a wide dynamic-range, radiation-tolerant charge-digitizer ASIC for monitoring of beam losses”, In International Beam Instrumentation Conference, IBIC2012, Tsukuba, Japan, Oct 1-4, 2012.\n",
        ">> - G. Venturini et al., “Design of radiation-tolerant wide dynamic-range charge-to-digital converters for ionization chambers and diamond detectors”, In Topical Workshop on Electronics for Particle Physics, TWEPP 2012, 17-21 September, Oxford University, UK.\n",
        ">> - G. Venturini et al., “A 20-bit dynamic range CMOS A/D converter for ionization chambers”, Presented at PRIME 2011, 3-7 July 2011.\n",
        "\n",
        ">> Como objetivos de Ahkab podemos destacar los siguientes:\n",
        ">> - Ayudar al simulador a ver con mayor claridad lo que sucede con las simulaciones que realice. Por ello permite imprimir los resultados en formato de matriz para poder graficar con los resultados de manera sencilla e intuitiva.\n",
        ">> - Experimentar, como es de código abierto permite a cualquier persona aportar sus ideas o desarrollos.\n",
        ">> - Divertirse haciendo circuitos, al final el hecho de hacer simulaciones de circuitos no tiene por que ser aburrido, Ahkab ayuda a que sea más ameno incluso divertido.\n",
        "\n",
        ">> En cuanto al tipo de licencia es [GPL2](https://www.gnu.org/licenses/old-licenses/gpl-2.0.html).  \n",
        "\n",
        ">> Ahkab no pudo llegar a publicar la versión 1.0 (Normalmente suele ser una versión estable), su última versión es [0.18](https://github.com/ahkab/ahkab/releases) del año 12 de Julio del 2015. Al final al fallecer Giuseppe no pudo llegar a tener la versión 1.0, sacó 18 releases desde el 30 de Mayo del 2014 hasta el 12 de Julio del 2015.\n",
        "\n",
        ">> Exiten dos maneras de trabajar con la implementación de Akhab en Python:\n",
        ">> - Escribiendo el diseño de los circuitos y definiendo los análisis que queremos hacer en un fichero de texto con extensión .sp y después parseándolo con Akhab.\n",
        ">> - Akhab aprovecha de Python la orientación a Objetos y permite crear instancias de diferentes clases diseñadas. Por ejemplo, [permite crear la instancia a un objeto Circuit y después agregarle los diferentes componentes de la simulación de un circuito](https://ahkab.readthedocs.io/en/latest/examples/Simple_OP.html):\n",
        ">>      - Voltajes\n",
        ">>      - Resistores para aplicar una resistencia a la corriente.    \n",
        ">>      - Condensadores\n",
        ">>      - etc.\n",
        "\n",
        "# Trabajo práctico\n",
        "Muy bien, ahora toca definir circuitos y ejecutar simulaciones sobre los mismos gracias a Ahkab.\n",
        "## Instalación de bibliotecas necesarias\n",
        "Si estás utilizando Anaconda, asegúrate de tener su entorno activado:\n",
        "\n",
        "```cmd\n",
        "C:\\> conda activate base (en el caso de Windows)\n",
        "```\n",
        "ó\n",
        "\n",
        "```bash\n",
        "$ source /usr/local/Caskroom/miniconda/base/bin/activate (en el caso de macOS)\n",
        "```\n",
        "\n",
        "En el caso de Windows tienes que tener en el PATH el directorio donde se encuentre el comando `conda` (visita la sección de [Environment Variables](https://superuser.com/questions/949560/how-do-i-set-system-environment-variables-in-windows-10) del [Panel de Control](https://www.digitalcitizen.life/8-ways-start-control-panel-windows-10)). Si has instalado Anaconda con [esta opción](https://docs.anaconda.com/_images/win-install-options.png) marcada, ya no tienes que preocuparte por ello. \n",
        "\n",
        "En el caso de usar Visual Studio Code, este puede encontrar automáticamente la distintas distribuciones de Python que tengamos instaladas y si abrimos un terminal, este se adaptará automáticamente al entorno Python que hayamos seleccionado. La configuración de Python en VS Code está bien explicada su [documentación](https://code.visualstudio.com/docs/python/python-tutorial).\n",
        "\n",
        "![](https://raw.githubusercontent.com/microsoft/vscode-python/main/images/InterpreterSelectionZoom.gif)\n",
        "\n",
        "Ahora ya puedes instalar Ahkab:\n",
        "\n",
        "```\n",
        "(base) $ pip install ahkab\n",
        "``` "
      ],
      "cell_type": "markdown",
      "metadata": {}
    },
    {
      "source": [
        "También puedes instalar Ahkab directamente desde este mismo notebook:"
      ],
      "cell_type": "markdown",
      "metadata": {}
    },
    {
      "cell_type": "code",
      "execution_count": 1,
      "metadata": {},
      "outputs": [
        {
          "output_type": "stream",
          "name": "stdout",
          "text": [
            "Requirement already satisfied: ahkab in /Users/Alberto/opt/anaconda3/lib/python3.7/site-packages (0.18)\n",
            "Requirement already satisfied: tabulate>=0.7.3 in /Users/Alberto/opt/anaconda3/lib/python3.7/site-packages (from ahkab) (0.8.7)\n",
            "Requirement already satisfied: numpy>1.7.0 in /Users/Alberto/opt/anaconda3/lib/python3.7/site-packages (from ahkab) (1.17.2)\n",
            "Requirement already satisfied: sympy>=0.7.6 in /Users/Alberto/opt/anaconda3/lib/python3.7/site-packages (from ahkab) (1.6.2)\n",
            "Requirement already satisfied: scipy>=0.14.0 in /Users/Alberto/opt/anaconda3/lib/python3.7/site-packages (from ahkab) (1.3.1)\n",
            "Requirement already satisfied: mpmath>=0.19 in /Users/Alberto/opt/anaconda3/lib/python3.7/site-packages (from sympy>=0.7.6->ahkab) (1.1.0)\n"
          ]
        }
      ],
      "source": [
        "!pip install ahkab"
      ]
    },
    {
      "source": [
        "\n",
        " Como siempre, una vez instalado cualquier framework para Python, ya lo podemos utilizar, tanto desde el [REPL](https://en.wikipedia.org/wiki/Read–eval–print_loop) como desde un entorno Jupyter (Jupyter, [Jupyterlab](http://jupyterlab.readthedocs.io/en/stable/), VS Code o nteract). Recuerda que para usar el kernel Python (que viene con Anaconda) desde nteract debes seguir las instrucciones que se indican en su [documentación oficial](https://nteract.io/kernels). "
      ],
      "cell_type": "markdown",
      "metadata": {}
    },
    {
      "source": [
        "Como vamos a pintar algunas gráficas, necesitamos instlar [matplotlib](https://matplotlib.org). Al igual que con Ahkab, esto lo podemos hacer directamente desde este mismo notebook. Si hemos usado Anaconda: "
      ],
      "cell_type": "markdown",
      "metadata": {}
    },
    {
      "cell_type": "code",
      "execution_count": 2,
      "metadata": {},
      "outputs": [
        {
          "output_type": "stream",
          "name": "stdout",
          "text": [
            "Collecting package metadata (current_repodata.json): done\n",
            "Solving environment: done\n",
            "\n",
            "# All requested packages already installed.\n",
            "\n"
          ]
        }
      ],
      "source": [
        "!conda install -y -c conda-forge matplotlib"
      ]
    },
    {
      "cell_type": "code",
      "source": [
        "import pylab as plt\n",
        "import ahkab"
      ],
      "outputs": [
        {
          "output_type": "stream",
          "name": "stderr",
          "text": [
            "W: Locale appears not set! please export LANG=\"en_US.UTF-8\" or equivalent, \nW: or ahkab's unicode support is broken.\n"
          ]
        }
      ],
      "execution_count": 3,
      "metadata": {
        "execution": {
          "iopub.status.busy": "2020-12-04T16:31:38.592Z",
          "iopub.execute_input": "2020-12-04T16:31:38.612Z",
          "iopub.status.idle": "2020-12-04T16:31:44.372Z",
          "shell.execute_reply": "2020-12-04T16:31:44.448Z"
        }
      }
    },
    {
      "cell_type": "markdown",
      "source": [
        " > **Pregunta:** ¿Qué es y para qué sirve PyLab?\n",
        "\n",
        " ## Circuitos sencillos para trabjar con la ley de Ohm:\n",
        "\n",
        " La *mal llamada* ley de Ohm reza que el voltaje (la *energía por unidad de carga*) que se disipa en un tramo de un circuito eléctrico es equivalente a la intensidad ($I$) de la corriente (es decir, cuántos electrones circulan por unidad de tiempo) por la resistencia del material ($R$) en el que está desplazándose dicha corriente. Matemáticamente:\n",
        "\n",
        " $$\n",
        " V = I\\cdot R\n",
        " $$\n",
        "\n",
        " > **Pregunta:** comprueba que la ecuación anterior está ajustada a nivel dimensional, es decir, que la naturaleza de lo que está a ambos lados del signo igual es la misma. Realiza este ejercicio con LaTeX en una celda Markdown.\n",
        "\n",
        " Comencemos con el circuito más sencillo posible de todos:\n",
        "\n",
        " ![](https://raw.githubusercontent.com/pammacdotnet/spicelab/master/primer%20circuito.svg?sanitize=true)\n",
        "\n",
        " Vamos a escribir su contenido (componentes o *netlist*) en disco con el nombre `circuito sencillo.sp`. Esto lo podemos lograr directamente y en tiempo real desde una celda de Jupyter gracias a los *comandos mágicos* de este entorno de programación literaria. En concreto vamos a utilizar `%%writefile` que guarda los contenidos de una celda como un fichero. "
      ],
      "metadata": {}
    },
    {
      "cell_type": "code",
      "source": [
        "%%writefile \"circuito sencillo.sp\"\n",
        "* Este es un circuito sencillo\n",
        "r1 1 0 10\n",
        "v1 0 1 type=vdc vdc=9\n",
        ".op\n",
        ".dc v1 start=0 stop=9 step=1\n",
        ".end"
      ],
      "outputs": [
        {
          "output_type": "stream",
          "name": "stdout",
          "text": [
            "Writing circuito sencillo.sp\n"
          ]
        }
      ],
      "execution_count": 4,
      "metadata": {
        "execution": {
          "iopub.status.busy": "2020-12-04T16:31:49.729Z",
          "iopub.execute_input": "2020-12-04T16:31:49.743Z",
          "iopub.status.idle": "2020-12-04T16:31:49.773Z",
          "shell.execute_reply": "2020-12-04T16:31:49.784Z"
        }
      }
    },
    {
      "cell_type": "markdown",
      "source": [
        "Ahora vamos a leer su descripción con Ahkab, interpretar y ejecutar las simulaciones que en él estén descritas."
      ],
      "metadata": {}
    },
    {
      "cell_type": "code",
      "source": [
        "circuito_y_análisis = ahkab.netlist_parser.parse_circuit('circuito sencillo.sp')"
      ],
      "outputs": [],
      "execution_count": 5,
      "metadata": {
        "execution": {
          "iopub.status.busy": "2020-12-04T16:31:53.003Z",
          "iopub.execute_input": "2020-12-04T16:31:53.016Z",
          "iopub.status.idle": "2020-12-04T16:31:53.038Z",
          "shell.execute_reply": "2020-12-04T16:31:53.050Z"
        }
      }
    },
    {
      "cell_type": "markdown",
      "source": [
        " Separamos la información del netlist (componentes) de los análisis (uno de tipo `op` y otro de tipo `dc`):"
      ],
      "metadata": {}
    },
    {
      "cell_type": "code",
      "source": [
        "circuito = circuito_y_análisis[0]\n",
        "análisis_en_netlist = circuito_y_análisis[1]\n",
        "lista_de_análisis = ahkab.netlist_parser.parse_analysis(circuito, análisis_en_netlist)\n",
        "print(lista_de_análisis)\n"
      ],
      "outputs": [
        {
          "output_type": "stream",
          "name": "stdout",
          "text": [
            "[{'type': 'op', 'guess': True, 'x0': None}, {'type': 'dc', 'source': 'v1', 'start': 0.0, 'stop': 9.0, 'step': 1.0, 'sweep_type': 'LIN'}]\n"
          ]
        }
      ],
      "execution_count": 6,
      "metadata": {
        "execution": {
          "iopub.status.busy": "2020-12-04T16:32:03.807Z",
          "iopub.execute_input": "2020-12-04T16:32:03.818Z",
          "iopub.status.idle": "2020-12-04T16:32:03.844Z",
          "shell.execute_reply": "2020-12-04T16:32:03.856Z"
        }
      }
    },
    {
      "cell_type": "markdown",
      "source": [
        "> **Pregunta:** ¿qué tipo de estructura de Python es `lista_de_análisis`?\n",
        "\n",
        " Las simulaciones que implican listas de datos (`.dc`, `.tran`, etc.) necesitan de un fichero temporal (`outfile`)\n",
        " donde almacenar los resultados. Para ello tenemos que definir la propiedad `outfile`."
      ],
      "metadata": {}
    },
    {
      "cell_type": "code",
      "source": [
        "lista_de_análisis[1]['outfile'] = \"simulación dc.tsv\"\n"
      ],
      "outputs": [],
      "execution_count": 7,
      "metadata": {
        "execution": {
          "iopub.status.busy": "2020-12-04T16:32:06.517Z",
          "iopub.execute_input": "2020-12-04T16:32:06.529Z",
          "iopub.status.idle": "2020-12-04T16:32:06.547Z",
          "shell.execute_reply": "2020-12-04T16:32:06.559Z"
        }
      }
    },
    {
      "cell_type": "markdown",
      "source": [
        " > **Pregunta:** escribe el código Python necesario para identificar qué análisis de `lista_de_análisis`\n",
        " son de tipo `dc` ó `tran` y sólo añadir la propiedad `outfile` en estos casos.\n",
        "Aquí tenéis un post de Stackoverflow con algo de [ayuda](https://stackoverflow.com/questions/49194107/how-to-find-index-of-a-dictionary-key-value-within-a-list-python).\n",
        " Un poco más de ayuda: el siguiente código (sí, una única línea) devuelve el índice de la simulación que es de tipo `dc`. Para simplificar un poco el ejercicio, suponed que, como máximo, habrá un análisis de tipo `tran` y/o `dc`."
      ],
      "metadata": {}
    },
    {
      "cell_type": "code",
      "source": [
        "[i for i, d in enumerate(lista_de_análisis) if \"dc\" in d.values()][0] "
      ],
      "outputs": [
        {
          "output_type": "execute_result",
          "data": {
            "text/plain": [
              "1"
            ]
          },
          "metadata": {},
          "execution_count": 8
        }
      ],
      "execution_count": 8,
      "metadata": {}
    },
    {
      "cell_type": "markdown",
      "source": [
        "Una vez que ya hemos separado netlists de simulaciones, ahora ejecutamos las segundas (¡todas a la vez!) gracias al método `.run` de Ahkab: "
      ],
      "metadata": {}
    },
    {
      "cell_type": "code",
      "source": [
        "resultados = ahkab.run(circuito, lista_de_análisis)"
      ],
      "outputs": [
        {
          "output_type": "stream",
          "name": "stdout",
          "text": [
            "Starting op analysis:\n",
            "Calculating guess: skipped. (linear circuit)\n",
            "Solving...   done.\n",
            "Solving...   done.\n",
            "Difference check within margins.\n",
            "(Voltage: er=0.001, ea=1e-06, Current: er=0.001, ea=1e-09)\n",
            "Starting DC analysis:\n",
            "Solving...  done\n"
          ]
        }
      ],
      "execution_count": 9,
      "metadata": {}
    },
    {
      "cell_type": "markdown",
      "source": [
        "### Resultados de la simulación `.dc`\n",
        "Imprimimos información sobre la simulación de tipo `.dc`:"
      ],
      "metadata": {}
    },
    {
      "cell_type": "code",
      "source": [
        "print(resultados['dc'])"
      ],
      "outputs": [
        {
          "output_type": "stream",
          "name": "stdout",
          "text": [
            "<DC simulation results for '* este es un circuito sencillo' (netlist circuito sencillo.sp). LIN sweep of V1 from 0 to 9 V. Run on 2020-12-10 20:54:39, data file simulación dc.tsv>\n"
          ]
        }
      ],
      "execution_count": 10,
      "metadata": {}
    },
    {
      "cell_type": "markdown",
      "source": [
        " Veamos qué variables podemos dibujar para el caso del análisis `dc`."
      ],
      "metadata": {}
    },
    {
      "cell_type": "code",
      "source": [
        "print(resultados['dc'].keys())"
      ],
      "outputs": [
        {
          "output_type": "stream",
          "name": "stdout",
          "text": [
            "['V1', 'V1', 'I(V1)']\n"
          ]
        }
      ],
      "execution_count": 11,
      "metadata": {}
    },
    {
      "cell_type": "markdown",
      "source": [
        "Y ahora graficamos el resultado del análisis anterior. Concretamente vamos a representar el voltaje en el borne 1 (`V1`) con respecto a la intensidad del circuito (`I(V1)`)."
      ],
      "metadata": {}
    },
    {
      "cell_type": "code",
      "source": [
        "figura = plt.figure()\n",
        "plt.title(\"Prueba DC\")\n",
        "plt.plot(resultados['dc']['V1'], resultados['dc']['I(V1)'], label=\"Voltaje (V1)\")"
      ],
      "outputs": [
        {
          "output_type": "execute_result",
          "data": {
            "text/plain": [
              "[<matplotlib.lines.Line2D at 0x1c20d3cdd0>]"
            ]
          },
          "metadata": {},
          "execution_count": 12
        },
        {
          "output_type": "display_data",
          "data": {
            "text/plain": "<Figure size 432x288 with 1 Axes>",
            "image/svg+xml": "<?xml version=\"1.0\" encoding=\"utf-8\" standalone=\"no\"?>\n<!DOCTYPE svg PUBLIC \"-//W3C//DTD SVG 1.1//EN\"\n  \"http://www.w3.org/Graphics/SVG/1.1/DTD/svg11.dtd\">\n<!-- Created with matplotlib (https://matplotlib.org/) -->\n<svg height=\"264.604062pt\" version=\"1.1\" viewBox=\"0 0 382.911094 264.604062\" width=\"382.911094pt\" xmlns=\"http://www.w3.org/2000/svg\" xmlns:xlink=\"http://www.w3.org/1999/xlink\">\n <defs>\n  <style type=\"text/css\">\n*{stroke-linecap:butt;stroke-linejoin:round;}\n  </style>\n </defs>\n <g id=\"figure_1\">\n  <g id=\"patch_1\">\n   <path d=\"M 0 264.604062 \nL 382.911094 264.604062 \nL 382.911094 0 \nL 0 0 \nz\n\" style=\"fill:none;\"/>\n  </g>\n  <g id=\"axes_1\">\n   <g id=\"patch_2\">\n    <path d=\"M 40.911094 239.758125 \nL 375.711094 239.758125 \nL 375.711094 22.318125 \nL 40.911094 22.318125 \nz\n\" style=\"fill:#ffffff;\"/>\n   </g>\n   <g id=\"matplotlib.axis_1\">\n    <g id=\"xtick_1\">\n     <g id=\"line2d_1\">\n      <defs>\n       <path d=\"M 0 0 \nL 0 3.5 \n\" id=\"mba591b3da5\" style=\"stroke:#000000;stroke-width:0.8;\"/>\n      </defs>\n      <g>\n       <use style=\"stroke:#000000;stroke-width:0.8;\" x=\"56.129276\" xlink:href=\"#mba591b3da5\" y=\"239.758125\"/>\n      </g>\n     </g>\n     <g id=\"text_1\">\n      <!-- 0 -->\n      <defs>\n       <path d=\"M 31.78125 66.40625 \nQ 24.171875 66.40625 20.328125 58.90625 \nQ 16.5 51.421875 16.5 36.375 \nQ 16.5 21.390625 20.328125 13.890625 \nQ 24.171875 6.390625 31.78125 6.390625 \nQ 39.453125 6.390625 43.28125 13.890625 \nQ 47.125 21.390625 47.125 36.375 \nQ 47.125 51.421875 43.28125 58.90625 \nQ 39.453125 66.40625 31.78125 66.40625 \nz\nM 31.78125 74.21875 \nQ 44.046875 74.21875 50.515625 64.515625 \nQ 56.984375 54.828125 56.984375 36.375 \nQ 56.984375 17.96875 50.515625 8.265625 \nQ 44.046875 -1.421875 31.78125 -1.421875 \nQ 19.53125 -1.421875 13.0625 8.265625 \nQ 6.59375 17.96875 6.59375 36.375 \nQ 6.59375 54.828125 13.0625 64.515625 \nQ 19.53125 74.21875 31.78125 74.21875 \nz\n\" id=\"DejaVuSans-48\"/>\n      </defs>\n      <g transform=\"translate(52.629901 255.116406)scale(0.11 -0.11)\">\n       <use xlink:href=\"#DejaVuSans-48\"/>\n      </g>\n     </g>\n    </g>\n    <g id=\"xtick_2\">\n     <g id=\"line2d_2\">\n      <g>\n       <use style=\"stroke:#000000;stroke-width:0.8;\" x=\"123.765639\" xlink:href=\"#mba591b3da5\" y=\"239.758125\"/>\n      </g>\n     </g>\n     <g id=\"text_2\">\n      <!-- 2 -->\n      <defs>\n       <path d=\"M 19.1875 8.296875 \nL 53.609375 8.296875 \nL 53.609375 0 \nL 7.328125 0 \nL 7.328125 8.296875 \nQ 12.9375 14.109375 22.625 23.890625 \nQ 32.328125 33.6875 34.8125 36.53125 \nQ 39.546875 41.84375 41.421875 45.53125 \nQ 43.3125 49.21875 43.3125 52.78125 \nQ 43.3125 58.59375 39.234375 62.25 \nQ 35.15625 65.921875 28.609375 65.921875 \nQ 23.96875 65.921875 18.8125 64.3125 \nQ 13.671875 62.703125 7.8125 59.421875 \nL 7.8125 69.390625 \nQ 13.765625 71.78125 18.9375 73 \nQ 24.125 74.21875 28.421875 74.21875 \nQ 39.75 74.21875 46.484375 68.546875 \nQ 53.21875 62.890625 53.21875 53.421875 \nQ 53.21875 48.921875 51.53125 44.890625 \nQ 49.859375 40.875 45.40625 35.40625 \nQ 44.1875 33.984375 37.640625 27.21875 \nQ 31.109375 20.453125 19.1875 8.296875 \nz\n\" id=\"DejaVuSans-50\"/>\n      </defs>\n      <g transform=\"translate(120.266264 255.116406)scale(0.11 -0.11)\">\n       <use xlink:href=\"#DejaVuSans-50\"/>\n      </g>\n     </g>\n    </g>\n    <g id=\"xtick_3\">\n     <g id=\"line2d_3\">\n      <g>\n       <use style=\"stroke:#000000;stroke-width:0.8;\" x=\"191.402003\" xlink:href=\"#mba591b3da5\" y=\"239.758125\"/>\n      </g>\n     </g>\n     <g id=\"text_3\">\n      <!-- 4 -->\n      <defs>\n       <path d=\"M 37.796875 64.3125 \nL 12.890625 25.390625 \nL 37.796875 25.390625 \nz\nM 35.203125 72.90625 \nL 47.609375 72.90625 \nL 47.609375 25.390625 \nL 58.015625 25.390625 \nL 58.015625 17.1875 \nL 47.609375 17.1875 \nL 47.609375 0 \nL 37.796875 0 \nL 37.796875 17.1875 \nL 4.890625 17.1875 \nL 4.890625 26.703125 \nz\n\" id=\"DejaVuSans-52\"/>\n      </defs>\n      <g transform=\"translate(187.902628 255.116406)scale(0.11 -0.11)\">\n       <use xlink:href=\"#DejaVuSans-52\"/>\n      </g>\n     </g>\n    </g>\n    <g id=\"xtick_4\">\n     <g id=\"line2d_4\">\n      <g>\n       <use style=\"stroke:#000000;stroke-width:0.8;\" x=\"259.038366\" xlink:href=\"#mba591b3da5\" y=\"239.758125\"/>\n      </g>\n     </g>\n     <g id=\"text_4\">\n      <!-- 6 -->\n      <defs>\n       <path d=\"M 33.015625 40.375 \nQ 26.375 40.375 22.484375 35.828125 \nQ 18.609375 31.296875 18.609375 23.390625 \nQ 18.609375 15.53125 22.484375 10.953125 \nQ 26.375 6.390625 33.015625 6.390625 \nQ 39.65625 6.390625 43.53125 10.953125 \nQ 47.40625 15.53125 47.40625 23.390625 \nQ 47.40625 31.296875 43.53125 35.828125 \nQ 39.65625 40.375 33.015625 40.375 \nz\nM 52.59375 71.296875 \nL 52.59375 62.3125 \nQ 48.875 64.0625 45.09375 64.984375 \nQ 41.3125 65.921875 37.59375 65.921875 \nQ 27.828125 65.921875 22.671875 59.328125 \nQ 17.53125 52.734375 16.796875 39.40625 \nQ 19.671875 43.65625 24.015625 45.921875 \nQ 28.375 48.1875 33.59375 48.1875 \nQ 44.578125 48.1875 50.953125 41.515625 \nQ 57.328125 34.859375 57.328125 23.390625 \nQ 57.328125 12.15625 50.6875 5.359375 \nQ 44.046875 -1.421875 33.015625 -1.421875 \nQ 20.359375 -1.421875 13.671875 8.265625 \nQ 6.984375 17.96875 6.984375 36.375 \nQ 6.984375 53.65625 15.1875 63.9375 \nQ 23.390625 74.21875 37.203125 74.21875 \nQ 40.921875 74.21875 44.703125 73.484375 \nQ 48.484375 72.75 52.59375 71.296875 \nz\n\" id=\"DejaVuSans-54\"/>\n      </defs>\n      <g transform=\"translate(255.538991 255.116406)scale(0.11 -0.11)\">\n       <use xlink:href=\"#DejaVuSans-54\"/>\n      </g>\n     </g>\n    </g>\n    <g id=\"xtick_5\">\n     <g id=\"line2d_5\">\n      <g>\n       <use style=\"stroke:#000000;stroke-width:0.8;\" x=\"326.67473\" xlink:href=\"#mba591b3da5\" y=\"239.758125\"/>\n      </g>\n     </g>\n     <g id=\"text_5\">\n      <!-- 8 -->\n      <defs>\n       <path d=\"M 31.78125 34.625 \nQ 24.75 34.625 20.71875 30.859375 \nQ 16.703125 27.09375 16.703125 20.515625 \nQ 16.703125 13.921875 20.71875 10.15625 \nQ 24.75 6.390625 31.78125 6.390625 \nQ 38.8125 6.390625 42.859375 10.171875 \nQ 46.921875 13.96875 46.921875 20.515625 \nQ 46.921875 27.09375 42.890625 30.859375 \nQ 38.875 34.625 31.78125 34.625 \nz\nM 21.921875 38.8125 \nQ 15.578125 40.375 12.03125 44.71875 \nQ 8.5 49.078125 8.5 55.328125 \nQ 8.5 64.0625 14.71875 69.140625 \nQ 20.953125 74.21875 31.78125 74.21875 \nQ 42.671875 74.21875 48.875 69.140625 \nQ 55.078125 64.0625 55.078125 55.328125 \nQ 55.078125 49.078125 51.53125 44.71875 \nQ 48 40.375 41.703125 38.8125 \nQ 48.828125 37.15625 52.796875 32.3125 \nQ 56.78125 27.484375 56.78125 20.515625 \nQ 56.78125 9.90625 50.3125 4.234375 \nQ 43.84375 -1.421875 31.78125 -1.421875 \nQ 19.734375 -1.421875 13.25 4.234375 \nQ 6.78125 9.90625 6.78125 20.515625 \nQ 6.78125 27.484375 10.78125 32.3125 \nQ 14.796875 37.15625 21.921875 38.8125 \nz\nM 18.3125 54.390625 \nQ 18.3125 48.734375 21.84375 45.5625 \nQ 25.390625 42.390625 31.78125 42.390625 \nQ 38.140625 42.390625 41.71875 45.5625 \nQ 45.3125 48.734375 45.3125 54.390625 \nQ 45.3125 60.0625 41.71875 63.234375 \nQ 38.140625 66.40625 31.78125 66.40625 \nQ 25.390625 66.40625 21.84375 63.234375 \nQ 18.3125 60.0625 18.3125 54.390625 \nz\n\" id=\"DejaVuSans-56\"/>\n      </defs>\n      <g transform=\"translate(323.175355 255.116406)scale(0.11 -0.11)\">\n       <use xlink:href=\"#DejaVuSans-56\"/>\n      </g>\n     </g>\n    </g>\n   </g>\n   <g id=\"matplotlib.axis_2\">\n    <g id=\"ytick_1\">\n     <g id=\"line2d_6\">\n      <defs>\n       <path d=\"M 0 0 \nL -3.5 0 \n\" id=\"ma6bb0453d0\" style=\"stroke:#000000;stroke-width:0.8;\"/>\n      </defs>\n      <g>\n       <use style=\"stroke:#000000;stroke-width:0.8;\" x=\"40.911094\" xlink:href=\"#ma6bb0453d0\" y=\"207.910852\"/>\n      </g>\n     </g>\n     <g id=\"text_6\">\n      <!-- −0.8 -->\n      <defs>\n       <path d=\"M 10.59375 35.5 \nL 73.1875 35.5 \nL 73.1875 27.203125 \nL 10.59375 27.203125 \nz\n\" id=\"DejaVuSans-8722\"/>\n       <path d=\"M 10.6875 12.40625 \nL 21 12.40625 \nL 21 0 \nL 10.6875 0 \nz\n\" id=\"DejaVuSans-46\"/>\n      </defs>\n      <g transform=\"translate(7.2 212.089993)scale(0.11 -0.11)\">\n       <use xlink:href=\"#DejaVuSans-8722\"/>\n       <use x=\"83.789062\" xlink:href=\"#DejaVuSans-48\"/>\n       <use x=\"147.412109\" xlink:href=\"#DejaVuSans-46\"/>\n       <use x=\"179.199219\" xlink:href=\"#DejaVuSans-56\"/>\n      </g>\n     </g>\n    </g>\n    <g id=\"ytick_2\">\n     <g id=\"line2d_7\">\n      <g>\n       <use style=\"stroke:#000000;stroke-width:0.8;\" x=\"40.911094\" xlink:href=\"#ma6bb0453d0\" y=\"163.98358\"/>\n      </g>\n     </g>\n     <g id=\"text_7\">\n      <!-- −0.6 -->\n      <g transform=\"translate(7.2 168.16272)scale(0.11 -0.11)\">\n       <use xlink:href=\"#DejaVuSans-8722\"/>\n       <use x=\"83.789062\" xlink:href=\"#DejaVuSans-48\"/>\n       <use x=\"147.412109\" xlink:href=\"#DejaVuSans-46\"/>\n       <use x=\"179.199219\" xlink:href=\"#DejaVuSans-54\"/>\n      </g>\n     </g>\n    </g>\n    <g id=\"ytick_3\">\n     <g id=\"line2d_8\">\n      <g>\n       <use style=\"stroke:#000000;stroke-width:0.8;\" x=\"40.911094\" xlink:href=\"#ma6bb0453d0\" y=\"120.056307\"/>\n      </g>\n     </g>\n     <g id=\"text_8\">\n      <!-- −0.4 -->\n      <g transform=\"translate(7.2 124.235447)scale(0.11 -0.11)\">\n       <use xlink:href=\"#DejaVuSans-8722\"/>\n       <use x=\"83.789062\" xlink:href=\"#DejaVuSans-48\"/>\n       <use x=\"147.412109\" xlink:href=\"#DejaVuSans-46\"/>\n       <use x=\"179.199219\" xlink:href=\"#DejaVuSans-52\"/>\n      </g>\n     </g>\n    </g>\n    <g id=\"ytick_4\">\n     <g id=\"line2d_9\">\n      <g>\n       <use style=\"stroke:#000000;stroke-width:0.8;\" x=\"40.911094\" xlink:href=\"#ma6bb0453d0\" y=\"76.129034\"/>\n      </g>\n     </g>\n     <g id=\"text_9\">\n      <!-- −0.2 -->\n      <g transform=\"translate(7.2 80.308175)scale(0.11 -0.11)\">\n       <use xlink:href=\"#DejaVuSans-8722\"/>\n       <use x=\"83.789062\" xlink:href=\"#DejaVuSans-48\"/>\n       <use x=\"147.412109\" xlink:href=\"#DejaVuSans-46\"/>\n       <use x=\"179.199219\" xlink:href=\"#DejaVuSans-50\"/>\n      </g>\n     </g>\n    </g>\n    <g id=\"ytick_5\">\n     <g id=\"line2d_10\">\n      <g>\n       <use style=\"stroke:#000000;stroke-width:0.8;\" x=\"40.911094\" xlink:href=\"#ma6bb0453d0\" y=\"32.201761\"/>\n      </g>\n     </g>\n     <g id=\"text_10\">\n      <!-- 0.0 -->\n      <g transform=\"translate(16.417656 36.380902)scale(0.11 -0.11)\">\n       <use xlink:href=\"#DejaVuSans-48\"/>\n       <use x=\"63.623047\" xlink:href=\"#DejaVuSans-46\"/>\n       <use x=\"95.410156\" xlink:href=\"#DejaVuSans-48\"/>\n      </g>\n     </g>\n    </g>\n   </g>\n   <g id=\"line2d_11\">\n    <path clip-path=\"url(#p0be6b69833)\" d=\"M 56.129276 32.201761 \nL 89.947457 54.165398 \nL 123.765639 76.129034 \nL 157.583821 98.09267 \nL 191.402003 120.056307 \nL 225.220185 142.019943 \nL 259.038366 163.98358 \nL 292.856548 185.947216 \nL 326.67473 207.910852 \nL 360.492912 229.874489 \n\" style=\"fill:none;stroke:#1f77b4;stroke-linecap:square;stroke-width:1.5;\"/>\n   </g>\n   <g id=\"patch_3\">\n    <path d=\"M 40.911094 239.758125 \nL 40.911094 22.318125 \n\" style=\"fill:none;stroke:#000000;stroke-linecap:square;stroke-linejoin:miter;stroke-width:0.8;\"/>\n   </g>\n   <g id=\"patch_4\">\n    <path d=\"M 375.711094 239.758125 \nL 375.711094 22.318125 \n\" style=\"fill:none;stroke:#000000;stroke-linecap:square;stroke-linejoin:miter;stroke-width:0.8;\"/>\n   </g>\n   <g id=\"patch_5\">\n    <path d=\"M 40.911094 239.758125 \nL 375.711094 239.758125 \n\" style=\"fill:none;stroke:#000000;stroke-linecap:square;stroke-linejoin:miter;stroke-width:0.8;\"/>\n   </g>\n   <g id=\"patch_6\">\n    <path d=\"M 40.911094 22.318125 \nL 375.711094 22.318125 \n\" style=\"fill:none;stroke:#000000;stroke-linecap:square;stroke-linejoin:miter;stroke-width:0.8;\"/>\n   </g>\n   <g id=\"text_11\">\n    <!-- Prueba DC -->\n    <defs>\n     <path d=\"M 19.671875 64.796875 \nL 19.671875 37.40625 \nL 32.078125 37.40625 \nQ 38.96875 37.40625 42.71875 40.96875 \nQ 46.484375 44.53125 46.484375 51.125 \nQ 46.484375 57.671875 42.71875 61.234375 \nQ 38.96875 64.796875 32.078125 64.796875 \nz\nM 9.8125 72.90625 \nL 32.078125 72.90625 \nQ 44.34375 72.90625 50.609375 67.359375 \nQ 56.890625 61.8125 56.890625 51.125 \nQ 56.890625 40.328125 50.609375 34.8125 \nQ 44.34375 29.296875 32.078125 29.296875 \nL 19.671875 29.296875 \nL 19.671875 0 \nL 9.8125 0 \nz\n\" id=\"DejaVuSans-80\"/>\n     <path d=\"M 41.109375 46.296875 \nQ 39.59375 47.171875 37.8125 47.578125 \nQ 36.03125 48 33.890625 48 \nQ 26.265625 48 22.1875 43.046875 \nQ 18.109375 38.09375 18.109375 28.8125 \nL 18.109375 0 \nL 9.078125 0 \nL 9.078125 54.6875 \nL 18.109375 54.6875 \nL 18.109375 46.1875 \nQ 20.953125 51.171875 25.484375 53.578125 \nQ 30.03125 56 36.53125 56 \nQ 37.453125 56 38.578125 55.875 \nQ 39.703125 55.765625 41.0625 55.515625 \nz\n\" id=\"DejaVuSans-114\"/>\n     <path d=\"M 8.5 21.578125 \nL 8.5 54.6875 \nL 17.484375 54.6875 \nL 17.484375 21.921875 \nQ 17.484375 14.15625 20.5 10.265625 \nQ 23.53125 6.390625 29.59375 6.390625 \nQ 36.859375 6.390625 41.078125 11.03125 \nQ 45.3125 15.671875 45.3125 23.6875 \nL 45.3125 54.6875 \nL 54.296875 54.6875 \nL 54.296875 0 \nL 45.3125 0 \nL 45.3125 8.40625 \nQ 42.046875 3.421875 37.71875 1 \nQ 33.40625 -1.421875 27.6875 -1.421875 \nQ 18.265625 -1.421875 13.375 4.4375 \nQ 8.5 10.296875 8.5 21.578125 \nz\nM 31.109375 56 \nz\n\" id=\"DejaVuSans-117\"/>\n     <path d=\"M 56.203125 29.59375 \nL 56.203125 25.203125 \nL 14.890625 25.203125 \nQ 15.484375 15.921875 20.484375 11.0625 \nQ 25.484375 6.203125 34.421875 6.203125 \nQ 39.59375 6.203125 44.453125 7.46875 \nQ 49.3125 8.734375 54.109375 11.28125 \nL 54.109375 2.78125 \nQ 49.265625 0.734375 44.1875 -0.34375 \nQ 39.109375 -1.421875 33.890625 -1.421875 \nQ 20.796875 -1.421875 13.15625 6.1875 \nQ 5.515625 13.8125 5.515625 26.8125 \nQ 5.515625 40.234375 12.765625 48.109375 \nQ 20.015625 56 32.328125 56 \nQ 43.359375 56 49.78125 48.890625 \nQ 56.203125 41.796875 56.203125 29.59375 \nz\nM 47.21875 32.234375 \nQ 47.125 39.59375 43.09375 43.984375 \nQ 39.0625 48.390625 32.421875 48.390625 \nQ 24.90625 48.390625 20.390625 44.140625 \nQ 15.875 39.890625 15.1875 32.171875 \nz\n\" id=\"DejaVuSans-101\"/>\n     <path d=\"M 48.6875 27.296875 \nQ 48.6875 37.203125 44.609375 42.84375 \nQ 40.53125 48.484375 33.40625 48.484375 \nQ 26.265625 48.484375 22.1875 42.84375 \nQ 18.109375 37.203125 18.109375 27.296875 \nQ 18.109375 17.390625 22.1875 11.75 \nQ 26.265625 6.109375 33.40625 6.109375 \nQ 40.53125 6.109375 44.609375 11.75 \nQ 48.6875 17.390625 48.6875 27.296875 \nz\nM 18.109375 46.390625 \nQ 20.953125 51.265625 25.265625 53.625 \nQ 29.59375 56 35.59375 56 \nQ 45.5625 56 51.78125 48.09375 \nQ 58.015625 40.1875 58.015625 27.296875 \nQ 58.015625 14.40625 51.78125 6.484375 \nQ 45.5625 -1.421875 35.59375 -1.421875 \nQ 29.59375 -1.421875 25.265625 0.953125 \nQ 20.953125 3.328125 18.109375 8.203125 \nL 18.109375 0 \nL 9.078125 0 \nL 9.078125 75.984375 \nL 18.109375 75.984375 \nz\n\" id=\"DejaVuSans-98\"/>\n     <path d=\"M 34.28125 27.484375 \nQ 23.390625 27.484375 19.1875 25 \nQ 14.984375 22.515625 14.984375 16.5 \nQ 14.984375 11.71875 18.140625 8.90625 \nQ 21.296875 6.109375 26.703125 6.109375 \nQ 34.1875 6.109375 38.703125 11.40625 \nQ 43.21875 16.703125 43.21875 25.484375 \nL 43.21875 27.484375 \nz\nM 52.203125 31.203125 \nL 52.203125 0 \nL 43.21875 0 \nL 43.21875 8.296875 \nQ 40.140625 3.328125 35.546875 0.953125 \nQ 30.953125 -1.421875 24.3125 -1.421875 \nQ 15.921875 -1.421875 10.953125 3.296875 \nQ 6 8.015625 6 15.921875 \nQ 6 25.140625 12.171875 29.828125 \nQ 18.359375 34.515625 30.609375 34.515625 \nL 43.21875 34.515625 \nL 43.21875 35.40625 \nQ 43.21875 41.609375 39.140625 45 \nQ 35.0625 48.390625 27.6875 48.390625 \nQ 23 48.390625 18.546875 47.265625 \nQ 14.109375 46.140625 10.015625 43.890625 \nL 10.015625 52.203125 \nQ 14.9375 54.109375 19.578125 55.046875 \nQ 24.21875 56 28.609375 56 \nQ 40.484375 56 46.34375 49.84375 \nQ 52.203125 43.703125 52.203125 31.203125 \nz\n\" id=\"DejaVuSans-97\"/>\n     <path id=\"DejaVuSans-32\"/>\n     <path d=\"M 19.671875 64.796875 \nL 19.671875 8.109375 \nL 31.59375 8.109375 \nQ 46.6875 8.109375 53.6875 14.9375 \nQ 60.6875 21.78125 60.6875 36.53125 \nQ 60.6875 51.171875 53.6875 57.984375 \nQ 46.6875 64.796875 31.59375 64.796875 \nz\nM 9.8125 72.90625 \nL 30.078125 72.90625 \nQ 51.265625 72.90625 61.171875 64.09375 \nQ 71.09375 55.28125 71.09375 36.53125 \nQ 71.09375 17.671875 61.125 8.828125 \nQ 51.171875 0 30.078125 0 \nL 9.8125 0 \nz\n\" id=\"DejaVuSans-68\"/>\n     <path d=\"M 64.40625 67.28125 \nL 64.40625 56.890625 \nQ 59.421875 61.53125 53.78125 63.8125 \nQ 48.140625 66.109375 41.796875 66.109375 \nQ 29.296875 66.109375 22.65625 58.46875 \nQ 16.015625 50.828125 16.015625 36.375 \nQ 16.015625 21.96875 22.65625 14.328125 \nQ 29.296875 6.6875 41.796875 6.6875 \nQ 48.140625 6.6875 53.78125 8.984375 \nQ 59.421875 11.28125 64.40625 15.921875 \nL 64.40625 5.609375 \nQ 59.234375 2.09375 53.4375 0.328125 \nQ 47.65625 -1.421875 41.21875 -1.421875 \nQ 24.65625 -1.421875 15.125 8.703125 \nQ 5.609375 18.84375 5.609375 36.375 \nQ 5.609375 53.953125 15.125 64.078125 \nQ 24.65625 74.21875 41.21875 74.21875 \nQ 47.75 74.21875 53.53125 72.484375 \nQ 59.328125 70.75 64.40625 67.28125 \nz\n\" id=\"DejaVuSans-67\"/>\n    </defs>\n    <g transform=\"translate(176.530781 16.318125)scale(0.12 -0.12)\">\n     <use xlink:href=\"#DejaVuSans-80\"/>\n     <use x=\"60.287109\" xlink:href=\"#DejaVuSans-114\"/>\n     <use x=\"101.400391\" xlink:href=\"#DejaVuSans-117\"/>\n     <use x=\"164.779297\" xlink:href=\"#DejaVuSans-101\"/>\n     <use x=\"226.302734\" xlink:href=\"#DejaVuSans-98\"/>\n     <use x=\"289.779297\" xlink:href=\"#DejaVuSans-97\"/>\n     <use x=\"351.058594\" xlink:href=\"#DejaVuSans-32\"/>\n     <use x=\"382.845703\" xlink:href=\"#DejaVuSans-68\"/>\n     <use x=\"459.847656\" xlink:href=\"#DejaVuSans-67\"/>\n    </g>\n   </g>\n  </g>\n </g>\n <defs>\n  <clipPath id=\"p0be6b69833\">\n   <rect height=\"217.44\" width=\"334.8\" x=\"40.911094\" y=\"22.318125\"/>\n  </clipPath>\n </defs>\n</svg>\n",
            "image/png": "[encoded data removed]"
          },
          "metadata": {
            "needs_background": "light"
          }
        }
      ],
      "execution_count": 12,
      "metadata": {}
    },
    {
      "cell_type": "markdown",
      "source": [
        "> **Pregunta:** comenta la gráfica anterior… ¿qué estamos viendo exactamente? Etiqueta los ejes de la misma convenientemente. Así como ningún número puede *viajar* solo sin hacer referencia a su naturaleza, ninguna gráfica puede estar sin sus ejes convenientemente etiquetados. Algo de [ayuda](https://matplotlib.org/3.1.0/gallery/pyplots/fig_axes_labels_simple.html). ¿Qué biblioteca estamos usando para graficar? Una [pista](https://matplotlib.org)."
      ],
      "metadata": {}
    },
    {
      "cell_type": "markdown",
      "source": [
        " ### Resultados de la simulación `.op` \n",
        " El método `.results` nos devuelve un diccionario con los resultados de la simulación."
      ],
      "metadata": {}
    },
    {
      "cell_type": "code",
      "source": [
        "print(resultados['op'].results)"
      ],
      "outputs": [
        {
          "output_type": "stream",
          "name": "stdout",
          "text": [
            "{V1: -9.0, I(V1): -0.9}\n"
          ]
        }
      ],
      "execution_count": 13,
      "metadata": {}
    },
    {
      "cell_type": "markdown",
      "source": [
        " > **Pregunta:** justifica el sencillo resultado anterior (análisis `op`). Repite el cálculo con Sympy, atendiendo con mimo a las unidades y al formateo de los resultados (tal y como hemos visto en muchos otros notebooks en clase)."
      ],
      "metadata": {}
    },
    {
      "source": [
        "## Resolución del mismo circuito pero con LTspice\n",
        "¿Cómo? ¿Es esto posible? ¿Desde Jupyter? Sí!!! Pero primero, por comodidad, deberíamos crear un alias del comando que apunte a nuestro ejecutable. Además, con un poco de inteligencia, podemos adelantarnos al hecho de si estamos en Windows o macOS:"
      ],
      "cell_type": "markdown",
      "metadata": {}
    },
    {
      "cell_type": "code",
      "execution_count": 14,
      "metadata": {},
      "outputs": [],
      "source": [
        "import platform\n",
        "%alias lts /Applications/LTspice.app/Contents/MacOS/LTspice -ascii -b\n",
        "if platform.system() == \"Windows\":\n",
        "    %alias lts C:\\Program Files\\LTC\\LTspiceXVII\\XVIIx64.exe -ascii -b"
      ]
    },
    {
      "source": [
        "**Pregunta**: ¿Qué significan las opciones `-b` y `-ascii`? Algo de ayuda [aquí](http://ltwiki.org/LTspiceHelp/LTspiceHelp/Command_Line_Switches.htm)."
      ],
      "cell_type": "markdown",
      "metadata": {}
    },
    {
      "source": [
        "También tenemos que cambiar ligeramente la sintaxis. Ejecuta esta línea para que se escriba el fichero siguiente. Para LTspice, vamos a reservar la extensión `.net`:"
      ],
      "cell_type": "markdown",
      "metadata": {}
    },
    {
      "cell_type": "code",
      "execution_count": 15,
      "metadata": {},
      "outputs": [
        {
          "output_type": "stream",
          "name": "stdout",
          "text": [
            "Writing circuito sencillo.net\n"
          ]
        }
      ],
      "source": [
        "%%writefile \"circuito sencillo.net\"\n",
        "* Este es un circuito sencillo adaptado para LTspice\n",
        "r1 1 0 100\n",
        "v1 0 1 9\n",
        ".op\n",
        "* Comentamos el análisis .dc para centrarnos primero en el .op\n",
        "* .dc v1 1 10 \n",
        ".end"
      ]
    },
    {
      "source": [
        "Ejecutamos LTspice con el circuito (de la misma manera que antes habíamos hecho con Ahkab)."
      ],
      "cell_type": "markdown",
      "metadata": {}
    },
    {
      "cell_type": "code",
      "execution_count": 16,
      "metadata": {},
      "outputs": [],
      "source": [
        "lts \"circuito sencillo.net\""
      ]
    },
    {
      "source": [
        "Veamos el contenido de la simulación."
      ],
      "cell_type": "markdown",
      "metadata": {}
    },
    {
      "cell_type": "code",
      "execution_count": 17,
      "metadata": {},
      "outputs": [
        {
          "output_type": "stream",
          "text": [
            "\u001b[0mC\u001b[0m\u001b[0;31m\u0000\u001b[0m\u001b[0mi\u001b[0m\u001b[0;31m\u0000\u001b[0m\u001b[0mr\u001b[0m\u001b[0;31m\u0000\u001b[0m\u001b[0mc\u001b[0m\u001b[0;31m\u0000\u001b[0m\u001b[0mu\u001b[0m\u001b[0;31m\u0000\u001b[0m\u001b[0mi\u001b[0m\u001b[0;31m\u0000\u001b[0m\u001b[0mt\u001b[0m\u001b[0;31m\u0000\u001b[0m\u001b[0;34m:\u001b[0m\u001b[0;31m\u0000\u001b[0m\u001b[0;31m \u001b[0m\u001b[0;31m\u0000\u001b[0m\u001b[0;34m*\u001b[0m\u001b[0;31m\u0000\u001b[0m\u001b[0;31m \u001b[0m\u001b[0;31m\u0000\u001b[0m\u001b[0mE\u001b[0m\u001b[0;31m\u0000\u001b[0m\u001b[0ms\u001b[0m\u001b[0;31m\u0000\u001b[0m\u001b[0mt\u001b[0m\u001b[0;31m\u0000\u001b[0m\u001b[0me\u001b[0m\u001b[0;31m\u0000\u001b[0m\u001b[0;31m \u001b[0m\u001b[0;31m\u0000\u001b[0m\u001b[0me\u001b[0m\u001b[0;31m\u0000\u001b[0m\u001b[0ms\u001b[0m\u001b[0;31m\u0000\u001b[0m\u001b[0;31m \u001b[0m\u001b[0;31m\u0000\u001b[0m\u001b[0mu\u001b[0m\u001b[0;31m\u0000\u001b[0m\u001b[0mn\u001b[0m\u001b[0;31m\u0000\u001b[0m\u001b[0;31m \u001b[0m\u001b[0;31m\u0000\u001b[0m\u001b[0mc\u001b[0m\u001b[0;31m\u0000\u001b[0m\u001b[0mi\u001b[0m\u001b[0;31m\u0000\u001b[0m\u001b[0mr\u001b[0m\u001b[0;31m\u0000\u001b[0m\u001b[0mc\u001b[0m\u001b[0;31m\u0000\u001b[0m\u001b[0mu\u001b[0m\u001b[0;31m\u0000\u001b[0m\u001b[0mi\u001b[0m\u001b[0;31m\u0000\u001b[0m\u001b[0mt\u001b[0m\u001b[0;31m\u0000\u001b[0m\u001b[0mo\u001b[0m\u001b[0;31m\u0000\u001b[0m\u001b[0;31m \u001b[0m\u001b[0;31m\u0000\u001b[0m\u001b[0ms\u001b[0m\u001b[0;31m\u0000\u001b[0m\u001b[0me\u001b[0m\u001b[0;31m\u0000\u001b[0m\u001b[0mn\u001b[0m\u001b[0;31m\u0000\u001b[0m\u001b[0mc\u001b[0m\u001b[0;31m\u0000\u001b[0m\u001b[0mi\u001b[0m\u001b[0;31m\u0000\u001b[0m\u001b[0ml\u001b[0m\u001b[0;31m\u0000\u001b[0m\u001b[0ml\u001b[0m\u001b[0;31m\u0000\u001b[0m\u001b[0mo\u001b[0m\u001b[0;31m\u0000\u001b[0m\u001b[0;31m \u001b[0m\u001b[0;31m\u0000\u001b[0m\u001b[0ma\u001b[0m\u001b[0;31m\u0000\u001b[0m\u001b[0md\u001b[0m\u001b[0;31m\u0000\u001b[0m\u001b[0ma\u001b[0m\u001b[0;31m\u0000\u001b[0m\u001b[0mp\u001b[0m\u001b[0;31m\u0000\u001b[0m\u001b[0mt\u001b[0m\u001b[0;31m\u0000\u001b[0m\u001b[0ma\u001b[0m\u001b[0;31m\u0000\u001b[0m\u001b[0md\u001b[0m\u001b[0;31m\u0000\u001b[0m\u001b[0mo\u001b[0m\u001b[0;31m\u0000\u001b[0m\u001b[0;31m \u001b[0m\u001b[0;31m\u0000\u001b[0m\u001b[0mp\u001b[0m\u001b[0;31m\u0000\u001b[0m\u001b[0ma\u001b[0m\u001b[0;31m\u0000\u001b[0m\u001b[0mr\u001b[0m\u001b[0;31m\u0000\u001b[0m\u001b[0ma\u001b[0m\u001b[0;31m\u0000\u001b[0m\u001b[0;31m \u001b[0m\u001b[0;31m\u0000\u001b[0m\u001b[0mL\u001b[0m\u001b[0;31m\u0000\u001b[0m\u001b[0mT\u001b[0m\u001b[0;31m\u0000\u001b[0m\u001b[0ms\u001b[0m\u001b[0;31m\u0000\u001b[0m\u001b[0mp\u001b[0m\u001b[0;31m\u0000\u001b[0m\u001b[0mi\u001b[0m\u001b[0;31m\u0000\u001b[0m\u001b[0mc\u001b[0m\u001b[0;31m\u0000\u001b[0m\u001b[0me\u001b[0m\u001b[0;31m\u0000\u001b[0m\u001b[0;34m\u001b[0m\n",
            "\u001b[0;34m\u001b[0m\u001b[0;31m\u0000\u001b[0m\u001b[0;34m\u001b[0m\n",
            "\u001b[0;34m\u001b[0m\u001b[0;31m\u0000\u001b[0m\u001b[0mD\u001b[0m\u001b[0;31m\u0000\u001b[0m\u001b[0mi\u001b[0m\u001b[0;31m\u0000\u001b[0m\u001b[0mr\u001b[0m\u001b[0;31m\u0000\u001b[0m\u001b[0me\u001b[0m\u001b[0;31m\u0000\u001b[0m\u001b[0mc\u001b[0m\u001b[0;31m\u0000\u001b[0m\u001b[0mt\u001b[0m\u001b[0;31m\u0000\u001b[0m\u001b[0;31m \u001b[0m\u001b[0;31m\u0000\u001b[0m\u001b[0mN\u001b[0m\u001b[0;31m\u0000\u001b[0m\u001b[0me\u001b[0m\u001b[0;31m\u0000\u001b[0m\u001b[0mw\u001b[0m\u001b[0;31m\u0000\u001b[0m\u001b[0mt\u001b[0m\u001b[0;31m\u0000\u001b[0m\u001b[0mo\u001b[0m\u001b[0;31m\u0000\u001b[0m\u001b[0mn\u001b[0m\u001b[0;31m\u0000\u001b[0m\u001b[0;31m \u001b[0m\u001b[0;31m\u0000\u001b[0m\u001b[0mi\u001b[0m\u001b[0;31m\u0000\u001b[0m\u001b[0mt\u001b[0m\u001b[0;31m\u0000\u001b[0m\u001b[0me\u001b[0m\u001b[0;31m\u0000\u001b[0m\u001b[0mr\u001b[0m\u001b[0;31m\u0000\u001b[0m\u001b[0ma\u001b[0m\u001b[0;31m\u0000\u001b[0m\u001b[0mt\u001b[0m\u001b[0;31m\u0000\u001b[0m\u001b[0mi\u001b[0m\u001b[0;31m\u0000\u001b[0m\u001b[0mo\u001b[0m\u001b[0;31m\u0000\u001b[0m\u001b[0mn\u001b[0m\u001b[0;31m\u0000\u001b[0m\u001b[0;31m \u001b[0m\u001b[0;31m\u0000\u001b[0m\u001b[0mf\u001b[0m\u001b[0;31m\u0000\u001b[0m\u001b[0mo\u001b[0m\u001b[0;31m\u0000\u001b[0m\u001b[0mr\u001b[0m\u001b[0;31m\u0000\u001b[0m\u001b[0;31m \u001b[0m\u001b[0;31m\u0000\u001b[0m\u001b[0;34m.\u001b[0m\u001b[0;31m\u0000\u001b[0m\u001b[0mo\u001b[0m\u001b[0;31m\u0000\u001b[0m\u001b[0mp\u001b[0m\u001b[0;31m\u0000\u001b[0m\u001b[0;31m \u001b[0m\u001b[0;31m\u0000\u001b[0m\u001b[0mp\u001b[0m\u001b[0;31m\u0000\u001b[0m\u001b[0mo\u001b[0m\u001b[0;31m\u0000\u001b[0m\u001b[0mi\u001b[0m\u001b[0;31m\u0000\u001b[0m\u001b[0mn\u001b[0m\u001b[0;31m\u0000\u001b[0m\u001b[0mt\u001b[0m\u001b[0;31m\u0000\u001b[0m\u001b[0;31m \u001b[0m\u001b[0;31m\u0000\u001b[0m\u001b[0ms\u001b[0m\u001b[0;31m\u0000\u001b[0m\u001b[0mu\u001b[0m\u001b[0;31m\u0000\u001b[0m\u001b[0mc\u001b[0m\u001b[0;31m\u0000\u001b[0m\u001b[0mc\u001b[0m\u001b[0;31m\u0000\u001b[0m\u001b[0me\u001b[0m\u001b[0;31m\u0000\u001b[0m\u001b[0me\u001b[0m\u001b[0;31m\u0000\u001b[0m\u001b[0md\u001b[0m\u001b[0;31m\u0000\u001b[0m\u001b[0me\u001b[0m\u001b[0;31m\u0000\u001b[0m\u001b[0md\u001b[0m\u001b[0;31m\u0000\u001b[0m\u001b[0;34m.\u001b[0m\u001b[0;31m\u0000\u001b[0m\u001b[0;34m\u001b[0m\n",
            "\u001b[0;34m\u001b[0m\u001b[0;31m\u0000\u001b[0m\u001b[0mO\u001b[0m\u001b[0;31m\u0000\u001b[0m\u001b[0mp\u001b[0m\u001b[0;31m\u0000\u001b[0m\u001b[0me\u001b[0m\u001b[0;31m\u0000\u001b[0m\u001b[0mr\u001b[0m\u001b[0;31m\u0000\u001b[0m\u001b[0ma\u001b[0m\u001b[0;31m\u0000\u001b[0m\u001b[0mt\u001b[0m\u001b[0;31m\u0000\u001b[0m\u001b[0mi\u001b[0m\u001b[0;31m\u0000\u001b[0m\u001b[0mn\u001b[0m\u001b[0;31m\u0000\u001b[0m\u001b[0mg\u001b[0m\u001b[0;31m\u0000\u001b[0m\u001b[0;31m \u001b[0m\u001b[0;31m\u0000\u001b[0m\u001b[0mB\u001b[0m\u001b[0;31m\u0000\u001b[0m\u001b[0mi\u001b[0m\u001b[0;31m\u0000\u001b[0m\u001b[0ma\u001b[0m\u001b[0;31m\u0000\u001b[0m\u001b[0ms\u001b[0m\u001b[0;31m\u0000\u001b[0m\u001b[0;31m \u001b[0m\u001b[0;31m\u0000\u001b[0m\u001b[0mP\u001b[0m\u001b[0;31m\u0000\u001b[0m\u001b[0mo\u001b[0m\u001b[0;31m\u0000\u001b[0m\u001b[0mi\u001b[0m\u001b[0;31m\u0000\u001b[0m\u001b[0mn\u001b[0m\u001b[0;31m\u0000\u001b[0m\u001b[0mt\u001b[0m\u001b[0;31m\u0000\u001b[0m\u001b[0;31m \u001b[0m\u001b[0;31m\u0000\u001b[0m\u001b[0mS\u001b[0m\u001b[0;31m\u0000\u001b[0m\u001b[0mo\u001b[0m\u001b[0;31m\u0000\u001b[0m\u001b[0ml\u001b[0m\u001b[0;31m\u0000\u001b[0m\u001b[0mu\u001b[0m\u001b[0;31m\u0000\u001b[0m\u001b[0mt\u001b[0m\u001b[0;31m\u0000\u001b[0m\u001b[0mi\u001b[0m\u001b[0;31m\u0000\u001b[0m\u001b[0mo\u001b[0m\u001b[0;31m\u0000\u001b[0m\u001b[0mn\u001b[0m\u001b[0;31m\u0000\u001b[0m\u001b[0;34m:\u001b[0m\u001b[0;31m\u0000\u001b[0m\u001b[0;34m\u001b[0m\n",
            "\u001b[0;34m\u001b[0m\u001b[0;31m\u0000\u001b[0m\u001b[0mV\u001b[0m\u001b[0;31m\u0000\u001b[0m\u001b[0;34m(\u001b[0m\u001b[0;31m\u0000\u001b[0m\u001b[0;34m)\u001b[0m\u001b[0;31m\u0000\u001b[0m\u001b[0;31m \u001b[0m\u001b[0;31m\u0000\u001b[0m\u001b[0;31m \u001b[0m\u001b[0;31m\u0000\u001b[0m\u001b[0;31m \u001b[0m\u001b[0;31m\u0000\u001b[0m\u001b[0;31m \u001b[0m\u001b[0;31m\u0000\u001b[0m\u001b[0;31m \u001b[0m\u001b[0;31m\u0000\u001b[0m\u001b[0;31m \u001b[0m\u001b[0;31m\u0000\u001b[0m\u001b[0;31m \u001b[0m\u001b[0;31m\u0000\u001b[0m\u001b[0;31m \u001b[0m\u001b[0;31m\u0000\u001b[0m\u001b[0;31m \u001b[0m\u001b[0;31m\u0000\u001b[0m\u001b[0;31m \u001b[0m\u001b[0;31m\u0000\u001b[0m\u001b[0;31m \u001b[0m\u001b[0;31m\u0000\u001b[0m\u001b[0;31m \u001b[0m\u001b[0;31m\u0000\u001b[0m\u001b[0;31m \u001b[0m\u001b[0;31m\u0000\u001b[0m\u001b[0;31m \u001b[0m\u001b[0;31m\u0000\u001b[0m\u001b[0;31m \u001b[0m\u001b[0;31m\u0000\u001b[0m\u001b[0;31m \u001b[0m\u001b[0;31m\u0000\u001b[0m\u001b[0;31m \u001b[0m\u001b[0;31m\u0000\u001b[0m\u001b[0;34m-\u001b[0m\u001b[0;31m\u0000\u001b[0m\u001b[0;36m9\u001b[0m\u001b[0;31m\u0000\u001b[0m\u001b[0;31m \u001b[0m\u001b[0;31m\u0000\u001b[0m\u001b[0;31m \u001b[0m\u001b[0;31m\u0000\u001b[0m\u001b[0;31m \u001b[0m\u001b[0;31m\u0000\u001b[0m\u001b[0mv\u001b[0m\u001b[0;31m\u0000\u001b[0m\u001b[0mo\u001b[0m\u001b[0;31m\u0000\u001b[0m\u001b[0ml\u001b[0m\u001b[0;31m\u0000\u001b[0m\u001b[0mt\u001b[0m\u001b[0;31m\u0000\u001b[0m\u001b[0ma\u001b[0m\u001b[0;31m\u0000\u001b[0m\u001b[0mg\u001b[0m\u001b[0;31m\u0000\u001b[0m\u001b[0me\u001b[0m\u001b[0;31m\u0000\u001b[0m\u001b[0;34m\u001b[0m\n",
            "\u001b[0;34m\u001b[0m\u001b[0;31m\u0000\u001b[0m\u001b[0mI\u001b[0m\u001b[0;31m\u0000\u001b[0m\u001b[0;34m(\u001b[0m\u001b[0;31m\u0000\u001b[0m\u001b[0mR\u001b[0m\u001b[0;31m\u0000\u001b[0m\u001b[0;36m1\u001b[0m\u001b[0;31m\u0000\u001b[0m\u001b[0;34m)\u001b[0m\u001b[0;31m\u0000\u001b[0m\u001b[0;31m \u001b[0m\u001b[0;31m\u0000\u001b[0m\u001b[0;31m \u001b[0m\u001b[0;31m\u0000\u001b[0m\u001b[0;31m \u001b[0m\u001b[0;31m\u0000\u001b[0m\u001b[0;31m \u001b[0m\u001b[0;31m\u0000\u001b[0m\u001b[0;31m \u001b[0m\u001b[0;31m\u0000\u001b[0m\u001b[0;31m \u001b[0m\u001b[0;31m\u0000\u001b[0m\u001b[0;31m \u001b[0m\u001b[0;31m\u0000\u001b[0m\u001b[0;31m \u001b[0m\u001b[0;31m\u0000\u001b[0m\u001b[0;31m \u001b[0m\u001b[0;31m\u0000\u001b[0m\u001b[0;31m \u001b[0m\u001b[0;31m\u0000\u001b[0m\u001b[0;31m \u001b[0m\u001b[0;31m\u0000\u001b[0m\u001b[0;31m \u001b[0m\u001b[0;31m\u0000\u001b[0m\u001b[0;31m \u001b[0m\u001b[0;31m\u0000\u001b[0m\u001b[0;31m \u001b[0m\u001b[0;31m\u0000\u001b[0m\u001b[0;34m-\u001b[0m\u001b[0;31m\u0000\u001b[0m\u001b[0;36m0\u001b[0m\u001b[0;31m\u0000\u001b[0m\u001b[0;34m.\u001b[0m\u001b[0;31m\u0000\u001b[0m\u001b[0;36m0\u001b[0m\u001b[0;31m\u0000\u001b[0m\u001b[0;36m9\u001b[0m\u001b[0;31m\u0000\u001b[0m\u001b[0;31m \u001b[0m\u001b[0;31m\u0000\u001b[0m\u001b[0;31m \u001b[0m\u001b[0;31m\u0000\u001b[0m\u001b[0;31m \u001b[0m\u001b[0;31m\u0000\u001b[0m\u001b[0md\u001b[0m\u001b[0;31m\u0000\u001b[0m\u001b[0me\u001b[0m\u001b[0;31m\u0000\u001b[0m\u001b[0mv\u001b[0m\u001b[0;31m\u0000\u001b[0m\u001b[0mi\u001b[0m\u001b[0;31m\u0000\u001b[0m\u001b[0mc\u001b[0m\u001b[0;31m\u0000\u001b[0m\u001b[0me\u001b[0m\u001b[0;31m\u0000\u001b[0m\u001b[0m_\u001b[0m\u001b[0;31m\u0000\u001b[0m\u001b[0mc\u001b[0m\u001b[0;31m\u0000\u001b[0m\u001b[0mu\u001b[0m\u001b[0;31m\u0000\u001b[0m\u001b[0mr\u001b[0m\u001b[0;31m\u0000\u001b[0m\u001b[0mr\u001b[0m\u001b[0;31m\u0000\u001b[0m\u001b[0me\u001b[0m\u001b[0;31m\u0000\u001b[0m\u001b[0mn\u001b[0m\u001b[0;31m\u0000\u001b[0m\u001b[0mt\u001b[0m\u001b[0;31m\u0000\u001b[0m\u001b[0;34m\u001b[0m\n",
            "\u001b[0;34m\u001b[0m\u001b[0;31m\u0000\u001b[0m\u001b[0mI\u001b[0m\u001b[0;31m\u0000\u001b[0m\u001b[0;34m(\u001b[0m\u001b[0;31m\u0000\u001b[0m\u001b[0mV\u001b[0m\u001b[0;31m\u0000\u001b[0m\u001b[0;36m1\u001b[0m\u001b[0;31m\u0000\u001b[0m\u001b[0;34m)\u001b[0m\u001b[0;31m\u0000\u001b[0m\u001b[0;31m \u001b[0m\u001b[0;31m\u0000\u001b[0m\u001b[0;31m \u001b[0m\u001b[0;31m\u0000\u001b[0m\u001b[0;31m \u001b[0m\u001b[0;31m\u0000\u001b[0m\u001b[0;31m \u001b[0m\u001b[0;31m\u0000\u001b[0m\u001b[0;31m \u001b[0m\u001b[0;31m\u0000\u001b[0m\u001b[0;31m \u001b[0m\u001b[0;31m\u0000\u001b[0m\u001b[0;31m \u001b[0m\u001b[0;31m\u0000\u001b[0m\u001b[0;31m \u001b[0m\u001b[0;31m\u0000\u001b[0m\u001b[0;31m \u001b[0m\u001b[0;31m\u0000\u001b[0m\u001b[0;31m \u001b[0m\u001b[0;31m\u0000\u001b[0m\u001b[0;31m \u001b[0m\u001b[0;31m\u0000\u001b[0m\u001b[0;31m \u001b[0m\u001b[0;31m\u0000\u001b[0m\u001b[0;31m \u001b[0m\u001b[0;31m\u0000\u001b[0m\u001b[0;31m \u001b[0m\u001b[0;31m\u0000\u001b[0m\u001b[0;34m-\u001b[0m\u001b[0;31m\u0000\u001b[0m\u001b[0;36m0\u001b[0m\u001b[0;31m\u0000\u001b[0m\u001b[0;34m.\u001b[0m\u001b[0;31m\u0000\u001b[0m\u001b[0;36m0\u001b[0m\u001b[0;31m\u0000\u001b[0m\u001b[0;36m9\u001b[0m\u001b[0;31m\u0000\u001b[0m\u001b[0;31m \u001b[0m\u001b[0;31m\u0000\u001b[0m\u001b[0;31m \u001b[0m\u001b[0;31m\u0000\u001b[0m\u001b[0;31m \u001b[0m\u001b[0;31m\u0000\u001b[0m\u001b[0md\u001b[0m\u001b[0;31m\u0000\u001b[0m\u001b[0me\u001b[0m\u001b[0;31m\u0000\u001b[0m\u001b[0mv\u001b[0m\u001b[0;31m\u0000\u001b[0m\u001b[0mi\u001b[0m\u001b[0;31m\u0000\u001b[0m\u001b[0mc\u001b[0m\u001b[0;31m\u0000\u001b[0m\u001b[0me\u001b[0m\u001b[0;31m\u0000\u001b[0m\u001b[0m_\u001b[0m\u001b[0;31m\u0000\u001b[0m\u001b[0mc\u001b[0m\u001b[0;31m\u0000\u001b[0m\u001b[0mu\u001b[0m\u001b[0;31m\u0000\u001b[0m\u001b[0mr\u001b[0m\u001b[0;31m\u0000\u001b[0m\u001b[0mr\u001b[0m\u001b[0;31m\u0000\u001b[0m\u001b[0me\u001b[0m\u001b[0;31m\u0000\u001b[0m\u001b[0mn\u001b[0m\u001b[0;31m\u0000\u001b[0m\u001b[0mt\u001b[0m\u001b[0;31m\u0000\u001b[0m\u001b[0;34m\u001b[0m\n",
            "\u001b[0;34m\u001b[0m\u001b[0;31m\u0000\u001b[0m\u001b[0;34m\u001b[0m\n",
            "\u001b[0;34m\u001b[0m\u001b[0;31m\u0000\u001b[0m\u001b[0;34m\u001b[0m\n",
            "\u001b[0;34m\u001b[0m\u001b[0;31m\u0000\u001b[0m\u001b[0mD\u001b[0m\u001b[0;31m\u0000\u001b[0m\u001b[0ma\u001b[0m\u001b[0;31m\u0000\u001b[0m\u001b[0mt\u001b[0m\u001b[0;31m\u0000\u001b[0m\u001b[0me\u001b[0m\u001b[0;31m\u0000\u001b[0m\u001b[0;34m:\u001b[0m\u001b[0;31m\u0000\u001b[0m\u001b[0;31m \u001b[0m\u001b[0;31m\u0000\u001b[0m\u001b[0mT\u001b[0m\u001b[0;31m\u0000\u001b[0m\u001b[0mh\u001b[0m\u001b[0;31m\u0000\u001b[0m\u001b[0mu\u001b[0m\u001b[0;31m\u0000\u001b[0m\u001b[0;31m \u001b[0m\u001b[0;31m\u0000\u001b[0m\u001b[0mD\u001b[0m\u001b[0;31m\u0000\u001b[0m\u001b[0me\u001b[0m\u001b[0;31m\u0000\u001b[0m\u001b[0mc\u001b[0m\u001b[0;31m\u0000\u001b[0m\u001b[0;31m \u001b[0m\u001b[0;31m\u0000\u001b[0m\u001b[0;36m1\u001b[0m\u001b[0;31m\u0000\u001b[0m\u001b[0;36m0\u001b[0m\u001b[0;31m\u0000\u001b[0m\u001b[0;31m \u001b[0m\u001b[0;31m\u0000\u001b[0m\u001b[0;36m2\u001b[0m\u001b[0;31m\u0000\u001b[0m\u001b[0;36m1\u001b[0m\u001b[0;31m\u0000\u001b[0m\u001b[0;34m:\u001b[0m\u001b[0;31m\u0000\u001b[0m\u001b[0;36m5\u001b[0m\u001b[0;31m\u0000\u001b[0m\u001b[0;36m4\u001b[0m\u001b[0;31m\u0000\u001b[0m\u001b[0;34m:\u001b[0m\u001b[0;31m\u0000\u001b[0m\u001b[0;36m4\u001b[0m\u001b[0;31m\u0000\u001b[0m\u001b[0;36m2\u001b[0m\u001b[0;31m\u0000\u001b[0m\u001b[0;31m \u001b[0m\u001b[0;31m\u0000\u001b[0m\u001b[0;36m2\u001b[0m\u001b[0;31m\u0000\u001b[0m\u001b[0;36m0\u001b[0m\u001b[0;31m\u0000\u001b[0m\u001b[0;36m2\u001b[0m\u001b[0;31m\u0000\u001b[0m\u001b[0;36m0\u001b[0m\u001b[0;31m\u0000\u001b[0m\u001b[0;34m\u001b[0m\n",
            "\u001b[0;34m\u001b[0m\u001b[0;31m\u0000\u001b[0m\u001b[0mT\u001b[0m\u001b[0;31m\u0000\u001b[0m\u001b[0mo\u001b[0m\u001b[0;31m\u0000\u001b[0m\u001b[0mt\u001b[0m\u001b[0;31m\u0000\u001b[0m\u001b[0ma\u001b[0m\u001b[0;31m\u0000\u001b[0m\u001b[0ml\u001b[0m\u001b[0;31m\u0000\u001b[0m\u001b[0;31m \u001b[0m\u001b[0;31m\u0000\u001b[0m\u001b[0me\u001b[0m\u001b[0;31m\u0000\u001b[0m\u001b[0ml\u001b[0m\u001b[0;31m\u0000\u001b[0m\u001b[0ma\u001b[0m\u001b[0;31m\u0000\u001b[0m\u001b[0mp\u001b[0m\u001b[0;31m\u0000\u001b[0m\u001b[0ms\u001b[0m\u001b[0;31m\u0000\u001b[0m\u001b[0me\u001b[0m\u001b[0;31m\u0000\u001b[0m\u001b[0md\u001b[0m\u001b[0;31m\u0000\u001b[0m\u001b[0;31m \u001b[0m\u001b[0;31m\u0000\u001b[0m\u001b[0mt\u001b[0m\u001b[0;31m\u0000\u001b[0m\u001b[0mi\u001b[0m\u001b[0;31m\u0000\u001b[0m\u001b[0mm\u001b[0m\u001b[0;31m\u0000\u001b[0m\u001b[0me\u001b[0m\u001b[0;31m\u0000\u001b[0m\u001b[0;34m:\u001b[0m\u001b[0;31m\u0000\u001b[0m\u001b[0;31m \u001b[0m\u001b[0;31m\u0000\u001b[0m\u001b[0;36m0\u001b[0m\u001b[0;31m\u0000\u001b[0m\u001b[0;34m.\u001b[0m\u001b[0;31m\u0000\u001b[0m\u001b[0;36m0\u001b[0m\u001b[0;31m\u0000\u001b[0m\u001b[0;36m0\u001b[0m\u001b[0;31m\u0000\u001b[0m\u001b[0;36m6\u001b[0m\u001b[0;31m\u0000\u001b[0m\u001b[0;31m \u001b[0m\u001b[0;31m\u0000\u001b[0m\u001b[0ms\u001b[0m\u001b[0;31m\u0000\u001b[0m\u001b[0me\u001b[0m\u001b[0;31m\u0000\u001b[0m\u001b[0mc\u001b[0m\u001b[0;31m\u0000\u001b[0m\u001b[0mo\u001b[0m\u001b[0;31m\u0000\u001b[0m\u001b[0mn\u001b[0m\u001b[0;31m\u0000\u001b[0m\u001b[0md\u001b[0m\u001b[0;31m\u0000\u001b[0m\u001b[0ms\u001b[0m\u001b[0;31m\u0000\u001b[0m\u001b[0;34m.\u001b[0m\u001b[0;31m\u0000\u001b[0m\u001b[0;34m\u001b[0m\n",
            "\u001b[0;34m\u001b[0m\u001b[0;31m\u0000\u001b[0m\u001b[0;34m\u001b[0m\n",
            "\u001b[0;34m\u001b[0m\u001b[0;31m\u0000\u001b[0m\u001b[0mt\u001b[0m\u001b[0;31m\u0000\u001b[0m\u001b[0mn\u001b[0m\u001b[0;31m\u0000\u001b[0m\u001b[0mo\u001b[0m\u001b[0;31m\u0000\u001b[0m\u001b[0mm\u001b[0m\u001b[0;31m\u0000\u001b[0m\u001b[0;31m \u001b[0m\u001b[0;31m\u0000\u001b[0m\u001b[0;34m=\u001b[0m\u001b[0;31m\u0000\u001b[0m\u001b[0;31m \u001b[0m\u001b[0;31m\u0000\u001b[0m\u001b[0;36m2\u001b[0m\u001b[0;31m\u0000\u001b[0m\u001b[0;36m7\u001b[0m\u001b[0;31m\u0000\u001b[0m\u001b[0;34m\u001b[0m\n",
            "\u001b[0;34m\u001b[0m\u001b[0;31m\u0000\u001b[0m\u001b[0mt\u001b[0m\u001b[0;31m\u0000\u001b[0m\u001b[0me\u001b[0m\u001b[0;31m\u0000\u001b[0m\u001b[0mm\u001b[0m\u001b[0;31m\u0000\u001b[0m\u001b[0mp\u001b[0m\u001b[0;31m\u0000\u001b[0m\u001b[0;31m \u001b[0m\u001b[0;31m\u0000\u001b[0m\u001b[0;34m=\u001b[0m\u001b[0;31m\u0000\u001b[0m\u001b[0;31m \u001b[0m\u001b[0;31m\u0000\u001b[0m\u001b[0;36m2\u001b[0m\u001b[0;31m\u0000\u001b[0m\u001b[0;36m7\u001b[0m\u001b[0;31m\u0000\u001b[0m\u001b[0;34m\u001b[0m\n",
            "\u001b[0;34m\u001b[0m\u001b[0;31m\u0000\u001b[0m\u001b[0mm\u001b[0m\u001b[0;31m\u0000\u001b[0m\u001b[0me\u001b[0m\u001b[0;31m\u0000\u001b[0m\u001b[0mt\u001b[0m\u001b[0;31m\u0000\u001b[0m\u001b[0mh\u001b[0m\u001b[0;31m\u0000\u001b[0m\u001b[0mo\u001b[0m\u001b[0;31m\u0000\u001b[0m\u001b[0md\u001b[0m\u001b[0;31m\u0000\u001b[0m\u001b[0;31m \u001b[0m\u001b[0;31m\u0000\u001b[0m\u001b[0;34m=\u001b[0m\u001b[0;31m\u0000\u001b[0m\u001b[0;31m \u001b[0m\u001b[0;31m\u0000\u001b[0m\u001b[0mt\u001b[0m\u001b[0;31m\u0000\u001b[0m\u001b[0mr\u001b[0m\u001b[0;31m\u0000\u001b[0m\u001b[0ma\u001b[0m\u001b[0;31m\u0000\u001b[0m\u001b[0mp\u001b[0m\u001b[0;31m\u0000\u001b[0m\u001b[0;34m\u001b[0m\n",
            "\u001b[0;34m\u001b[0m\u001b[0;31m\u0000\u001b[0m\u001b[0mt\u001b[0m\u001b[0;31m\u0000\u001b[0m\u001b[0mo\u001b[0m\u001b[0;31m\u0000\u001b[0m\u001b[0mt\u001b[0m\u001b[0;31m\u0000\u001b[0m\u001b[0mi\u001b[0m\u001b[0;31m\u0000\u001b[0m\u001b[0mt\u001b[0m\u001b[0;31m\u0000\u001b[0m\u001b[0me\u001b[0m\u001b[0;31m\u0000\u001b[0m\u001b[0mr\u001b[0m\u001b[0;31m\u0000\u001b[0m\u001b[0;31m \u001b[0m\u001b[0;31m\u0000\u001b[0m\u001b[0;34m=\u001b[0m\u001b[0;31m\u0000\u001b[0m\u001b[0;31m \u001b[0m\u001b[0;31m\u0000\u001b[0m\u001b[0;36m3\u001b[0m\u001b[0;31m\u0000\u001b[0m\u001b[0;34m\u001b[0m\n",
            "\u001b[0;34m\u001b[0m\u001b[0;31m\u0000\u001b[0m\u001b[0mt\u001b[0m\u001b[0;31m\u0000\u001b[0m\u001b[0mr\u001b[0m\u001b[0;31m\u0000\u001b[0m\u001b[0ma\u001b[0m\u001b[0;31m\u0000\u001b[0m\u001b[0mn\u001b[0m\u001b[0;31m\u0000\u001b[0m\u001b[0mi\u001b[0m\u001b[0;31m\u0000\u001b[0m\u001b[0mt\u001b[0m\u001b[0;31m\u0000\u001b[0m\u001b[0me\u001b[0m\u001b[0;31m\u0000\u001b[0m\u001b[0mr\u001b[0m\u001b[0;31m\u0000\u001b[0m\u001b[0;31m \u001b[0m\u001b[0;31m\u0000\u001b[0m\u001b[0;34m=\u001b[0m\u001b[0;31m\u0000\u001b[0m\u001b[0;31m \u001b[0m\u001b[0;31m\u0000\u001b[0m\u001b[0;36m0\u001b[0m\u001b[0;31m\u0000\u001b[0m\u001b[0;34m\u001b[0m\n",
            "\u001b[0;34m\u001b[0m\u001b[0;31m\u0000\u001b[0m\u001b[0mt\u001b[0m\u001b[0;31m\u0000\u001b[0m\u001b[0mr\u001b[0m\u001b[0;31m\u0000\u001b[0m\u001b[0ma\u001b[0m\u001b[0;31m\u0000\u001b[0m\u001b[0mn\u001b[0m\u001b[0;31m\u0000\u001b[0m\u001b[0mp\u001b[0m\u001b[0;31m\u0000\u001b[0m\u001b[0mo\u001b[0m\u001b[0;31m\u0000\u001b[0m\u001b[0mi\u001b[0m\u001b[0;31m\u0000\u001b[0m\u001b[0mn\u001b[0m\u001b[0;31m\u0000\u001b[0m\u001b[0mt\u001b[0m\u001b[0;31m\u0000\u001b[0m\u001b[0ms\u001b[0m\u001b[0;31m\u0000\u001b[0m\u001b[0;31m \u001b[0m\u001b[0;31m\u0000\u001b[0m\u001b[0;34m=\u001b[0m\u001b[0;31m\u0000\u001b[0m\u001b[0;31m \u001b[0m\u001b[0;31m\u0000\u001b[0m\u001b[0;36m0\u001b[0m\u001b[0;31m\u0000\u001b[0m\u001b[0;34m\u001b[0m\n",
            "\u001b[0;34m\u001b[0m\u001b[0;31m\u0000\u001b[0m\u001b[0ma\u001b[0m\u001b[0;31m\u0000\u001b[0m\u001b[0mc\u001b[0m\u001b[0;31m\u0000\u001b[0m\u001b[0mc\u001b[0m\u001b[0;31m\u0000\u001b[0m\u001b[0me\u001b[0m\u001b[0;31m\u0000\u001b[0m\u001b[0mp\u001b[0m\u001b[0;31m\u0000\u001b[0m\u001b[0mt\u001b[0m\u001b[0;31m\u0000\u001b[0m\u001b[0;31m \u001b[0m\u001b[0;31m\u0000\u001b[0m\u001b[0;34m=\u001b[0m\u001b[0;31m\u0000\u001b[0m\u001b[0;31m \u001b[0m\u001b[0;31m\u0000\u001b[0m\u001b[0;36m0\u001b[0m\u001b[0;31m\u0000\u001b[0m\u001b[0;34m\u001b[0m\n",
            "\u001b[0;34m\u001b[0m\u001b[0;31m\u0000\u001b[0m\u001b[0mr\u001b[0m\u001b[0;31m\u0000\u001b[0m\u001b[0me\u001b[0m\u001b[0;31m\u0000\u001b[0m\u001b[0mj\u001b[0m\u001b[0;31m\u0000\u001b[0m\u001b[0me\u001b[0m\u001b[0;31m\u0000\u001b[0m\u001b[0mc\u001b[0m\u001b[0;31m\u0000\u001b[0m\u001b[0mt\u001b[0m\u001b[0;31m\u0000\u001b[0m\u001b[0me\u001b[0m\u001b[0;31m\u0000\u001b[0m\u001b[0md\u001b[0m\u001b[0;31m\u0000\u001b[0m\u001b[0;31m \u001b[0m\u001b[0;31m\u0000\u001b[0m\u001b[0;34m=\u001b[0m\u001b[0;31m\u0000\u001b[0m\u001b[0;31m \u001b[0m\u001b[0;31m\u0000\u001b[0m\u001b[0;36m0\u001b[0m\u001b[0;31m\u0000\u001b[0m\u001b[0;34m\u001b[0m\n",
            "\u001b[0;34m\u001b[0m\u001b[0;31m\u0000\u001b[0m\u001b[0mm\u001b[0m\u001b[0;31m\u0000\u001b[0m\u001b[0ma\u001b[0m\u001b[0;31m\u0000\u001b[0m\u001b[0mt\u001b[0m\u001b[0;31m\u0000\u001b[0m\u001b[0mr\u001b[0m\u001b[0;31m\u0000\u001b[0m\u001b[0mi\u001b[0m\u001b[0;31m\u0000\u001b[0m\u001b[0mx\u001b[0m\u001b[0;31m\u0000\u001b[0m\u001b[0;31m \u001b[0m\u001b[0;31m\u0000\u001b[0m\u001b[0ms\u001b[0m\u001b[0;31m\u0000\u001b[0m\u001b[0mi\u001b[0m\u001b[0;31m\u0000\u001b[0m\u001b[0mz\u001b[0m\u001b[0;31m\u0000\u001b[0m\u001b[0me\u001b[0m\u001b[0;31m\u0000\u001b[0m\u001b[0;31m \u001b[0m\u001b[0;31m\u0000\u001b[0m\u001b[0;34m=\u001b[0m\u001b[0;31m\u0000\u001b[0m\u001b[0;31m \u001b[0m\u001b[0;31m\u0000\u001b[0m\u001b[0;36m2\u001b[0m\u001b[0;31m\u0000\u001b[0m\u001b[0;34m\u001b[0m\n",
            "\u001b[0;34m\u001b[0m\u001b[0;31m\u0000\u001b[0m\u001b[0mf\u001b[0m\u001b[0;31m\u0000\u001b[0m\u001b[0mi\u001b[0m\u001b[0;31m\u0000\u001b[0m\u001b[0ml\u001b[0m\u001b[0;31m\u0000\u001b[0m\u001b[0ml\u001b[0m\u001b[0;31m\u0000\u001b[0m\u001b[0mi\u001b[0m\u001b[0;31m\u0000\u001b[0m\u001b[0mn\u001b[0m\u001b[0;31m\u0000\u001b[0m\u001b[0ms\u001b[0m\u001b[0;31m\u0000\u001b[0m\u001b[0;31m \u001b[0m\u001b[0;31m\u0000\u001b[0m\u001b[0;34m=\u001b[0m\u001b[0;31m\u0000\u001b[0m\u001b[0;31m \u001b[0m\u001b[0;31m\u0000\u001b[0m\u001b[0;36m0\u001b[0m\u001b[0;31m\u0000\u001b[0m\u001b[0;34m\u001b[0m\n",
            "\u001b[0;34m\u001b[0m\u001b[0;31m\u0000\u001b[0m\u001b[0ms\u001b[0m\u001b[0;31m\u0000\u001b[0m\u001b[0mo\u001b[0m\u001b[0;31m\u0000\u001b[0m\u001b[0ml\u001b[0m\u001b[0;31m\u0000\u001b[0m\u001b[0mv\u001b[0m\u001b[0;31m\u0000\u001b[0m\u001b[0me\u001b[0m\u001b[0;31m\u0000\u001b[0m\u001b[0mr\u001b[0m\u001b[0;31m\u0000\u001b[0m\u001b[0;31m \u001b[0m\u001b[0;31m\u0000\u001b[0m\u001b[0;34m=\u001b[0m\u001b[0;31m\u0000\u001b[0m\u001b[0;31m \u001b[0m\u001b[0;31m\u0000\u001b[0m\u001b[0mN\u001b[0m\u001b[0;31m\u0000\u001b[0m\u001b[0mo\u001b[0m\u001b[0;31m\u0000\u001b[0m\u001b[0mr\u001b[0m\u001b[0;31m\u0000\u001b[0m\u001b[0mm\u001b[0m\u001b[0;31m\u0000\u001b[0m\u001b[0ma\u001b[0m\u001b[0;31m\u0000\u001b[0m\u001b[0ml\u001b[0m\u001b[0;31m\u0000\u001b[0m\u001b[0;34m\u001b[0m\n",
            "\u001b[0;34m\u001b[0m\u001b[0;31m\u0000\u001b[0m\u001b[0mM\u001b[0m\u001b[0;31m\u0000\u001b[0m\u001b[0ma\u001b[0m\u001b[0;31m\u0000\u001b[0m\u001b[0mt\u001b[0m\u001b[0;31m\u0000\u001b[0m\u001b[0mr\u001b[0m\u001b[0;31m\u0000\u001b[0m\u001b[0mi\u001b[0m\u001b[0;31m\u0000\u001b[0m\u001b[0mx\u001b[0m\u001b[0;31m\u0000\u001b[0m\u001b[0;31m \u001b[0m\u001b[0;31m\u0000\u001b[0m\u001b[0mC\u001b[0m\u001b[0;31m\u0000\u001b[0m\u001b[0mo\u001b[0m\u001b[0;31m\u0000\u001b[0m\u001b[0mm\u001b[0m\u001b[0;31m\u0000\u001b[0m\u001b[0mp\u001b[0m\u001b[0;31m\u0000\u001b[0m\u001b[0mi\u001b[0m\u001b[0;31m\u0000\u001b[0m\u001b[0ml\u001b[0m\u001b[0;31m\u0000\u001b[0m\u001b[0me\u001b[0m\u001b[0;31m\u0000\u001b[0m\u001b[0mr\u001b[0m\u001b[0;31m\u0000\u001b[0m\u001b[0;36m1\u001b[0m\u001b[0;31m\u0000\u001b[0m\u001b[0;34m:\u001b[0m\u001b[0;31m\u0000\u001b[0m\u001b[0;31m \u001b[0m\u001b[0;31m\u0000\u001b[0m\u001b[0;36m3\u001b[0m\u001b[0;31m\u0000\u001b[0m\u001b[0;36m6\u001b[0m\u001b[0;31m\u0000\u001b[0m\u001b[0;31m \u001b[0m\u001b[0;31m\u0000\u001b[0m\u001b[0mo\u001b[0m\u001b[0;31m\u0000\u001b[0m\u001b[0mb\u001b[0m\u001b[0;31m\u0000\u001b[0m\u001b[0mj\u001b[0m\u001b[0;31m\u0000\u001b[0m\u001b[0me\u001b[0m\u001b[0;31m\u0000\u001b[0m\u001b[0mc\u001b[0m\u001b[0;31m\u0000\u001b[0m\u001b[0mt\u001b[0m\u001b[0;31m\u0000\u001b[0m\u001b[0;31m \u001b[0m\u001b[0;31m\u0000\u001b[0m\u001b[0mc\u001b[0m\u001b[0;31m\u0000\u001b[0m\u001b[0mo\u001b[0m\u001b[0;31m\u0000\u001b[0m\u001b[0md\u001b[0m\u001b[0;31m\u0000\u001b[0m\u001b[0me\u001b[0m\u001b[0;31m\u0000\u001b[0m\u001b[0;31m \u001b[0m\u001b[0;31m\u0000\u001b[0m\u001b[0ms\u001b[0m\u001b[0;31m\u0000\u001b[0m\u001b[0mi\u001b[0m\u001b[0;31m\u0000\u001b[0m\u001b[0mz\u001b[0m\u001b[0;31m\u0000\u001b[0m\u001b[0me\u001b[0m\u001b[0;31m\u0000\u001b[0m\u001b[0;34m\u001b[0m\n",
            "\u001b[0;34m\u001b[0m\u001b[0;31m\u0000\u001b[0m\u001b[0mM\u001b[0m\u001b[0;31m\u0000\u001b[0m\u001b[0ma\u001b[0m\u001b[0;31m\u0000\u001b[0m\u001b[0mt\u001b[0m\u001b[0;31m\u0000\u001b[0m\u001b[0mr\u001b[0m\u001b[0;31m\u0000\u001b[0m\u001b[0mi\u001b[0m\u001b[0;31m\u0000\u001b[0m\u001b[0mx\u001b[0m\u001b[0;31m\u0000\u001b[0m\u001b[0;31m \u001b[0m\u001b[0;31m\u0000\u001b[0m\u001b[0mC\u001b[0m\u001b[0;31m\u0000\u001b[0m\u001b[0mo\u001b[0m\u001b[0;31m\u0000\u001b[0m\u001b[0mm\u001b[0m\u001b[0;31m\u0000\u001b[0m\u001b[0mp\u001b[0m\u001b[0;31m\u0000\u001b[0m\u001b[0mi\u001b[0m\u001b[0;31m\u0000\u001b[0m\u001b[0ml\u001b[0m\u001b[0;31m\u0000\u001b[0m\u001b[0me\u001b[0m\u001b[0;31m\u0000\u001b[0m\u001b[0mr\u001b[0m\u001b[0;31m\u0000\u001b[0m\u001b[0;36m2\u001b[0m\u001b[0;31m\u0000\u001b[0m\u001b[0;34m:\u001b[0m\u001b[0;31m\u0000\u001b[0m\u001b[0;31m \u001b[0m\u001b[0;31m\u0000\u001b[0m\u001b[0;31m \u001b[0m\u001b[0;31m\u0000\u001b[0m\u001b[0;31m \u001b[0m\u001b[0;31m\u0000\u001b[0m\u001b[0;31m \u001b[0m\u001b[0;31m\u0000\u001b[0m\u001b[0;31m \u001b[0m\u001b[0;31m\u0000\u001b[0m\u001b[0;31m \u001b[0m\u001b[0;31m\u0000\u001b[0m\u001b[0;31m \u001b[0m\u001b[0;31m\u0000\u001b[0m\u001b[0;36m9\u001b[0m\u001b[0;31m\u0000\u001b[0m\u001b[0;31m \u001b[0m\u001b[0;31m\u0000\u001b[0m\u001b[0mo\u001b[0m\u001b[0;31m\u0000\u001b[0m\u001b[0mp\u001b[0m\u001b[0;31m\u0000\u001b[0m\u001b[0mc\u001b[0m\u001b[0;31m\u0000\u001b[0m\u001b[0mo\u001b[0m\u001b[0;31m\u0000\u001b[0m\u001b[0md\u001b[0m\u001b[0;31m\u0000\u001b[0m\u001b[0me\u001b[0m\u001b[0;31m\u0000\u001b[0m\u001b[0ms\u001b[0m\u001b[0;31m\u0000\u001b[0m\u001b[0;34m\u001b[0m\n",
            "\u001b[0;34m\u001b[0m\u001b[0;31m\u0000\u001b[0m\u001b[0;34m\u001b[0m\u001b[0;34m\u001b[0m\u001b[0m\n"
          ],
          "name": "stdout"
        }
      ],
      "source": [
        "%pycat circuito sencillo.log"
      ]
    },
    {
      "source": [
        "Ahora repitamos lo mismo para el análisis `.dc`:"
      ],
      "cell_type": "markdown",
      "metadata": {}
    },
    {
      "cell_type": "code",
      "execution_count": 18,
      "metadata": {},
      "outputs": [
        {
          "output_type": "stream",
          "name": "stdout",
          "text": [
            "Overwriting circuito sencillo.net\n"
          ]
        }
      ],
      "source": [
        "%%writefile \"circuito sencillo.net\"\n",
        "* Este es un circuito sencillo adaptado para LTspice\n",
        "r1 1 0 100\n",
        "v1 0 1 9\n",
        "* Ahora obviamos el análisis .op\n",
        "* .op\n",
        ".dc v1 1 10 \n",
        ".end\n"
      ]
    },
    {
      "cell_type": "code",
      "execution_count": 19,
      "metadata": {},
      "outputs": [],
      "source": [
        "lts \"circuito sencillo.net\""
      ]
    },
    {
      "source": [
        "Al ejecutar esta simulación, se genera un fichero `.raw` con los resultados. Es muy parecido al `outfile` que hemos empleado antes con Ahkab. Para leer este fichero, tenemos que usar el paquete [ltspice de Python](https://github.com/DongHoonPark/ltspice_pytool), el cual podéis instalar directamente desde Jupyter:"
      ],
      "cell_type": "markdown",
      "metadata": {}
    },
    {
      "cell_type": "code",
      "execution_count": 20,
      "metadata": {},
      "outputs": [
        {
          "output_type": "stream",
          "name": "stdout",
          "text": [
            "Requirement already satisfied: ltspice in /Users/Alberto/opt/anaconda3/lib/python3.7/site-packages (1.0.0)\nRequirement already satisfied: numpy in /Users/Alberto/opt/anaconda3/lib/python3.7/site-packages (from ltspice) (1.17.2)\n"
          ]
        }
      ],
      "source": [
        "!pip install ltspice"
      ]
    },
    {
      "source": [
        "Ahora ya podemos leer este fichero `.raw` y pintar una recta de voltaje muy parecida a la que obtuvimos anteriormente con Ahkab:"
      ],
      "cell_type": "markdown",
      "metadata": {}
    },
    {
      "cell_type": "code",
      "execution_count": 21,
      "metadata": {},
      "outputs": [
        {
          "output_type": "execute_result",
          "data": {
            "text/plain": [
              "[<matplotlib.lines.Line2D at 0x1c215da0d0>]"
            ]
          },
          "metadata": {},
          "execution_count": 21
        },
        {
          "output_type": "display_data",
          "data": {
            "text/plain": "<Figure size 432x288 with 1 Axes>",
            "image/svg+xml": "<?xml version=\"1.0\" encoding=\"utf-8\" standalone=\"no\"?>\n<!DOCTYPE svg PUBLIC \"-//W3C//DTD SVG 1.1//EN\"\n  \"http://www.w3.org/Graphics/SVG/1.1/DTD/svg11.dtd\">\n<!-- Created with matplotlib (https://matplotlib.org/) -->\n<svg height=\"249.485937pt\" version=\"1.1\" viewBox=\"0 0 379.415156 249.485937\" width=\"379.415156pt\" xmlns=\"http://www.w3.org/2000/svg\" xmlns:xlink=\"http://www.w3.org/1999/xlink\">\n <defs>\n  <style type=\"text/css\">\n*{stroke-linecap:butt;stroke-linejoin:round;}\n  </style>\n </defs>\n <g id=\"figure_1\">\n  <g id=\"patch_1\">\n   <path d=\"M 0 249.485937 \nL 379.415156 249.485937 \nL 379.415156 0 \nL 0 0 \nz\n\" style=\"fill:none;\"/>\n  </g>\n  <g id=\"axes_1\">\n   <g id=\"patch_2\">\n    <path d=\"M 37.415156 224.64 \nL 372.215156 224.64 \nL 372.215156 7.2 \nL 37.415156 7.2 \nz\n\" style=\"fill:#ffffff;\"/>\n   </g>\n   <g id=\"matplotlib.axis_1\">\n    <g id=\"xtick_1\">\n     <g id=\"line2d_1\">\n      <defs>\n       <path d=\"M 0 0 \nL 0 3.5 \n\" id=\"me661fdffca\" style=\"stroke:#000000;stroke-width:0.8;\"/>\n      </defs>\n      <g>\n       <use style=\"stroke:#000000;stroke-width:0.8;\" x=\"86.45152\" xlink:href=\"#me661fdffca\" y=\"224.64\"/>\n      </g>\n     </g>\n     <g id=\"text_1\">\n      <!-- 2 -->\n      <defs>\n       <path d=\"M 19.1875 8.296875 \nL 53.609375 8.296875 \nL 53.609375 0 \nL 7.328125 0 \nL 7.328125 8.296875 \nQ 12.9375 14.109375 22.625 23.890625 \nQ 32.328125 33.6875 34.8125 36.53125 \nQ 39.546875 41.84375 41.421875 45.53125 \nQ 43.3125 49.21875 43.3125 52.78125 \nQ 43.3125 58.59375 39.234375 62.25 \nQ 35.15625 65.921875 28.609375 65.921875 \nQ 23.96875 65.921875 18.8125 64.3125 \nQ 13.671875 62.703125 7.8125 59.421875 \nL 7.8125 69.390625 \nQ 13.765625 71.78125 18.9375 73 \nQ 24.125 74.21875 28.421875 74.21875 \nQ 39.75 74.21875 46.484375 68.546875 \nQ 53.21875 62.890625 53.21875 53.421875 \nQ 53.21875 48.921875 51.53125 44.890625 \nQ 49.859375 40.875 45.40625 35.40625 \nQ 44.1875 33.984375 37.640625 27.21875 \nQ 31.109375 20.453125 19.1875 8.296875 \nz\n\" id=\"DejaVuSans-50\"/>\n      </defs>\n      <g transform=\"translate(82.952145 239.998281)scale(0.11 -0.11)\">\n       <use xlink:href=\"#DejaVuSans-50\"/>\n      </g>\n     </g>\n    </g>\n    <g id=\"xtick_2\">\n     <g id=\"line2d_2\">\n      <g>\n       <use style=\"stroke:#000000;stroke-width:0.8;\" x=\"154.087884\" xlink:href=\"#me661fdffca\" y=\"224.64\"/>\n      </g>\n     </g>\n     <g id=\"text_2\">\n      <!-- 4 -->\n      <defs>\n       <path d=\"M 37.796875 64.3125 \nL 12.890625 25.390625 \nL 37.796875 25.390625 \nz\nM 35.203125 72.90625 \nL 47.609375 72.90625 \nL 47.609375 25.390625 \nL 58.015625 25.390625 \nL 58.015625 17.1875 \nL 47.609375 17.1875 \nL 47.609375 0 \nL 37.796875 0 \nL 37.796875 17.1875 \nL 4.890625 17.1875 \nL 4.890625 26.703125 \nz\n\" id=\"DejaVuSans-52\"/>\n      </defs>\n      <g transform=\"translate(150.588509 239.998281)scale(0.11 -0.11)\">\n       <use xlink:href=\"#DejaVuSans-52\"/>\n      </g>\n     </g>\n    </g>\n    <g id=\"xtick_3\">\n     <g id=\"line2d_3\">\n      <g>\n       <use style=\"stroke:#000000;stroke-width:0.8;\" x=\"221.724247\" xlink:href=\"#me661fdffca\" y=\"224.64\"/>\n      </g>\n     </g>\n     <g id=\"text_3\">\n      <!-- 6 -->\n      <defs>\n       <path d=\"M 33.015625 40.375 \nQ 26.375 40.375 22.484375 35.828125 \nQ 18.609375 31.296875 18.609375 23.390625 \nQ 18.609375 15.53125 22.484375 10.953125 \nQ 26.375 6.390625 33.015625 6.390625 \nQ 39.65625 6.390625 43.53125 10.953125 \nQ 47.40625 15.53125 47.40625 23.390625 \nQ 47.40625 31.296875 43.53125 35.828125 \nQ 39.65625 40.375 33.015625 40.375 \nz\nM 52.59375 71.296875 \nL 52.59375 62.3125 \nQ 48.875 64.0625 45.09375 64.984375 \nQ 41.3125 65.921875 37.59375 65.921875 \nQ 27.828125 65.921875 22.671875 59.328125 \nQ 17.53125 52.734375 16.796875 39.40625 \nQ 19.671875 43.65625 24.015625 45.921875 \nQ 28.375 48.1875 33.59375 48.1875 \nQ 44.578125 48.1875 50.953125 41.515625 \nQ 57.328125 34.859375 57.328125 23.390625 \nQ 57.328125 12.15625 50.6875 5.359375 \nQ 44.046875 -1.421875 33.015625 -1.421875 \nQ 20.359375 -1.421875 13.671875 8.265625 \nQ 6.984375 17.96875 6.984375 36.375 \nQ 6.984375 53.65625 15.1875 63.9375 \nQ 23.390625 74.21875 37.203125 74.21875 \nQ 40.921875 74.21875 44.703125 73.484375 \nQ 48.484375 72.75 52.59375 71.296875 \nz\n\" id=\"DejaVuSans-54\"/>\n      </defs>\n      <g transform=\"translate(218.224872 239.998281)scale(0.11 -0.11)\">\n       <use xlink:href=\"#DejaVuSans-54\"/>\n      </g>\n     </g>\n    </g>\n    <g id=\"xtick_4\">\n     <g id=\"line2d_4\">\n      <g>\n       <use style=\"stroke:#000000;stroke-width:0.8;\" x=\"289.360611\" xlink:href=\"#me661fdffca\" y=\"224.64\"/>\n      </g>\n     </g>\n     <g id=\"text_4\">\n      <!-- 8 -->\n      <defs>\n       <path d=\"M 31.78125 34.625 \nQ 24.75 34.625 20.71875 30.859375 \nQ 16.703125 27.09375 16.703125 20.515625 \nQ 16.703125 13.921875 20.71875 10.15625 \nQ 24.75 6.390625 31.78125 6.390625 \nQ 38.8125 6.390625 42.859375 10.171875 \nQ 46.921875 13.96875 46.921875 20.515625 \nQ 46.921875 27.09375 42.890625 30.859375 \nQ 38.875 34.625 31.78125 34.625 \nz\nM 21.921875 38.8125 \nQ 15.578125 40.375 12.03125 44.71875 \nQ 8.5 49.078125 8.5 55.328125 \nQ 8.5 64.0625 14.71875 69.140625 \nQ 20.953125 74.21875 31.78125 74.21875 \nQ 42.671875 74.21875 48.875 69.140625 \nQ 55.078125 64.0625 55.078125 55.328125 \nQ 55.078125 49.078125 51.53125 44.71875 \nQ 48 40.375 41.703125 38.8125 \nQ 48.828125 37.15625 52.796875 32.3125 \nQ 56.78125 27.484375 56.78125 20.515625 \nQ 56.78125 9.90625 50.3125 4.234375 \nQ 43.84375 -1.421875 31.78125 -1.421875 \nQ 19.734375 -1.421875 13.25 4.234375 \nQ 6.78125 9.90625 6.78125 20.515625 \nQ 6.78125 27.484375 10.78125 32.3125 \nQ 14.796875 37.15625 21.921875 38.8125 \nz\nM 18.3125 54.390625 \nQ 18.3125 48.734375 21.84375 45.5625 \nQ 25.390625 42.390625 31.78125 42.390625 \nQ 38.140625 42.390625 41.71875 45.5625 \nQ 45.3125 48.734375 45.3125 54.390625 \nQ 45.3125 60.0625 41.71875 63.234375 \nQ 38.140625 66.40625 31.78125 66.40625 \nQ 25.390625 66.40625 21.84375 63.234375 \nQ 18.3125 60.0625 18.3125 54.390625 \nz\n\" id=\"DejaVuSans-56\"/>\n      </defs>\n      <g transform=\"translate(285.861236 239.998281)scale(0.11 -0.11)\">\n       <use xlink:href=\"#DejaVuSans-56\"/>\n      </g>\n     </g>\n    </g>\n    <g id=\"xtick_5\">\n     <g id=\"line2d_5\">\n      <g>\n       <use style=\"stroke:#000000;stroke-width:0.8;\" x=\"356.996974\" xlink:href=\"#me661fdffca\" y=\"224.64\"/>\n      </g>\n     </g>\n     <g id=\"text_5\">\n      <!-- 10 -->\n      <defs>\n       <path d=\"M 12.40625 8.296875 \nL 28.515625 8.296875 \nL 28.515625 63.921875 \nL 10.984375 60.40625 \nL 10.984375 69.390625 \nL 28.421875 72.90625 \nL 38.28125 72.90625 \nL 38.28125 8.296875 \nL 54.390625 8.296875 \nL 54.390625 0 \nL 12.40625 0 \nz\n\" id=\"DejaVuSans-49\"/>\n       <path d=\"M 31.78125 66.40625 \nQ 24.171875 66.40625 20.328125 58.90625 \nQ 16.5 51.421875 16.5 36.375 \nQ 16.5 21.390625 20.328125 13.890625 \nQ 24.171875 6.390625 31.78125 6.390625 \nQ 39.453125 6.390625 43.28125 13.890625 \nQ 47.125 21.390625 47.125 36.375 \nQ 47.125 51.421875 43.28125 58.90625 \nQ 39.453125 66.40625 31.78125 66.40625 \nz\nM 31.78125 74.21875 \nQ 44.046875 74.21875 50.515625 64.515625 \nQ 56.984375 54.828125 56.984375 36.375 \nQ 56.984375 17.96875 50.515625 8.265625 \nQ 44.046875 -1.421875 31.78125 -1.421875 \nQ 19.53125 -1.421875 13.0625 8.265625 \nQ 6.59375 17.96875 6.59375 36.375 \nQ 6.59375 54.828125 13.0625 64.515625 \nQ 19.53125 74.21875 31.78125 74.21875 \nz\n\" id=\"DejaVuSans-48\"/>\n      </defs>\n      <g transform=\"translate(349.998224 239.998281)scale(0.11 -0.11)\">\n       <use xlink:href=\"#DejaVuSans-49\"/>\n       <use x=\"63.623047\" xlink:href=\"#DejaVuSans-48\"/>\n      </g>\n     </g>\n    </g>\n   </g>\n   <g id=\"matplotlib.axis_2\">\n    <g id=\"ytick_1\">\n     <g id=\"line2d_6\">\n      <defs>\n       <path d=\"M 0 0 \nL -3.5 0 \n\" id=\"m14b4540a28\" style=\"stroke:#000000;stroke-width:0.8;\"/>\n      </defs>\n      <g>\n       <use style=\"stroke:#000000;stroke-width:0.8;\" x=\"37.415156\" xlink:href=\"#m14b4540a28\" y=\"214.756364\"/>\n      </g>\n     </g>\n     <g id=\"text_6\">\n      <!-- −10 -->\n      <defs>\n       <path d=\"M 10.59375 35.5 \nL 73.1875 35.5 \nL 73.1875 27.203125 \nL 10.59375 27.203125 \nz\n\" id=\"DejaVuSans-8722\"/>\n      </defs>\n      <g transform=\"translate(7.2 218.935504)scale(0.11 -0.11)\">\n       <use xlink:href=\"#DejaVuSans-8722\"/>\n       <use x=\"83.789062\" xlink:href=\"#DejaVuSans-49\"/>\n       <use x=\"147.412109\" xlink:href=\"#DejaVuSans-48\"/>\n      </g>\n     </g>\n    </g>\n    <g id=\"ytick_2\">\n     <g id=\"line2d_7\">\n      <g>\n       <use style=\"stroke:#000000;stroke-width:0.8;\" x=\"37.415156\" xlink:href=\"#m14b4540a28\" y=\"170.829091\"/>\n      </g>\n     </g>\n     <g id=\"text_7\">\n      <!-- −8 -->\n      <g transform=\"translate(14.19875 175.008232)scale(0.11 -0.11)\">\n       <use xlink:href=\"#DejaVuSans-8722\"/>\n       <use x=\"83.789062\" xlink:href=\"#DejaVuSans-56\"/>\n      </g>\n     </g>\n    </g>\n    <g id=\"ytick_3\">\n     <g id=\"line2d_8\">\n      <g>\n       <use style=\"stroke:#000000;stroke-width:0.8;\" x=\"37.415156\" xlink:href=\"#m14b4540a28\" y=\"126.901818\"/>\n      </g>\n     </g>\n     <g id=\"text_8\">\n      <!-- −6 -->\n      <g transform=\"translate(14.19875 131.080959)scale(0.11 -0.11)\">\n       <use xlink:href=\"#DejaVuSans-8722\"/>\n       <use x=\"83.789062\" xlink:href=\"#DejaVuSans-54\"/>\n      </g>\n     </g>\n    </g>\n    <g id=\"ytick_4\">\n     <g id=\"line2d_9\">\n      <g>\n       <use style=\"stroke:#000000;stroke-width:0.8;\" x=\"37.415156\" xlink:href=\"#m14b4540a28\" y=\"82.974545\"/>\n      </g>\n     </g>\n     <g id=\"text_9\">\n      <!-- −4 -->\n      <g transform=\"translate(14.19875 87.153686)scale(0.11 -0.11)\">\n       <use xlink:href=\"#DejaVuSans-8722\"/>\n       <use x=\"83.789062\" xlink:href=\"#DejaVuSans-52\"/>\n      </g>\n     </g>\n    </g>\n    <g id=\"ytick_5\">\n     <g id=\"line2d_10\">\n      <g>\n       <use style=\"stroke:#000000;stroke-width:0.8;\" x=\"37.415156\" xlink:href=\"#m14b4540a28\" y=\"39.047273\"/>\n      </g>\n     </g>\n     <g id=\"text_10\">\n      <!-- −2 -->\n      <g transform=\"translate(14.19875 43.226413)scale(0.11 -0.11)\">\n       <use xlink:href=\"#DejaVuSans-8722\"/>\n       <use x=\"83.789062\" xlink:href=\"#DejaVuSans-50\"/>\n      </g>\n     </g>\n    </g>\n   </g>\n   <g id=\"line2d_11\">\n    <path clip-path=\"url(#p647b151a12)\" d=\"M 52.633338 17.083636 \nL 356.996974 214.756364 \nL 356.996974 214.756364 \n\" style=\"fill:none;stroke:#1f77b4;stroke-linecap:square;stroke-width:1.5;\"/>\n   </g>\n   <g id=\"patch_3\">\n    <path d=\"M 37.415156 224.64 \nL 37.415156 7.2 \n\" style=\"fill:none;stroke:#000000;stroke-linecap:square;stroke-linejoin:miter;stroke-width:0.8;\"/>\n   </g>\n   <g id=\"patch_4\">\n    <path d=\"M 372.215156 224.64 \nL 372.215156 7.2 \n\" style=\"fill:none;stroke:#000000;stroke-linecap:square;stroke-linejoin:miter;stroke-width:0.8;\"/>\n   </g>\n   <g id=\"patch_5\">\n    <path d=\"M 37.415156 224.64 \nL 372.215156 224.64 \n\" style=\"fill:none;stroke:#000000;stroke-linecap:square;stroke-linejoin:miter;stroke-width:0.8;\"/>\n   </g>\n   <g id=\"patch_6\">\n    <path d=\"M 37.415156 7.2 \nL 372.215156 7.2 \n\" style=\"fill:none;stroke:#000000;stroke-linecap:square;stroke-linejoin:miter;stroke-width:0.8;\"/>\n   </g>\n  </g>\n </g>\n <defs>\n  <clipPath id=\"p647b151a12\">\n   <rect height=\"217.44\" width=\"334.8\" x=\"37.415156\" y=\"7.2\"/>\n  </clipPath>\n </defs>\n</svg>\n",
            "image/png": "[encoded data removed]"
          },
          "metadata": {
            "needs_background": "light"
          }
        }
      ],
      "source": [
        "import ltspice\n",
        "l = ltspice.Ltspice(\"circuito sencillo.raw\")\n",
        "l.parse()\n",
        "tiempo = l.get_time()\n",
        "voltaje = l.get_data('V(1)')\n",
        "corriente = l.get_data('I(V1)')\n",
        "# Podemos pintar la corrente en función del tiempo\n",
        "# plt.plot(tiempo, corriente)\n",
        "# O el voltaje\n",
        "plt.plot(tiempo, voltaje)"
      ]
    },
    {
      "source": [
        "** En resumen: ** hemos usado dos *compiladores* Spice distintos para hacer el mismo ejercicio. De igual manera podríamos haber usado [Ngspice](http://ngspice.sourceforge.net) u otro. De hecho, podíamos haber usado Ahkab en modo comando. Si tenemos correctamente instalado este framework, en princpio podemos invocarlo [directamente desde línea de comandos](https://ahkab.readthedocs.io/en/latest/help/Command-Line-Help.html):"
      ],
      "cell_type": "markdown",
      "metadata": {}
    },
    {
      "cell_type": "code",
      "execution_count": 22,
      "metadata": {},
      "outputs": [
        {
          "output_type": "stream",
          "name": "stdout",
          "text": [
            "W: Locale appears not set! please export LANG=\"en_US.UTF-8\" or equivalent, \n",
            "W: or ahkab's unicode support is broken.\n",
            "2020-12-10 20:54:49\n",
            "ahkab v. 0.18 (c) 2006-2015 Giuseppe Venturini\n",
            "\n",
            "Operating Point (OP) analysis\n",
            "\n",
            "Netlist: circuito sencillo.sp\n",
            "Title: * este es un circuito sencillo\n",
            "At 300.00 K\n",
            "Options:\n",
            "\tvea = 1.000000e-06\n",
            "\tver = 0.001000\n",
            "\tiea = 1.000000e-09\n",
            "\tier = 0.001000\n",
            "\tgmin = 0.000000e+00\n",
            "\n",
            "Convergence reached in 2 iterations.\n",
            "\n",
            "========\n",
            "RESULTS:\n",
            "========\n",
            "\n",
            "Variable    Units      Value        Error    %\n",
            "----------  -------  -------  -----------  ---\n",
            "V1          V           -9    9.00002e-12    0\n",
            "I(V1)       A           -0.9  0              0\n",
            "\n",
            "========================\n",
            "ELEMENTS OP INFORMATION:\n",
            "========================\n",
            "\n",
            "Part ID      R [Ω]    V(n1,n2) [V]    I(n1->n2) [A]    P [W]\n",
            "---------  -------  --------------  ---------------  -------\n",
            "R1              10              -9             -0.9      8.1\n",
            "\n",
            "Part ID      V(n1,n2) [V]    I(n1->n2) [A]    P [W]\n",
            "---------  --------------  ---------------  -------\n",
            "V1                      9             -0.9     -8.1\n",
            "\n",
            "Total power dissipation: 8.1 W\n",
            "\n",
            "#V1\tV1\tI(V1)\n",
            "0.000000000000000000e+00\t0.000000000000000000e+00\t0.000000000000000000e+00\n",
            "1.000000000000000000e+00\t-1.000000000000000000e+00\t-1.000000000000000056e-01\n",
            "2.000000000000000000e+00\t-2.000000000000000000e+00\t-2.000000000000000111e-01\n",
            "3.000000000000000000e+00\t-3.000000000000000000e+00\t-3.000000000000000444e-01\n",
            "4.000000000000000000e+00\t-4.000000000000000000e+00\t-4.000000000000000222e-01\n",
            "5.000000000000000000e+00\t-5.000000000000000000e+00\t-5.000000000000000000e-01\n",
            "6.000000000000000000e+00\t-6.000000000000000000e+00\t-6.000000000000000888e-01\n",
            "7.000000000000000000e+00\t-7.000000000000000000e+00\t-7.000000000000000666e-01\n",
            "8.000000000000000000e+00\t-8.000000000000000000e+00\t-8.000000000000000444e-01\n",
            "9.000000000000000000e+00\t-9.000000000000000000e+00\t-9.000000000000000222e-01\n"
          ]
        }
      ],
      "source": [
        "!ahkab \"circuito sencillo.sp\""
      ]
    },
    {
      "source": [
        "**Ejercicio premium**: Graficar los datos anteriores con [Gnuplot](http://www.gnuplot.info). "
      ],
      "cell_type": "markdown",
      "metadata": {}
    },
    {
      "source": [
        " ## Análisis de circuito con resistencias en serie"
      ],
      "cell_type": "markdown",
      "metadata": {}
    },
    {
      "cell_type": "markdown",
      "source": [
        "Vamos a resolver (en punto de operación) el siguiente circuito:\n",
        "\n",
        "![](https://raw.githubusercontent.com/pammacdotnet/spicelab/master/resistencias%20en%20serie.svg?sanitize=true)\n",
        "\n",
        "Al igual que antes, grabamos el netlist en disco desde Jupyter gracias a la *palabra mágica* [`%writefile`](https://ipython.readthedocs.io/en/stable/interactive/magics.html#cellmagic-writefile). Más info [aquí](https://ipython.readthedocs.io/en/stable/interactive/magics.html#cellmagic-writefile). "
      ],
      "metadata": {}
    },
    {
      "cell_type": "code",
      "source": [
        "%%writefile \"resistencias en serie.net\"\n",
        "* circuito con tres resistencias en serie\n",
        "v1 1 0 type=vdc vdc=9\n",
        "R1 0 2 3k\n",
        "R2 2 3 10k  \n",
        "R3 3 1 5k\n",
        "* análisis del circuito\n",
        ".op\n",
        ".end"
      ],
      "outputs": [
        {
          "output_type": "stream",
          "name": "stdout",
          "text": [
            "Writing resistencias en serie.net\n"
          ]
        }
      ],
      "execution_count": 23,
      "metadata": {}
    },
    {
      "cell_type": "code",
      "source": [
        "circuito_y_análisis = ahkab.netlist_parser.parse_circuit('resistencias en serie.net')\n",
        "circuito = circuito_y_análisis[0]       \n",
        "análisis_en_netlist = circuito_y_análisis[1]\n",
        "lista_de_análisis = ahkab.netlist_parser.parse_analysis(circuito, análisis_en_netlist)\n",
        "resultados = ahkab.run(circuito, lista_de_análisis)"
      ],
      "outputs": [
        {
          "output_type": "stream",
          "name": "stdout",
          "text": [
            "Starting op analysis:\n",
            "Calculating guess: skipped. (linear circuit)\n",
            "Solving...   done.\n",
            "Solving...   done.\n",
            "Difference check within margins.\n",
            "(Voltage: er=0.001, ea=1e-06, Current: er=0.001, ea=1e-09)\n"
          ]
        }
      ],
      "execution_count": 24,
      "metadata": {}
    },
    {
      "cell_type": "markdown",
      "source": [
        "Imprimos los resultados del análisis `.op`:"
      ],
      "metadata": {}
    },
    {
      "cell_type": "code",
      "source": [
        "print(resultados['op'])"
      ],
      "outputs": [
        {
          "output_type": "stream",
          "name": "stdout",
          "text": [
            "OP simulation results for '* circuito con tres resistencias en serie'(netlist resistencias en serie.net).\nRun on 2020-12-10 20:54:50, data file None.\nVariable    Units      Value     Error    %\n----------  -------  -------  --------  ---\nV1          V         9       -9e-12      0\nV2          V         1.5     -1.5e-12    0\nV3          V         6.5     -6.5e-12    0\nI(V1)       A        -0.0005   0          0\n"
          ]
        }
      ],
      "execution_count": 25,
      "metadata": {}
    },
    {
      "cell_type": "markdown",
      "source": [
        "Los cantidades `V1`, `V2` y `V3` hacen referencia a los distintos valores del potencial que se ha perdido en cada uno de los bornes que has elegido para describir el netlist (`1`, `2`, etc.). Por ejemplo, podemos calcular el *potencial consumido* por la resistencia `R1` y verás que coincide con el del punto `V2` devuelto por Ahkab. **Ejercicio**: compruébalo tú mismo y refléjalo por escrito."
      ],
      "metadata": {}
    },
    {
      "source": [
        "Cargamos primero todo lo relacionado con Sympy:"
      ],
      "cell_type": "markdown",
      "metadata": {}
    },
    {
      "cell_type": "code",
      "execution_count": 26,
      "metadata": {},
      "outputs": [],
      "source": [
        "from sympy.physics.units import ohms, amperes, volts\n",
        "from sympy.physics.units import convert_to"
      ]
    },
    {
      "cell_type": "code",
      "source": [
        "r1 = 3E3*ohms\n",
        "intensidad_ahkab = resultados['op']['I(V1)'][0][0]*amperes\n",
        "v2 = convert_to(intensidad_ahkab*r1, [volts])\n",
        "v2"
      ],
      "outputs": [
        {
          "output_type": "execute_result",
          "data": {
            "text/plain": [
              "-1.5*volt"
            ],
            "text/latex": "$\\displaystyle - 1.5 \\text{V}$"
          },
          "metadata": {},
          "execution_count": 27
        }
      ],
      "execution_count": 27,
      "metadata": {}
    },
    {
      "cell_type": "markdown",
      "source": [
        " > **Pregunta**: reproduce el resto de los valores anteriores de manera *manual* mediante Sympy (es decir, aplicando la ley de Ohm, pero con un *toque computacional*). Te pongo aquí un ejemplo del que puedes partir… En él sólo calculo la corriente que circula por el circuito (sí, justo la que antes Ahkab ha devuelto de manera automática). Para ello necesito previamente computar la resistencia total (`r_total`). Faltarían el resto de resultados y convertirlos a unidades más *vistosas* (mediante la orden `convert_to` y `.n()`)."
      ],
      "metadata": {}
    },
    {
      "cell_type": "code",
      "source": [
        "from sympy.physics.units import kilo\n",
        "from sympy import solve, symbols, Eq\n",
        "v1 = 9*volts\n",
        "r1 = 3*kilo*ohms\n",
        "r2 = 10*kilo*ohms\n",
        "r3 = 5*kilo*ohms\n",
        "r_total = r1 + r2 + r3\n",
        "intensidad = symbols('i')\n",
        "ley_ohm = Eq(v1, intensidad*r_total)\n",
        "solucion_para_intensidad = solve(ley_ohm, intensidad)\n",
        "convert_to(solucion_para_intensidad[0], [amperes]).n(2)"
      ],
      "outputs": [
        {
          "output_type": "execute_result",
          "data": {
            "text/plain": [
              "0.0005*ampere"
            ],
            "text/latex": "$\\displaystyle 0.0005 \\text{A}$"
          },
          "metadata": {},
          "execution_count": 28
        }
      ],
      "execution_count": 28,
      "metadata": {}
    },
    {
      "cell_type": "markdown",
      "source": [
        "> **Pregunta**: Demuestra que se cumple la Ley de Kirchhoff de la energía en un circuito, es decir, que la suma de la energía suministrada por las fuentes (pilas) es igual a la consumida por las resistencias. Realiza la operación con Sympy.\n",
        "\n",
        "$$\n",
        "\\sum_i^N V_{\\text{fuentes}} = \\sum_j^M V_{\\text{consumido en resistencias}}\n",
        "$$\n",
        "\n",
        "Ten en cuenta que en este caso sólo hay una fuente."
      ],
      "metadata": {}
    },
    {
      "cell_type": "markdown",
      "source": [
        "## Análisis `.op` de circuitos con resistencias en paralelo\n",
        "\n",
        "Vamos a complicar un poco el trabajo añadiendo elementos en paralelo.\n",
        "\n",
        " > **Pregunta**: realiza los análisis `.op` de los siguientes circuitos.\n",
        " Para ello crea un netlist separado para cada uno donde queden correctamente descritos\n",
        " junto con la simulación (`.op`). Comenta los resultados que devuelve Ahkab (no imprimas los resultados de las simulaciones *sin más*).\n",
        "\n",
        " ![](https://raw.githubusercontent.com/pammacdotnet/spicelab/master/resistencias%20en%20paralelo.svg?sanitize=true)\n",
        "\n",
        " Aquí tienes el análisis del primer circuito, para que sirva de ejemplo:"
      ],
      "metadata": {}
    },
    {
      "cell_type": "code",
      "source": [
        "%%writefile \"resistencias en paralelo 1.cir\"\n",
        "* resistencias en paralelo\n",
        "vdd 0 1 vdc=12 type=vdc\n",
        "r2 1 2 1k\n",
        "r3 2 3 220\n",
        "r4 3 0 1.5k\n",
        "r5 2 0 470\n",
        ".op\n",
        ".end\n",
        "\n",
        "# ejemplo 2\n",
        "# * resistencias en paralelo\n",
        "# v1 0 1 vdc=9 type=vdc\n",
        "# v2 5 0 vdc=1.5 type=vdc\n",
        "# r1 1 2 47\n",
        "# r2 2 3 220\n",
        "# r3 2 5 180\n",
        "# r4 3 4 1k \n",
        "# r5 4 0 560\n",
        "# .op\n",
        "# .end"
      ],
      "outputs": [
        {
          "output_type": "stream",
          "name": "stdout",
          "text": [
            "Writing resistencias en paralelo 1.cir\n"
          ]
        }
      ],
      "execution_count": 29,
      "metadata": {}
    },
    {
      "cell_type": "code",
      "source": [
        "circuito_y_análisis = ahkab.netlist_parser.parse_circuit('resistencias en paralelo 1.cir')\n",
        "circuito = circuito_y_análisis[0]       \n",
        "análisis_en_netlist = circuito_y_análisis[1]\n",
        "lista_de_análisis = ahkab.netlist_parser.parse_analysis(circuito, análisis_en_netlist)\n",
        "resultados = ahkab.run(circuito, lista_de_análisis)"
      ],
      "outputs": [
        {
          "output_type": "stream",
          "name": "stdout",
          "text": [
            "Starting op analysis:\n",
            "Calculating guess: skipped. (linear circuit)\n",
            "Solving...   done.\n",
            "Solving...   done.\n",
            "Difference check within margins.\n",
            "(Voltage: er=0.001, ea=1e-06, Current: er=0.001, ea=1e-09)\n"
          ]
        }
      ],
      "execution_count": 30,
      "metadata": {}
    },
    {
      "cell_type": "markdown",
      "source": [
        "Imprimimos los resultados del análisis `.op`. Como puedes comprobar, Ahkab sólo reporta la intensidad de corriente en las ramas en las que hay una pila (en este caso, la rama donde está la pila `VDD`)."
      ],
      "metadata": {}
    },
    {
      "cell_type": "code",
      "source": [
        "print(resultados['op'])"
      ],
      "outputs": [
        {
          "output_type": "stream",
          "name": "stdout",
          "text": [
            "OP simulation results for '* resistencias en paralelo'(netlist resistencias en paralelo 1.cir).\nRun on 2020-12-10 20:54:52, data file None.\nVariable    Units           Value        Error    %\n----------  -------  ------------  -----------  ---\nV1          V        -12           1.2e-11        0\nV2          V         -3.23533     3.23532e-12    0\nV3          V         -2.8215      2.82151e-12    0\nI(VDD)      A         -0.00876467  0              0\n"
          ]
        }
      ],
      "execution_count": 31,
      "metadata": {}
    },
    {
      "cell_type": "markdown",
      "source": [
        "> **Pregunta:** inserta dos *pilas virtuales* de 0 voltios en el resto de ramas del circuito (`Vdummy1` en la rama donde está `R5` y `Vdummy2` en la rama donde está `R3` y `R4`) para que Ahkab nos imprima también la corriente en las mismas. Es muy parecido al tercer circuito que tienes que resolver, donde `V1`, `V2` y `V3` tienen cero voltios. Estas *pilas nulas* son, a todos los efectos, *simples cables*. Una vez que ya tienes las corrientes en todas las ramas, comprueba que se cumple la Ley de Kirchhoff para las corrientes:\n",
        "\n",
        "$$\n",
        "I_{\\text{entrante}} = \\sum_i^{N} I_{\\text{salientes}}\n",
        "$$\n",
        "\n",
        "Repite lo mismo para los otros dos circuitos. Realiza además los cálculos con Sympy (recalcula los mismos voltajes que devuelve Ahkab a partir de la corriente que sí te devuelve la simulación) y cuidando de no olvidar las unidades. Recuerda que el objeto `resultados` alberga toda la información que necesitas de manera indexada. Ya han aparecido un ejemplo más arriba. Es decir: no *copies* los números *a mano*, trabaja de manera informáticamente elegante (usando la variable `resultados`). "
      ],
      "metadata": {}
    },
    {
      "cell_type": "markdown",
      "source": [
        " # Circuitos en DC que evolucionan con el tiempo"
      ],
      "metadata": {}
    },
    {
      "cell_type": "markdown",
      "source": [
        " ## Carga de un condensador\n",
        " Vamos a ver qué le pasa a un circuito de corriente continua cuando tiene un condensador\n",
        " en serie.\n",
        "\n",
        " ![](https://raw.githubusercontent.com/pammacdotnet/spicelab/master/condensador%20en%20continua.svg?sanitize=true)\n",
        "\n",
        " Al igual que antes, primero guardamos el circuito en un netlist externo:"
      ],
      "metadata": {}
    },
    {
      "cell_type": "code",
      "source": [
        "%%writefile \"condensador en continua.ckt\"\n",
        "* Carga condensador\n",
        "v1 0 1 type=vdc vdc=6\n",
        "r1 1 2 1k\n",
        "c1 2 0 1m ic=0\n",
        ".op\n",
        ".tran tstep=0.1 tstop=8 uic=0\n",
        ".end"
      ],
      "outputs": [
        {
          "output_type": "stream",
          "name": "stdout",
          "text": [
            "Writing condensador en continua.ckt\n"
          ]
        }
      ],
      "execution_count": 32,
      "metadata": {}
    },
    {
      "cell_type": "markdown",
      "source": [
        "> **Pregunta:** ¿qué significa el parámetro `ic=0`? ¿qué perseguimos con un análisis de tipo `.tran`?\n",
        "\n",
        "Leamos el circuito:"
      ],
      "metadata": {}
    },
    {
      "cell_type": "code",
      "source": [
        "circuito_y_análisis = ahkab.netlist_parser.parse_circuit(\"condensador en continua.ckt\")"
      ],
      "outputs": [],
      "execution_count": 33,
      "metadata": {}
    },
    {
      "cell_type": "markdown",
      "source": [
        " Separamos el netlist de los análisis y asignamos un fichero de almacenamiento de datos (`outfile`):"
      ],
      "metadata": {}
    },
    {
      "cell_type": "code",
      "source": [
        "circuito = circuito_y_análisis[0]\n",
        "análisis_en_netlist = circuito_y_análisis[1]\n",
        "lista_de_análisis = ahkab.netlist_parser.parse_analysis(circuito, análisis_en_netlist)\n",
        "lista_de_análisis[1]['outfile'] = \"simulación tran.tsv\""
      ],
      "outputs": [],
      "execution_count": 34,
      "metadata": {}
    },
    {
      "cell_type": "markdown",
      "source": [
        " Ejecutamos la simulación:"
      ],
      "metadata": {}
    },
    {
      "cell_type": "code",
      "source": [
        "resultados = ahkab.run(circuito, lista_de_análisis)\n",
        "print(resultados['op'])\n",
        "#print(resultados['tran'].keys())"
      ],
      "outputs": [
        {
          "output_type": "stream",
          "name": "stdout",
          "text": [
            "Starting op analysis:\n",
            "Calculating guess: skipped. (linear circuit)\n",
            "Solving...   done.\n",
            "Solving...   done.\n",
            "Difference check within margins.\n",
            "(Voltage: er=0.001, ea=1e-06, Current: er=0.001, ea=1e-09)\n",
            "Starting transient analysis: \n",
            "Selected method: TRAP\n",
            "Solving...  done.\n",
            "Average time step: 0.0869565\n",
            "OP simulation results for '* carga condensador'(netlist condensador en continua.ckt).\n",
            "Run on 2020-12-10 20:54:52, data file None.\n",
            "Variable    Units      Value    Error    %\n",
            "----------  -------  -------  -------  ---\n",
            "V1          V             -6    6e-12    0\n",
            "V2          V             -6    6e-12    0\n",
            "I(V1)       A              0    0        0\n"
          ]
        }
      ],
      "execution_count": 35,
      "metadata": {}
    },
    {
      "cell_type": "markdown",
      "source": [
        " Dibujamos la gráfica de carga del condensador con el tiempo, centrándonos en la intensidad que circula por la pila. "
      ],
      "metadata": {}
    },
    {
      "cell_type": "code",
      "source": [
        "figura = plt.figure()\n",
        "plt.title(\"Carga de un condensador\")\n",
        "plt.plot(resultados['tran']['T'], resultados['tran']['I(V1)'], label=\"Una etiqueta\")"
      ],
      "outputs": [
        {
          "output_type": "execute_result",
          "data": {
            "text/plain": [
              "[<matplotlib.lines.Line2D at 0x1c21b1ff50>]"
            ]
          },
          "metadata": {},
          "execution_count": 36
        },
        {
          "output_type": "display_data",
          "data": {
            "text/plain": "<Figure size 432x288 with 1 Axes>",
            "image/svg+xml": "<?xml version=\"1.0\" encoding=\"utf-8\" standalone=\"no\"?>\n<!DOCTYPE svg PUBLIC \"-//W3C//DTD SVG 1.1//EN\"\n  \"http://www.w3.org/Graphics/SVG/1.1/DTD/svg11.dtd\">\n<!-- Created with matplotlib (https://matplotlib.org/) -->\n<svg height=\"264.604062pt\" version=\"1.1\" viewBox=\"0 0 396.908594 264.604062\" width=\"396.908594pt\" xmlns=\"http://www.w3.org/2000/svg\" xmlns:xlink=\"http://www.w3.org/1999/xlink\">\n <defs>\n  <style type=\"text/css\">\n*{stroke-linecap:butt;stroke-linejoin:round;}\n  </style>\n </defs>\n <g id=\"figure_1\">\n  <g id=\"patch_1\">\n   <path d=\"M -0 264.604062 \nL 396.908594 264.604062 \nL 396.908594 0 \nL -0 0 \nz\n\" style=\"fill:none;\"/>\n  </g>\n  <g id=\"axes_1\">\n   <g id=\"patch_2\">\n    <path d=\"M 54.908594 239.758125 \nL 389.708594 239.758125 \nL 389.708594 22.318125 \nL 54.908594 22.318125 \nz\n\" style=\"fill:#ffffff;\"/>\n   </g>\n   <g id=\"matplotlib.axis_1\">\n    <g id=\"xtick_1\">\n     <g id=\"line2d_1\">\n      <defs>\n       <path d=\"M 0 0 \nL 0 3.5 \n\" id=\"m53ae35934b\" style=\"stroke:#000000;stroke-width:0.8;\"/>\n      </defs>\n      <g>\n       <use style=\"stroke:#000000;stroke-width:0.8;\" x=\"70.096601\" xlink:href=\"#m53ae35934b\" y=\"239.758125\"/>\n      </g>\n     </g>\n     <g id=\"text_1\">\n      <!-- 0 -->\n      <defs>\n       <path d=\"M 31.78125 66.40625 \nQ 24.171875 66.40625 20.328125 58.90625 \nQ 16.5 51.421875 16.5 36.375 \nQ 16.5 21.390625 20.328125 13.890625 \nQ 24.171875 6.390625 31.78125 6.390625 \nQ 39.453125 6.390625 43.28125 13.890625 \nQ 47.125 21.390625 47.125 36.375 \nQ 47.125 51.421875 43.28125 58.90625 \nQ 39.453125 66.40625 31.78125 66.40625 \nz\nM 31.78125 74.21875 \nQ 44.046875 74.21875 50.515625 64.515625 \nQ 56.984375 54.828125 56.984375 36.375 \nQ 56.984375 17.96875 50.515625 8.265625 \nQ 44.046875 -1.421875 31.78125 -1.421875 \nQ 19.53125 -1.421875 13.0625 8.265625 \nQ 6.59375 17.96875 6.59375 36.375 \nQ 6.59375 54.828125 13.0625 64.515625 \nQ 19.53125 74.21875 31.78125 74.21875 \nz\n\" id=\"DejaVuSans-48\"/>\n      </defs>\n      <g transform=\"translate(66.597226 255.116406)scale(0.11 -0.11)\">\n       <use xlink:href=\"#DejaVuSans-48\"/>\n      </g>\n     </g>\n    </g>\n    <g id=\"xtick_2\">\n     <g id=\"line2d_2\">\n      <g>\n       <use style=\"stroke:#000000;stroke-width:0.8;\" x=\"107.810492\" xlink:href=\"#m53ae35934b\" y=\"239.758125\"/>\n      </g>\n     </g>\n     <g id=\"text_2\">\n      <!-- 1 -->\n      <defs>\n       <path d=\"M 12.40625 8.296875 \nL 28.515625 8.296875 \nL 28.515625 63.921875 \nL 10.984375 60.40625 \nL 10.984375 69.390625 \nL 28.421875 72.90625 \nL 38.28125 72.90625 \nL 38.28125 8.296875 \nL 54.390625 8.296875 \nL 54.390625 0 \nL 12.40625 0 \nz\n\" id=\"DejaVuSans-49\"/>\n      </defs>\n      <g transform=\"translate(104.311117 255.116406)scale(0.11 -0.11)\">\n       <use xlink:href=\"#DejaVuSans-49\"/>\n      </g>\n     </g>\n    </g>\n    <g id=\"xtick_3\">\n     <g id=\"line2d_3\">\n      <g>\n       <use style=\"stroke:#000000;stroke-width:0.8;\" x=\"145.524383\" xlink:href=\"#m53ae35934b\" y=\"239.758125\"/>\n      </g>\n     </g>\n     <g id=\"text_3\">\n      <!-- 2 -->\n      <defs>\n       <path d=\"M 19.1875 8.296875 \nL 53.609375 8.296875 \nL 53.609375 0 \nL 7.328125 0 \nL 7.328125 8.296875 \nQ 12.9375 14.109375 22.625 23.890625 \nQ 32.328125 33.6875 34.8125 36.53125 \nQ 39.546875 41.84375 41.421875 45.53125 \nQ 43.3125 49.21875 43.3125 52.78125 \nQ 43.3125 58.59375 39.234375 62.25 \nQ 35.15625 65.921875 28.609375 65.921875 \nQ 23.96875 65.921875 18.8125 64.3125 \nQ 13.671875 62.703125 7.8125 59.421875 \nL 7.8125 69.390625 \nQ 13.765625 71.78125 18.9375 73 \nQ 24.125 74.21875 28.421875 74.21875 \nQ 39.75 74.21875 46.484375 68.546875 \nQ 53.21875 62.890625 53.21875 53.421875 \nQ 53.21875 48.921875 51.53125 44.890625 \nQ 49.859375 40.875 45.40625 35.40625 \nQ 44.1875 33.984375 37.640625 27.21875 \nQ 31.109375 20.453125 19.1875 8.296875 \nz\n\" id=\"DejaVuSans-50\"/>\n      </defs>\n      <g transform=\"translate(142.025008 255.116406)scale(0.11 -0.11)\">\n       <use xlink:href=\"#DejaVuSans-50\"/>\n      </g>\n     </g>\n    </g>\n    <g id=\"xtick_4\">\n     <g id=\"line2d_4\">\n      <g>\n       <use style=\"stroke:#000000;stroke-width:0.8;\" x=\"183.238273\" xlink:href=\"#m53ae35934b\" y=\"239.758125\"/>\n      </g>\n     </g>\n     <g id=\"text_4\">\n      <!-- 3 -->\n      <defs>\n       <path d=\"M 40.578125 39.3125 \nQ 47.65625 37.796875 51.625 33 \nQ 55.609375 28.21875 55.609375 21.1875 \nQ 55.609375 10.40625 48.1875 4.484375 \nQ 40.765625 -1.421875 27.09375 -1.421875 \nQ 22.515625 -1.421875 17.65625 -0.515625 \nQ 12.796875 0.390625 7.625 2.203125 \nL 7.625 11.71875 \nQ 11.71875 9.328125 16.59375 8.109375 \nQ 21.484375 6.890625 26.8125 6.890625 \nQ 36.078125 6.890625 40.9375 10.546875 \nQ 45.796875 14.203125 45.796875 21.1875 \nQ 45.796875 27.640625 41.28125 31.265625 \nQ 36.765625 34.90625 28.71875 34.90625 \nL 20.21875 34.90625 \nL 20.21875 43.015625 \nL 29.109375 43.015625 \nQ 36.375 43.015625 40.234375 45.921875 \nQ 44.09375 48.828125 44.09375 54.296875 \nQ 44.09375 59.90625 40.109375 62.90625 \nQ 36.140625 65.921875 28.71875 65.921875 \nQ 24.65625 65.921875 20.015625 65.03125 \nQ 15.375 64.15625 9.8125 62.3125 \nL 9.8125 71.09375 \nQ 15.4375 72.65625 20.34375 73.4375 \nQ 25.25 74.21875 29.59375 74.21875 \nQ 40.828125 74.21875 47.359375 69.109375 \nQ 53.90625 64.015625 53.90625 55.328125 \nQ 53.90625 49.265625 50.4375 45.09375 \nQ 46.96875 40.921875 40.578125 39.3125 \nz\n\" id=\"DejaVuSans-51\"/>\n      </defs>\n      <g transform=\"translate(179.738898 255.116406)scale(0.11 -0.11)\">\n       <use xlink:href=\"#DejaVuSans-51\"/>\n      </g>\n     </g>\n    </g>\n    <g id=\"xtick_5\">\n     <g id=\"line2d_5\">\n      <g>\n       <use style=\"stroke:#000000;stroke-width:0.8;\" x=\"220.952164\" xlink:href=\"#m53ae35934b\" y=\"239.758125\"/>\n      </g>\n     </g>\n     <g id=\"text_5\">\n      <!-- 4 -->\n      <defs>\n       <path d=\"M 37.796875 64.3125 \nL 12.890625 25.390625 \nL 37.796875 25.390625 \nz\nM 35.203125 72.90625 \nL 47.609375 72.90625 \nL 47.609375 25.390625 \nL 58.015625 25.390625 \nL 58.015625 17.1875 \nL 47.609375 17.1875 \nL 47.609375 0 \nL 37.796875 0 \nL 37.796875 17.1875 \nL 4.890625 17.1875 \nL 4.890625 26.703125 \nz\n\" id=\"DejaVuSans-52\"/>\n      </defs>\n      <g transform=\"translate(217.452789 255.116406)scale(0.11 -0.11)\">\n       <use xlink:href=\"#DejaVuSans-52\"/>\n      </g>\n     </g>\n    </g>\n    <g id=\"xtick_6\">\n     <g id=\"line2d_6\">\n      <g>\n       <use style=\"stroke:#000000;stroke-width:0.8;\" x=\"258.666054\" xlink:href=\"#m53ae35934b\" y=\"239.758125\"/>\n      </g>\n     </g>\n     <g id=\"text_6\">\n      <!-- 5 -->\n      <defs>\n       <path d=\"M 10.796875 72.90625 \nL 49.515625 72.90625 \nL 49.515625 64.59375 \nL 19.828125 64.59375 \nL 19.828125 46.734375 \nQ 21.96875 47.46875 24.109375 47.828125 \nQ 26.265625 48.1875 28.421875 48.1875 \nQ 40.625 48.1875 47.75 41.5 \nQ 54.890625 34.8125 54.890625 23.390625 \nQ 54.890625 11.625 47.5625 5.09375 \nQ 40.234375 -1.421875 26.90625 -1.421875 \nQ 22.3125 -1.421875 17.546875 -0.640625 \nQ 12.796875 0.140625 7.71875 1.703125 \nL 7.71875 11.625 \nQ 12.109375 9.234375 16.796875 8.0625 \nQ 21.484375 6.890625 26.703125 6.890625 \nQ 35.15625 6.890625 40.078125 11.328125 \nQ 45.015625 15.765625 45.015625 23.390625 \nQ 45.015625 31 40.078125 35.4375 \nQ 35.15625 39.890625 26.703125 39.890625 \nQ 22.75 39.890625 18.8125 39.015625 \nQ 14.890625 38.140625 10.796875 36.28125 \nz\n\" id=\"DejaVuSans-53\"/>\n      </defs>\n      <g transform=\"translate(255.166679 255.116406)scale(0.11 -0.11)\">\n       <use xlink:href=\"#DejaVuSans-53\"/>\n      </g>\n     </g>\n    </g>\n    <g id=\"xtick_7\">\n     <g id=\"line2d_7\">\n      <g>\n       <use style=\"stroke:#000000;stroke-width:0.8;\" x=\"296.379945\" xlink:href=\"#m53ae35934b\" y=\"239.758125\"/>\n      </g>\n     </g>\n     <g id=\"text_7\">\n      <!-- 6 -->\n      <defs>\n       <path d=\"M 33.015625 40.375 \nQ 26.375 40.375 22.484375 35.828125 \nQ 18.609375 31.296875 18.609375 23.390625 \nQ 18.609375 15.53125 22.484375 10.953125 \nQ 26.375 6.390625 33.015625 6.390625 \nQ 39.65625 6.390625 43.53125 10.953125 \nQ 47.40625 15.53125 47.40625 23.390625 \nQ 47.40625 31.296875 43.53125 35.828125 \nQ 39.65625 40.375 33.015625 40.375 \nz\nM 52.59375 71.296875 \nL 52.59375 62.3125 \nQ 48.875 64.0625 45.09375 64.984375 \nQ 41.3125 65.921875 37.59375 65.921875 \nQ 27.828125 65.921875 22.671875 59.328125 \nQ 17.53125 52.734375 16.796875 39.40625 \nQ 19.671875 43.65625 24.015625 45.921875 \nQ 28.375 48.1875 33.59375 48.1875 \nQ 44.578125 48.1875 50.953125 41.515625 \nQ 57.328125 34.859375 57.328125 23.390625 \nQ 57.328125 12.15625 50.6875 5.359375 \nQ 44.046875 -1.421875 33.015625 -1.421875 \nQ 20.359375 -1.421875 13.671875 8.265625 \nQ 6.984375 17.96875 6.984375 36.375 \nQ 6.984375 53.65625 15.1875 63.9375 \nQ 23.390625 74.21875 37.203125 74.21875 \nQ 40.921875 74.21875 44.703125 73.484375 \nQ 48.484375 72.75 52.59375 71.296875 \nz\n\" id=\"DejaVuSans-54\"/>\n      </defs>\n      <g transform=\"translate(292.88057 255.116406)scale(0.11 -0.11)\">\n       <use xlink:href=\"#DejaVuSans-54\"/>\n      </g>\n     </g>\n    </g>\n    <g id=\"xtick_8\">\n     <g id=\"line2d_8\">\n      <g>\n       <use style=\"stroke:#000000;stroke-width:0.8;\" x=\"334.093835\" xlink:href=\"#m53ae35934b\" y=\"239.758125\"/>\n      </g>\n     </g>\n     <g id=\"text_8\">\n      <!-- 7 -->\n      <defs>\n       <path d=\"M 8.203125 72.90625 \nL 55.078125 72.90625 \nL 55.078125 68.703125 \nL 28.609375 0 \nL 18.3125 0 \nL 43.21875 64.59375 \nL 8.203125 64.59375 \nz\n\" id=\"DejaVuSans-55\"/>\n      </defs>\n      <g transform=\"translate(330.59446 255.116406)scale(0.11 -0.11)\">\n       <use xlink:href=\"#DejaVuSans-55\"/>\n      </g>\n     </g>\n    </g>\n    <g id=\"xtick_9\">\n     <g id=\"line2d_9\">\n      <g>\n       <use style=\"stroke:#000000;stroke-width:0.8;\" x=\"371.807726\" xlink:href=\"#m53ae35934b\" y=\"239.758125\"/>\n      </g>\n     </g>\n     <g id=\"text_9\">\n      <!-- 8 -->\n      <defs>\n       <path d=\"M 31.78125 34.625 \nQ 24.75 34.625 20.71875 30.859375 \nQ 16.703125 27.09375 16.703125 20.515625 \nQ 16.703125 13.921875 20.71875 10.15625 \nQ 24.75 6.390625 31.78125 6.390625 \nQ 38.8125 6.390625 42.859375 10.171875 \nQ 46.921875 13.96875 46.921875 20.515625 \nQ 46.921875 27.09375 42.890625 30.859375 \nQ 38.875 34.625 31.78125 34.625 \nz\nM 21.921875 38.8125 \nQ 15.578125 40.375 12.03125 44.71875 \nQ 8.5 49.078125 8.5 55.328125 \nQ 8.5 64.0625 14.71875 69.140625 \nQ 20.953125 74.21875 31.78125 74.21875 \nQ 42.671875 74.21875 48.875 69.140625 \nQ 55.078125 64.0625 55.078125 55.328125 \nQ 55.078125 49.078125 51.53125 44.71875 \nQ 48 40.375 41.703125 38.8125 \nQ 48.828125 37.15625 52.796875 32.3125 \nQ 56.78125 27.484375 56.78125 20.515625 \nQ 56.78125 9.90625 50.3125 4.234375 \nQ 43.84375 -1.421875 31.78125 -1.421875 \nQ 19.734375 -1.421875 13.25 4.234375 \nQ 6.78125 9.90625 6.78125 20.515625 \nQ 6.78125 27.484375 10.78125 32.3125 \nQ 14.796875 37.15625 21.921875 38.8125 \nz\nM 18.3125 54.390625 \nQ 18.3125 48.734375 21.84375 45.5625 \nQ 25.390625 42.390625 31.78125 42.390625 \nQ 38.140625 42.390625 41.71875 45.5625 \nQ 45.3125 48.734375 45.3125 54.390625 \nQ 45.3125 60.0625 41.71875 63.234375 \nQ 38.140625 66.40625 31.78125 66.40625 \nQ 25.390625 66.40625 21.84375 63.234375 \nQ 18.3125 60.0625 18.3125 54.390625 \nz\n\" id=\"DejaVuSans-56\"/>\n      </defs>\n      <g transform=\"translate(368.308351 255.116406)scale(0.11 -0.11)\">\n       <use xlink:href=\"#DejaVuSans-56\"/>\n      </g>\n     </g>\n    </g>\n   </g>\n   <g id=\"matplotlib.axis_2\">\n    <g id=\"ytick_1\">\n     <g id=\"line2d_10\">\n      <defs>\n       <path d=\"M 0 0 \nL -3.5 0 \n\" id=\"m023264c3f0\" style=\"stroke:#000000;stroke-width:0.8;\"/>\n      </defs>\n      <g>\n       <use style=\"stroke:#000000;stroke-width:0.8;\" x=\"54.908594\" xlink:href=\"#m023264c3f0\" y=\"230.032692\"/>\n      </g>\n     </g>\n     <g id=\"text_10\">\n      <!-- −0.006 -->\n      <defs>\n       <path d=\"M 10.59375 35.5 \nL 73.1875 35.5 \nL 73.1875 27.203125 \nL 10.59375 27.203125 \nz\n\" id=\"DejaVuSans-8722\"/>\n       <path d=\"M 10.6875 12.40625 \nL 21 12.40625 \nL 21 0 \nL 10.6875 0 \nz\n\" id=\"DejaVuSans-46\"/>\n      </defs>\n      <g transform=\"translate(7.2 234.211832)scale(0.11 -0.11)\">\n       <use xlink:href=\"#DejaVuSans-8722\"/>\n       <use x=\"83.789062\" xlink:href=\"#DejaVuSans-48\"/>\n       <use x=\"147.412109\" xlink:href=\"#DejaVuSans-46\"/>\n       <use x=\"179.199219\" xlink:href=\"#DejaVuSans-48\"/>\n       <use x=\"242.822266\" xlink:href=\"#DejaVuSans-48\"/>\n       <use x=\"306.445312\" xlink:href=\"#DejaVuSans-54\"/>\n      </g>\n     </g>\n    </g>\n    <g id=\"ytick_2\">\n     <g id=\"line2d_11\">\n      <g>\n       <use style=\"stroke:#000000;stroke-width:0.8;\" x=\"54.908594\" xlink:href=\"#m023264c3f0\" y=\"197.050634\"/>\n      </g>\n     </g>\n     <g id=\"text_11\">\n      <!-- −0.005 -->\n      <g transform=\"translate(7.2 201.229774)scale(0.11 -0.11)\">\n       <use xlink:href=\"#DejaVuSans-8722\"/>\n       <use x=\"83.789062\" xlink:href=\"#DejaVuSans-48\"/>\n       <use x=\"147.412109\" xlink:href=\"#DejaVuSans-46\"/>\n       <use x=\"179.199219\" xlink:href=\"#DejaVuSans-48\"/>\n       <use x=\"242.822266\" xlink:href=\"#DejaVuSans-48\"/>\n       <use x=\"306.445312\" xlink:href=\"#DejaVuSans-53\"/>\n      </g>\n     </g>\n    </g>\n    <g id=\"ytick_3\">\n     <g id=\"line2d_12\">\n      <g>\n       <use style=\"stroke:#000000;stroke-width:0.8;\" x=\"54.908594\" xlink:href=\"#m023264c3f0\" y=\"164.068576\"/>\n      </g>\n     </g>\n     <g id=\"text_12\">\n      <!-- −0.004 -->\n      <g transform=\"translate(7.2 168.247716)scale(0.11 -0.11)\">\n       <use xlink:href=\"#DejaVuSans-8722\"/>\n       <use x=\"83.789062\" xlink:href=\"#DejaVuSans-48\"/>\n       <use x=\"147.412109\" xlink:href=\"#DejaVuSans-46\"/>\n       <use x=\"179.199219\" xlink:href=\"#DejaVuSans-48\"/>\n       <use x=\"242.822266\" xlink:href=\"#DejaVuSans-48\"/>\n       <use x=\"306.445312\" xlink:href=\"#DejaVuSans-52\"/>\n      </g>\n     </g>\n    </g>\n    <g id=\"ytick_4\">\n     <g id=\"line2d_13\">\n      <g>\n       <use style=\"stroke:#000000;stroke-width:0.8;\" x=\"54.908594\" xlink:href=\"#m023264c3f0\" y=\"131.086518\"/>\n      </g>\n     </g>\n     <g id=\"text_13\">\n      <!-- −0.003 -->\n      <g transform=\"translate(7.2 135.265658)scale(0.11 -0.11)\">\n       <use xlink:href=\"#DejaVuSans-8722\"/>\n       <use x=\"83.789062\" xlink:href=\"#DejaVuSans-48\"/>\n       <use x=\"147.412109\" xlink:href=\"#DejaVuSans-46\"/>\n       <use x=\"179.199219\" xlink:href=\"#DejaVuSans-48\"/>\n       <use x=\"242.822266\" xlink:href=\"#DejaVuSans-48\"/>\n       <use x=\"306.445312\" xlink:href=\"#DejaVuSans-51\"/>\n      </g>\n     </g>\n    </g>\n    <g id=\"ytick_5\">\n     <g id=\"line2d_14\">\n      <g>\n       <use style=\"stroke:#000000;stroke-width:0.8;\" x=\"54.908594\" xlink:href=\"#m023264c3f0\" y=\"98.104459\"/>\n      </g>\n     </g>\n     <g id=\"text_14\">\n      <!-- −0.002 -->\n      <g transform=\"translate(7.2 102.2836)scale(0.11 -0.11)\">\n       <use xlink:href=\"#DejaVuSans-8722\"/>\n       <use x=\"83.789062\" xlink:href=\"#DejaVuSans-48\"/>\n       <use x=\"147.412109\" xlink:href=\"#DejaVuSans-46\"/>\n       <use x=\"179.199219\" xlink:href=\"#DejaVuSans-48\"/>\n       <use x=\"242.822266\" xlink:href=\"#DejaVuSans-48\"/>\n       <use x=\"306.445312\" xlink:href=\"#DejaVuSans-50\"/>\n      </g>\n     </g>\n    </g>\n    <g id=\"ytick_6\">\n     <g id=\"line2d_15\">\n      <g>\n       <use style=\"stroke:#000000;stroke-width:0.8;\" x=\"54.908594\" xlink:href=\"#m023264c3f0\" y=\"65.122401\"/>\n      </g>\n     </g>\n     <g id=\"text_15\">\n      <!-- −0.001 -->\n      <g transform=\"translate(7.2 69.301542)scale(0.11 -0.11)\">\n       <use xlink:href=\"#DejaVuSans-8722\"/>\n       <use x=\"83.789062\" xlink:href=\"#DejaVuSans-48\"/>\n       <use x=\"147.412109\" xlink:href=\"#DejaVuSans-46\"/>\n       <use x=\"179.199219\" xlink:href=\"#DejaVuSans-48\"/>\n       <use x=\"242.822266\" xlink:href=\"#DejaVuSans-48\"/>\n       <use x=\"306.445312\" xlink:href=\"#DejaVuSans-49\"/>\n      </g>\n     </g>\n    </g>\n    <g id=\"ytick_7\">\n     <g id=\"line2d_16\">\n      <g>\n       <use style=\"stroke:#000000;stroke-width:0.8;\" x=\"54.908594\" xlink:href=\"#m023264c3f0\" y=\"32.140343\"/>\n      </g>\n     </g>\n     <g id=\"text_16\">\n      <!-- 0.000 -->\n      <g transform=\"translate(16.417656 36.319484)scale(0.11 -0.11)\">\n       <use xlink:href=\"#DejaVuSans-48\"/>\n       <use x=\"63.623047\" xlink:href=\"#DejaVuSans-46\"/>\n       <use x=\"95.410156\" xlink:href=\"#DejaVuSans-48\"/>\n       <use x=\"159.033203\" xlink:href=\"#DejaVuSans-48\"/>\n       <use x=\"222.65625\" xlink:href=\"#DejaVuSans-48\"/>\n      </g>\n     </g>\n    </g>\n   </g>\n   <g id=\"line2d_17\">\n    <path clip-path=\"url(#p5887cf0e6b)\" d=\"M 70.126776 229.874489 \nL 70.15695 229.716349 \nL 70.163234 229.683432 \nL 70.169488 229.650673 \nL 70.181997 229.585172 \nL 70.207016 229.454236 \nL 70.257053 229.192623 \nL 70.357126 228.670438 \nL 70.557274 227.630214 \nL 70.957569 225.566239 \nL 71.758159 221.503321 \nL 73.359339 213.630848 \nL 76.550677 198.896582 \nL 80.322066 183.015035 \nL 84.093455 168.646017 \nL 87.864844 155.645477 \nL 91.636233 143.883083 \nL 95.407622 133.240917 \nL 99.179011 123.612291 \nL 102.9504 114.900677 \nL 106.721789 107.018741 \nL 110.493178 99.887465 \nL 114.264567 93.435358 \nL 118.035956 87.597738 \nL 121.807345 82.316081 \nL 125.578734 77.537439 \nL 129.350123 73.213907 \nL 133.121512 69.302139 \nL 136.892902 65.76292 \nL 140.664291 62.56077 \nL 144.43568 59.663587 \nL 148.207069 57.042325 \nL 151.978458 54.670708 \nL 155.749847 52.524959 \nL 159.521236 50.583567 \nL 163.292625 48.82707 \nL 167.064014 47.237858 \nL 170.835403 45.799999 \nL 174.606792 44.49908 \nL 178.378181 43.322057 \nL 182.14957 42.257132 \nL 185.920959 41.293628 \nL 189.692348 40.421887 \nL 193.463737 39.633169 \nL 197.235126 38.919566 \nL 201.006515 38.273926 \nL 204.777905 37.689775 \nL 208.549294 37.161258 \nL 212.320683 36.683076 \nL 216.092072 36.250435 \nL 219.863461 35.858997 \nL 223.63485 35.50484 \nL 227.406239 35.184412 \nL 231.177628 34.894501 \nL 234.949017 34.6322 \nL 238.720406 34.39488 \nL 242.491795 34.180163 \nL 246.263184 33.985894 \nL 250.034573 33.810127 \nL 253.805962 33.6511 \nL 257.577351 33.507219 \nL 261.34874 33.37704 \nL 265.120129 33.25926 \nL 268.891518 33.152696 \nL 272.662907 33.056282 \nL 276.434297 32.96905 \nL 280.205686 32.890125 \nL 283.977075 32.818717 \nL 287.748464 32.75411 \nL 291.519853 32.695656 \nL 295.291242 32.64277 \nL 299.062631 32.594919 \nL 302.83402 32.551627 \nL 306.605409 32.512457 \nL 310.376798 32.477017 \nL 314.148187 32.444953 \nL 317.919576 32.415943 \nL 321.690965 32.389695 \nL 325.462354 32.365948 \nL 329.233743 32.344462 \nL 333.005132 32.325022 \nL 336.776521 32.307433 \nL 340.54791 32.29152 \nL 344.3193 32.277122 \nL 348.090689 32.264096 \nL 351.862078 32.25231 \nL 355.633467 32.241646 \nL 359.404856 32.231999 \nL 363.176245 32.22327 \nL 366.947634 32.215372 \nL 370.719023 32.208226 \nL 374.490412 32.201761 \n\" style=\"fill:none;stroke:#1f77b4;stroke-linecap:square;stroke-width:1.5;\"/>\n   </g>\n   <g id=\"patch_3\">\n    <path d=\"M 54.908594 239.758125 \nL 54.908594 22.318125 \n\" style=\"fill:none;stroke:#000000;stroke-linecap:square;stroke-linejoin:miter;stroke-width:0.8;\"/>\n   </g>\n   <g id=\"patch_4\">\n    <path d=\"M 389.708594 239.758125 \nL 389.708594 22.318125 \n\" style=\"fill:none;stroke:#000000;stroke-linecap:square;stroke-linejoin:miter;stroke-width:0.8;\"/>\n   </g>\n   <g id=\"patch_5\">\n    <path d=\"M 54.908594 239.758125 \nL 389.708594 239.758125 \n\" style=\"fill:none;stroke:#000000;stroke-linecap:square;stroke-linejoin:miter;stroke-width:0.8;\"/>\n   </g>\n   <g id=\"patch_6\">\n    <path d=\"M 54.908594 22.318125 \nL 389.708594 22.318125 \n\" style=\"fill:none;stroke:#000000;stroke-linecap:square;stroke-linejoin:miter;stroke-width:0.8;\"/>\n   </g>\n   <g id=\"text_17\">\n    <!-- Carga de un condensador -->\n    <defs>\n     <path d=\"M 64.40625 67.28125 \nL 64.40625 56.890625 \nQ 59.421875 61.53125 53.78125 63.8125 \nQ 48.140625 66.109375 41.796875 66.109375 \nQ 29.296875 66.109375 22.65625 58.46875 \nQ 16.015625 50.828125 16.015625 36.375 \nQ 16.015625 21.96875 22.65625 14.328125 \nQ 29.296875 6.6875 41.796875 6.6875 \nQ 48.140625 6.6875 53.78125 8.984375 \nQ 59.421875 11.28125 64.40625 15.921875 \nL 64.40625 5.609375 \nQ 59.234375 2.09375 53.4375 0.328125 \nQ 47.65625 -1.421875 41.21875 -1.421875 \nQ 24.65625 -1.421875 15.125 8.703125 \nQ 5.609375 18.84375 5.609375 36.375 \nQ 5.609375 53.953125 15.125 64.078125 \nQ 24.65625 74.21875 41.21875 74.21875 \nQ 47.75 74.21875 53.53125 72.484375 \nQ 59.328125 70.75 64.40625 67.28125 \nz\n\" id=\"DejaVuSans-67\"/>\n     <path d=\"M 34.28125 27.484375 \nQ 23.390625 27.484375 19.1875 25 \nQ 14.984375 22.515625 14.984375 16.5 \nQ 14.984375 11.71875 18.140625 8.90625 \nQ 21.296875 6.109375 26.703125 6.109375 \nQ 34.1875 6.109375 38.703125 11.40625 \nQ 43.21875 16.703125 43.21875 25.484375 \nL 43.21875 27.484375 \nz\nM 52.203125 31.203125 \nL 52.203125 0 \nL 43.21875 0 \nL 43.21875 8.296875 \nQ 40.140625 3.328125 35.546875 0.953125 \nQ 30.953125 -1.421875 24.3125 -1.421875 \nQ 15.921875 -1.421875 10.953125 3.296875 \nQ 6 8.015625 6 15.921875 \nQ 6 25.140625 12.171875 29.828125 \nQ 18.359375 34.515625 30.609375 34.515625 \nL 43.21875 34.515625 \nL 43.21875 35.40625 \nQ 43.21875 41.609375 39.140625 45 \nQ 35.0625 48.390625 27.6875 48.390625 \nQ 23 48.390625 18.546875 47.265625 \nQ 14.109375 46.140625 10.015625 43.890625 \nL 10.015625 52.203125 \nQ 14.9375 54.109375 19.578125 55.046875 \nQ 24.21875 56 28.609375 56 \nQ 40.484375 56 46.34375 49.84375 \nQ 52.203125 43.703125 52.203125 31.203125 \nz\n\" id=\"DejaVuSans-97\"/>\n     <path d=\"M 41.109375 46.296875 \nQ 39.59375 47.171875 37.8125 47.578125 \nQ 36.03125 48 33.890625 48 \nQ 26.265625 48 22.1875 43.046875 \nQ 18.109375 38.09375 18.109375 28.8125 \nL 18.109375 0 \nL 9.078125 0 \nL 9.078125 54.6875 \nL 18.109375 54.6875 \nL 18.109375 46.1875 \nQ 20.953125 51.171875 25.484375 53.578125 \nQ 30.03125 56 36.53125 56 \nQ 37.453125 56 38.578125 55.875 \nQ 39.703125 55.765625 41.0625 55.515625 \nz\n\" id=\"DejaVuSans-114\"/>\n     <path d=\"M 45.40625 27.984375 \nQ 45.40625 37.75 41.375 43.109375 \nQ 37.359375 48.484375 30.078125 48.484375 \nQ 22.859375 48.484375 18.828125 43.109375 \nQ 14.796875 37.75 14.796875 27.984375 \nQ 14.796875 18.265625 18.828125 12.890625 \nQ 22.859375 7.515625 30.078125 7.515625 \nQ 37.359375 7.515625 41.375 12.890625 \nQ 45.40625 18.265625 45.40625 27.984375 \nz\nM 54.390625 6.78125 \nQ 54.390625 -7.171875 48.1875 -13.984375 \nQ 42 -20.796875 29.203125 -20.796875 \nQ 24.46875 -20.796875 20.265625 -20.09375 \nQ 16.0625 -19.390625 12.109375 -17.921875 \nL 12.109375 -9.1875 \nQ 16.0625 -11.328125 19.921875 -12.34375 \nQ 23.78125 -13.375 27.78125 -13.375 \nQ 36.625 -13.375 41.015625 -8.765625 \nQ 45.40625 -4.15625 45.40625 5.171875 \nL 45.40625 9.625 \nQ 42.625 4.78125 38.28125 2.390625 \nQ 33.9375 0 27.875 0 \nQ 17.828125 0 11.671875 7.65625 \nQ 5.515625 15.328125 5.515625 27.984375 \nQ 5.515625 40.671875 11.671875 48.328125 \nQ 17.828125 56 27.875 56 \nQ 33.9375 56 38.28125 53.609375 \nQ 42.625 51.21875 45.40625 46.390625 \nL 45.40625 54.6875 \nL 54.390625 54.6875 \nz\n\" id=\"DejaVuSans-103\"/>\n     <path id=\"DejaVuSans-32\"/>\n     <path d=\"M 45.40625 46.390625 \nL 45.40625 75.984375 \nL 54.390625 75.984375 \nL 54.390625 0 \nL 45.40625 0 \nL 45.40625 8.203125 \nQ 42.578125 3.328125 38.25 0.953125 \nQ 33.9375 -1.421875 27.875 -1.421875 \nQ 17.96875 -1.421875 11.734375 6.484375 \nQ 5.515625 14.40625 5.515625 27.296875 \nQ 5.515625 40.1875 11.734375 48.09375 \nQ 17.96875 56 27.875 56 \nQ 33.9375 56 38.25 53.625 \nQ 42.578125 51.265625 45.40625 46.390625 \nz\nM 14.796875 27.296875 \nQ 14.796875 17.390625 18.875 11.75 \nQ 22.953125 6.109375 30.078125 6.109375 \nQ 37.203125 6.109375 41.296875 11.75 \nQ 45.40625 17.390625 45.40625 27.296875 \nQ 45.40625 37.203125 41.296875 42.84375 \nQ 37.203125 48.484375 30.078125 48.484375 \nQ 22.953125 48.484375 18.875 42.84375 \nQ 14.796875 37.203125 14.796875 27.296875 \nz\n\" id=\"DejaVuSans-100\"/>\n     <path d=\"M 56.203125 29.59375 \nL 56.203125 25.203125 \nL 14.890625 25.203125 \nQ 15.484375 15.921875 20.484375 11.0625 \nQ 25.484375 6.203125 34.421875 6.203125 \nQ 39.59375 6.203125 44.453125 7.46875 \nQ 49.3125 8.734375 54.109375 11.28125 \nL 54.109375 2.78125 \nQ 49.265625 0.734375 44.1875 -0.34375 \nQ 39.109375 -1.421875 33.890625 -1.421875 \nQ 20.796875 -1.421875 13.15625 6.1875 \nQ 5.515625 13.8125 5.515625 26.8125 \nQ 5.515625 40.234375 12.765625 48.109375 \nQ 20.015625 56 32.328125 56 \nQ 43.359375 56 49.78125 48.890625 \nQ 56.203125 41.796875 56.203125 29.59375 \nz\nM 47.21875 32.234375 \nQ 47.125 39.59375 43.09375 43.984375 \nQ 39.0625 48.390625 32.421875 48.390625 \nQ 24.90625 48.390625 20.390625 44.140625 \nQ 15.875 39.890625 15.1875 32.171875 \nz\n\" id=\"DejaVuSans-101\"/>\n     <path d=\"M 8.5 21.578125 \nL 8.5 54.6875 \nL 17.484375 54.6875 \nL 17.484375 21.921875 \nQ 17.484375 14.15625 20.5 10.265625 \nQ 23.53125 6.390625 29.59375 6.390625 \nQ 36.859375 6.390625 41.078125 11.03125 \nQ 45.3125 15.671875 45.3125 23.6875 \nL 45.3125 54.6875 \nL 54.296875 54.6875 \nL 54.296875 0 \nL 45.3125 0 \nL 45.3125 8.40625 \nQ 42.046875 3.421875 37.71875 1 \nQ 33.40625 -1.421875 27.6875 -1.421875 \nQ 18.265625 -1.421875 13.375 4.4375 \nQ 8.5 10.296875 8.5 21.578125 \nz\nM 31.109375 56 \nz\n\" id=\"DejaVuSans-117\"/>\n     <path d=\"M 54.890625 33.015625 \nL 54.890625 0 \nL 45.90625 0 \nL 45.90625 32.71875 \nQ 45.90625 40.484375 42.875 44.328125 \nQ 39.84375 48.1875 33.796875 48.1875 \nQ 26.515625 48.1875 22.3125 43.546875 \nQ 18.109375 38.921875 18.109375 30.90625 \nL 18.109375 0 \nL 9.078125 0 \nL 9.078125 54.6875 \nL 18.109375 54.6875 \nL 18.109375 46.1875 \nQ 21.34375 51.125 25.703125 53.5625 \nQ 30.078125 56 35.796875 56 \nQ 45.21875 56 50.046875 50.171875 \nQ 54.890625 44.34375 54.890625 33.015625 \nz\n\" id=\"DejaVuSans-110\"/>\n     <path d=\"M 48.78125 52.59375 \nL 48.78125 44.1875 \nQ 44.96875 46.296875 41.140625 47.34375 \nQ 37.3125 48.390625 33.40625 48.390625 \nQ 24.65625 48.390625 19.8125 42.84375 \nQ 14.984375 37.3125 14.984375 27.296875 \nQ 14.984375 17.28125 19.8125 11.734375 \nQ 24.65625 6.203125 33.40625 6.203125 \nQ 37.3125 6.203125 41.140625 7.25 \nQ 44.96875 8.296875 48.78125 10.40625 \nL 48.78125 2.09375 \nQ 45.015625 0.34375 40.984375 -0.53125 \nQ 36.96875 -1.421875 32.421875 -1.421875 \nQ 20.0625 -1.421875 12.78125 6.34375 \nQ 5.515625 14.109375 5.515625 27.296875 \nQ 5.515625 40.671875 12.859375 48.328125 \nQ 20.21875 56 33.015625 56 \nQ 37.15625 56 41.109375 55.140625 \nQ 45.0625 54.296875 48.78125 52.59375 \nz\n\" id=\"DejaVuSans-99\"/>\n     <path d=\"M 30.609375 48.390625 \nQ 23.390625 48.390625 19.1875 42.75 \nQ 14.984375 37.109375 14.984375 27.296875 \nQ 14.984375 17.484375 19.15625 11.84375 \nQ 23.34375 6.203125 30.609375 6.203125 \nQ 37.796875 6.203125 41.984375 11.859375 \nQ 46.1875 17.53125 46.1875 27.296875 \nQ 46.1875 37.015625 41.984375 42.703125 \nQ 37.796875 48.390625 30.609375 48.390625 \nz\nM 30.609375 56 \nQ 42.328125 56 49.015625 48.375 \nQ 55.71875 40.765625 55.71875 27.296875 \nQ 55.71875 13.875 49.015625 6.21875 \nQ 42.328125 -1.421875 30.609375 -1.421875 \nQ 18.84375 -1.421875 12.171875 6.21875 \nQ 5.515625 13.875 5.515625 27.296875 \nQ 5.515625 40.765625 12.171875 48.375 \nQ 18.84375 56 30.609375 56 \nz\n\" id=\"DejaVuSans-111\"/>\n     <path d=\"M 44.28125 53.078125 \nL 44.28125 44.578125 \nQ 40.484375 46.53125 36.375 47.5 \nQ 32.28125 48.484375 27.875 48.484375 \nQ 21.1875 48.484375 17.84375 46.4375 \nQ 14.5 44.390625 14.5 40.28125 \nQ 14.5 37.15625 16.890625 35.375 \nQ 19.28125 33.59375 26.515625 31.984375 \nL 29.59375 31.296875 \nQ 39.15625 29.25 43.1875 25.515625 \nQ 47.21875 21.78125 47.21875 15.09375 \nQ 47.21875 7.46875 41.1875 3.015625 \nQ 35.15625 -1.421875 24.609375 -1.421875 \nQ 20.21875 -1.421875 15.453125 -0.5625 \nQ 10.6875 0.296875 5.421875 2 \nL 5.421875 11.28125 \nQ 10.40625 8.6875 15.234375 7.390625 \nQ 20.0625 6.109375 24.8125 6.109375 \nQ 31.15625 6.109375 34.5625 8.28125 \nQ 37.984375 10.453125 37.984375 14.40625 \nQ 37.984375 18.0625 35.515625 20.015625 \nQ 33.0625 21.96875 24.703125 23.78125 \nL 21.578125 24.515625 \nQ 13.234375 26.265625 9.515625 29.90625 \nQ 5.8125 33.546875 5.8125 39.890625 \nQ 5.8125 47.609375 11.28125 51.796875 \nQ 16.75 56 26.8125 56 \nQ 31.78125 56 36.171875 55.265625 \nQ 40.578125 54.546875 44.28125 53.078125 \nz\n\" id=\"DejaVuSans-115\"/>\n    </defs>\n    <g transform=\"translate(144.838281 16.318125)scale(0.12 -0.12)\">\n     <use xlink:href=\"#DejaVuSans-67\"/>\n     <use x=\"69.824219\" xlink:href=\"#DejaVuSans-97\"/>\n     <use x=\"131.103516\" xlink:href=\"#DejaVuSans-114\"/>\n     <use x=\"172.201172\" xlink:href=\"#DejaVuSans-103\"/>\n     <use x=\"235.677734\" xlink:href=\"#DejaVuSans-97\"/>\n     <use x=\"296.957031\" xlink:href=\"#DejaVuSans-32\"/>\n     <use x=\"328.744141\" xlink:href=\"#DejaVuSans-100\"/>\n     <use x=\"392.220703\" xlink:href=\"#DejaVuSans-101\"/>\n     <use x=\"453.744141\" xlink:href=\"#DejaVuSans-32\"/>\n     <use x=\"485.53125\" xlink:href=\"#DejaVuSans-117\"/>\n     <use x=\"548.910156\" xlink:href=\"#DejaVuSans-110\"/>\n     <use x=\"612.289062\" xlink:href=\"#DejaVuSans-32\"/>\n     <use x=\"644.076172\" xlink:href=\"#DejaVuSans-99\"/>\n     <use x=\"699.056641\" xlink:href=\"#DejaVuSans-111\"/>\n     <use x=\"760.238281\" xlink:href=\"#DejaVuSans-110\"/>\n     <use x=\"823.617188\" xlink:href=\"#DejaVuSans-100\"/>\n     <use x=\"887.09375\" xlink:href=\"#DejaVuSans-101\"/>\n     <use x=\"948.617188\" xlink:href=\"#DejaVuSans-110\"/>\n     <use x=\"1011.996094\" xlink:href=\"#DejaVuSans-115\"/>\n     <use x=\"1064.095703\" xlink:href=\"#DejaVuSans-97\"/>\n     <use x=\"1125.375\" xlink:href=\"#DejaVuSans-100\"/>\n     <use x=\"1188.851562\" xlink:href=\"#DejaVuSans-111\"/>\n     <use x=\"1250.033203\" xlink:href=\"#DejaVuSans-114\"/>\n    </g>\n   </g>\n  </g>\n </g>\n <defs>\n  <clipPath id=\"p5887cf0e6b\">\n   <rect height=\"217.44\" width=\"334.8\" x=\"54.908594\" y=\"22.318125\"/>\n  </clipPath>\n </defs>\n</svg>\n",
            "image/png": "[encoded data removed]"
          },
          "metadata": {
            "needs_background": "light"
          }
        }
      ],
      "execution_count": 36,
      "metadata": {}
    },
    {
      "cell_type": "markdown",
      "source": [
        "> **Pregunta:** Etiqueta los ejes convenientemente y comenta la gráfica. Dibuja otra gráfica con el voltaje en el borne `V1`. ¿Por qué son *opuestas*? ¿Qué le ocurre al voltaje a medida que evoluciona el circuito en el tiempo? Dibuja las gráficas en un formato estándar de representación vectorial (SVG, por ejemplo). Algo de ayuda [aquí](https://ipython.readthedocs.io/en/stable/api/generated/IPython.display.html#IPython.display.set_matplotlib_formats). ¿Qué valores devuelve el análisis de tipo `.op`? Justifícalo."
      ],
      "metadata": {}
    },
    {
      "cell_type": "markdown",
      "source": [
        "## Carrera de condensadores\n",
        "\n",
        "Ahora tenemos un circuito con dos condensadores en paralelo: \n",
        "\n",
        "![](https://raw.githubusercontent.com/pammacdotnet/spicelab/master/condensadores%20en%20paralelo.svg?sanitize=true)\n",
        "\n",
        "> **Pregunta:** Crea el netlist de este circuito e identifica qué condensador se satura primero. Dibuja la evolución de la intensidad en ambas ramas de manera simultánea. [Aquí](https://matplotlib.org/gallery/api/two_scales.html) tienes un ejemplo de cómo se hace esto en Matplotlib. Recuerda que para que Ahkab nos devuelva la corriente en una rama, debe de estar presente una pila. Si es necesario, inserta pilas virtuales de valor nulo (cero voltios), tal y como hemos comentado antes. Grafica también los voltajes (en otra gráfica, pero que aparezcan juntos). "
      ],
      "metadata": {}
    },
    {
      "cell_type": "code",
      "source": [
        "%%writefile \"carrera en condensadores.ckt\"\n",
        "* Carga condensador\n",
        "v0 0 1 type=vdc vdc=10\n",
        "r1 0 2 3k\n",
        "c1 2 3 47u ic=0\n",
        "v1dummy 3 1 type=vdc vdc=0\n",
        "c2 2 4 22u ic=0\n",
        "v2dummy 4 1 type=vdc vdc=0\n",
        ".tran tstep=0.01 tstart=6.5 tstop=7.5 uic=0\n",
        ".end"
      ],
      "outputs": [
        {
          "output_type": "stream",
          "name": "stdout",
          "text": [
            "Writing carrera en condensadores.ckt\n"
          ]
        }
      ],
      "execution_count": 37,
      "metadata": {}
    },
    {
      "cell_type": "code",
      "source": [
        "circuito_y_análisis = ahkab.netlist_parser.parse_circuit(\"carrera en condensadores.ckt\")\n",
        "circuito = circuito_y_análisis[0]       \n",
        "análisis_en_netlist = circuito_y_análisis[1]\n",
        "lista_de_análisis = ahkab.netlist_parser.parse_analysis(circuito, análisis_en_netlist)\n",
        "lista_de_análisis[0]['outfile'] = \"simulación tran carrera condensadores.tsv\"\n",
        "resultados = ahkab.run(circuito, lista_de_análisis)"
      ],
      "outputs": [
        {
          "output_type": "stream",
          "name": "stdout",
          "text": [
            "Starting transient analysis: \n",
            "Selected method: TRAP\n",
            "Solving...  done.\n",
            "Average time step: 0.00900901\n"
          ]
        }
      ],
      "execution_count": 38,
      "metadata": {}
    },
    {
      "cell_type": "code",
      "source": [
        "figura = plt.figure()\n",
        "plt.title(\"Carrera de condensadores\")\n",
        "plt.xlim(6.65, 7.5)\n",
        "plt.ylim(0.0, 0.0005)\n",
        "plt.grid()\n",
        "plt.plot(resultados['tran']['T'], resultados['tran']['I(V1DUMMY)'],label=\"Intensidad en C1\")\n",
        "plt.plot(resultados['tran']['T'], resultados['tran']['I(V2DUMMY)'],label=\"Intensidad en C2\")"
      ],
      "outputs": [
        {
          "output_type": "execute_result",
          "data": {
            "text/plain": [
              "[<matplotlib.lines.Line2D at 0x1c21c22650>]"
            ]
          },
          "metadata": {},
          "execution_count": 39
        },
        {
          "output_type": "display_data",
          "data": {
            "text/plain": "<Figure size 432x288 with 1 Axes>",
            "image/svg+xml": "<?xml version=\"1.0\" encoding=\"utf-8\" standalone=\"no\"?>\n<!DOCTYPE svg PUBLIC \"-//W3C//DTD SVG 1.1//EN\"\n  \"http://www.w3.org/Graphics/SVG/1.1/DTD/svg11.dtd\">\n<!-- Created with matplotlib (https://matplotlib.org/) -->\n<svg height=\"264.604062pt\" version=\"1.1\" viewBox=\"0 0 403.436406 264.604062\" width=\"403.436406pt\" xmlns=\"http://www.w3.org/2000/svg\" xmlns:xlink=\"http://www.w3.org/1999/xlink\">\n <defs>\n  <style type=\"text/css\">\n*{stroke-linecap:butt;stroke-linejoin:round;}\n  </style>\n </defs>\n <g id=\"figure_1\">\n  <g id=\"patch_1\">\n   <path d=\"M 0 264.604062 \nL 403.436406 264.604062 \nL 403.436406 0 \nL 0 0 \nz\n\" style=\"fill:none;\"/>\n  </g>\n  <g id=\"axes_1\">\n   <g id=\"patch_2\">\n    <path d=\"M 52.689688 239.758125 \nL 387.489688 239.758125 \nL 387.489688 22.318125 \nL 52.689688 22.318125 \nz\n\" style=\"fill:#ffffff;\"/>\n   </g>\n   <g id=\"matplotlib.axis_1\">\n    <g id=\"xtick_1\">\n     <g id=\"line2d_1\">\n      <path clip-path=\"url(#p452bf9ad1b)\" d=\"M 72.383805 239.758125 \nL 72.383805 22.318125 \n\" style=\"fill:none;stroke:#b0b0b0;stroke-linecap:square;stroke-width:0.8;\"/>\n     </g>\n     <g id=\"line2d_2\">\n      <defs>\n       <path d=\"M 0 0 \nL 0 3.5 \n\" id=\"me624ffd70f\" style=\"stroke:#000000;stroke-width:0.8;\"/>\n      </defs>\n      <g>\n       <use style=\"stroke:#000000;stroke-width:0.8;\" x=\"72.383805\" xlink:href=\"#me624ffd70f\" y=\"239.758125\"/>\n      </g>\n     </g>\n     <g id=\"text_1\">\n      <!-- 6.7 -->\n      <defs>\n       <path d=\"M 33.015625 40.375 \nQ 26.375 40.375 22.484375 35.828125 \nQ 18.609375 31.296875 18.609375 23.390625 \nQ 18.609375 15.53125 22.484375 10.953125 \nQ 26.375 6.390625 33.015625 6.390625 \nQ 39.65625 6.390625 43.53125 10.953125 \nQ 47.40625 15.53125 47.40625 23.390625 \nQ 47.40625 31.296875 43.53125 35.828125 \nQ 39.65625 40.375 33.015625 40.375 \nz\nM 52.59375 71.296875 \nL 52.59375 62.3125 \nQ 48.875 64.0625 45.09375 64.984375 \nQ 41.3125 65.921875 37.59375 65.921875 \nQ 27.828125 65.921875 22.671875 59.328125 \nQ 17.53125 52.734375 16.796875 39.40625 \nQ 19.671875 43.65625 24.015625 45.921875 \nQ 28.375 48.1875 33.59375 48.1875 \nQ 44.578125 48.1875 50.953125 41.515625 \nQ 57.328125 34.859375 57.328125 23.390625 \nQ 57.328125 12.15625 50.6875 5.359375 \nQ 44.046875 -1.421875 33.015625 -1.421875 \nQ 20.359375 -1.421875 13.671875 8.265625 \nQ 6.984375 17.96875 6.984375 36.375 \nQ 6.984375 53.65625 15.1875 63.9375 \nQ 23.390625 74.21875 37.203125 74.21875 \nQ 40.921875 74.21875 44.703125 73.484375 \nQ 48.484375 72.75 52.59375 71.296875 \nz\n\" id=\"DejaVuSans-54\"/>\n       <path d=\"M 10.6875 12.40625 \nL 21 12.40625 \nL 21 0 \nL 10.6875 0 \nz\n\" id=\"DejaVuSans-46\"/>\n       <path d=\"M 8.203125 72.90625 \nL 55.078125 72.90625 \nL 55.078125 68.703125 \nL 28.609375 0 \nL 18.3125 0 \nL 43.21875 64.59375 \nL 8.203125 64.59375 \nz\n\" id=\"DejaVuSans-55\"/>\n      </defs>\n      <g transform=\"translate(63.637086 255.116406)scale(0.11 -0.11)\">\n       <use xlink:href=\"#DejaVuSans-54\"/>\n       <use x=\"63.623047\" xlink:href=\"#DejaVuSans-46\"/>\n       <use x=\"95.410156\" xlink:href=\"#DejaVuSans-55\"/>\n      </g>\n     </g>\n    </g>\n    <g id=\"xtick_2\">\n     <g id=\"line2d_3\">\n      <path clip-path=\"url(#p452bf9ad1b)\" d=\"M 111.77204 239.758125 \nL 111.77204 22.318125 \n\" style=\"fill:none;stroke:#b0b0b0;stroke-linecap:square;stroke-width:0.8;\"/>\n     </g>\n     <g id=\"line2d_4\">\n      <g>\n       <use style=\"stroke:#000000;stroke-width:0.8;\" x=\"111.77204\" xlink:href=\"#me624ffd70f\" y=\"239.758125\"/>\n      </g>\n     </g>\n     <g id=\"text_2\">\n      <!-- 6.8 -->\n      <defs>\n       <path d=\"M 31.78125 34.625 \nQ 24.75 34.625 20.71875 30.859375 \nQ 16.703125 27.09375 16.703125 20.515625 \nQ 16.703125 13.921875 20.71875 10.15625 \nQ 24.75 6.390625 31.78125 6.390625 \nQ 38.8125 6.390625 42.859375 10.171875 \nQ 46.921875 13.96875 46.921875 20.515625 \nQ 46.921875 27.09375 42.890625 30.859375 \nQ 38.875 34.625 31.78125 34.625 \nz\nM 21.921875 38.8125 \nQ 15.578125 40.375 12.03125 44.71875 \nQ 8.5 49.078125 8.5 55.328125 \nQ 8.5 64.0625 14.71875 69.140625 \nQ 20.953125 74.21875 31.78125 74.21875 \nQ 42.671875 74.21875 48.875 69.140625 \nQ 55.078125 64.0625 55.078125 55.328125 \nQ 55.078125 49.078125 51.53125 44.71875 \nQ 48 40.375 41.703125 38.8125 \nQ 48.828125 37.15625 52.796875 32.3125 \nQ 56.78125 27.484375 56.78125 20.515625 \nQ 56.78125 9.90625 50.3125 4.234375 \nQ 43.84375 -1.421875 31.78125 -1.421875 \nQ 19.734375 -1.421875 13.25 4.234375 \nQ 6.78125 9.90625 6.78125 20.515625 \nQ 6.78125 27.484375 10.78125 32.3125 \nQ 14.796875 37.15625 21.921875 38.8125 \nz\nM 18.3125 54.390625 \nQ 18.3125 48.734375 21.84375 45.5625 \nQ 25.390625 42.390625 31.78125 42.390625 \nQ 38.140625 42.390625 41.71875 45.5625 \nQ 45.3125 48.734375 45.3125 54.390625 \nQ 45.3125 60.0625 41.71875 63.234375 \nQ 38.140625 66.40625 31.78125 66.40625 \nQ 25.390625 66.40625 21.84375 63.234375 \nQ 18.3125 60.0625 18.3125 54.390625 \nz\n\" id=\"DejaVuSans-56\"/>\n      </defs>\n      <g transform=\"translate(103.025322 255.116406)scale(0.11 -0.11)\">\n       <use xlink:href=\"#DejaVuSans-54\"/>\n       <use x=\"63.623047\" xlink:href=\"#DejaVuSans-46\"/>\n       <use x=\"95.410156\" xlink:href=\"#DejaVuSans-56\"/>\n      </g>\n     </g>\n    </g>\n    <g id=\"xtick_3\">\n     <g id=\"line2d_5\">\n      <path clip-path=\"url(#p452bf9ad1b)\" d=\"M 151.160276 239.758125 \nL 151.160276 22.318125 \n\" style=\"fill:none;stroke:#b0b0b0;stroke-linecap:square;stroke-width:0.8;\"/>\n     </g>\n     <g id=\"line2d_6\">\n      <g>\n       <use style=\"stroke:#000000;stroke-width:0.8;\" x=\"151.160276\" xlink:href=\"#me624ffd70f\" y=\"239.758125\"/>\n      </g>\n     </g>\n     <g id=\"text_3\">\n      <!-- 6.9 -->\n      <defs>\n       <path d=\"M 10.984375 1.515625 \nL 10.984375 10.5 \nQ 14.703125 8.734375 18.5 7.8125 \nQ 22.3125 6.890625 25.984375 6.890625 \nQ 35.75 6.890625 40.890625 13.453125 \nQ 46.046875 20.015625 46.78125 33.40625 \nQ 43.953125 29.203125 39.59375 26.953125 \nQ 35.25 24.703125 29.984375 24.703125 \nQ 19.046875 24.703125 12.671875 31.3125 \nQ 6.296875 37.9375 6.296875 49.421875 \nQ 6.296875 60.640625 12.9375 67.421875 \nQ 19.578125 74.21875 30.609375 74.21875 \nQ 43.265625 74.21875 49.921875 64.515625 \nQ 56.59375 54.828125 56.59375 36.375 \nQ 56.59375 19.140625 48.40625 8.859375 \nQ 40.234375 -1.421875 26.421875 -1.421875 \nQ 22.703125 -1.421875 18.890625 -0.6875 \nQ 15.09375 0.046875 10.984375 1.515625 \nz\nM 30.609375 32.421875 \nQ 37.25 32.421875 41.125 36.953125 \nQ 45.015625 41.5 45.015625 49.421875 \nQ 45.015625 57.28125 41.125 61.84375 \nQ 37.25 66.40625 30.609375 66.40625 \nQ 23.96875 66.40625 20.09375 61.84375 \nQ 16.21875 57.28125 16.21875 49.421875 \nQ 16.21875 41.5 20.09375 36.953125 \nQ 23.96875 32.421875 30.609375 32.421875 \nz\n\" id=\"DejaVuSans-57\"/>\n      </defs>\n      <g transform=\"translate(142.413557 255.116406)scale(0.11 -0.11)\">\n       <use xlink:href=\"#DejaVuSans-54\"/>\n       <use x=\"63.623047\" xlink:href=\"#DejaVuSans-46\"/>\n       <use x=\"95.410156\" xlink:href=\"#DejaVuSans-57\"/>\n      </g>\n     </g>\n    </g>\n    <g id=\"xtick_4\">\n     <g id=\"line2d_7\">\n      <path clip-path=\"url(#p452bf9ad1b)\" d=\"M 190.548511 239.758125 \nL 190.548511 22.318125 \n\" style=\"fill:none;stroke:#b0b0b0;stroke-linecap:square;stroke-width:0.8;\"/>\n     </g>\n     <g id=\"line2d_8\">\n      <g>\n       <use style=\"stroke:#000000;stroke-width:0.8;\" x=\"190.548511\" xlink:href=\"#me624ffd70f\" y=\"239.758125\"/>\n      </g>\n     </g>\n     <g id=\"text_4\">\n      <!-- 7.0 -->\n      <defs>\n       <path d=\"M 31.78125 66.40625 \nQ 24.171875 66.40625 20.328125 58.90625 \nQ 16.5 51.421875 16.5 36.375 \nQ 16.5 21.390625 20.328125 13.890625 \nQ 24.171875 6.390625 31.78125 6.390625 \nQ 39.453125 6.390625 43.28125 13.890625 \nQ 47.125 21.390625 47.125 36.375 \nQ 47.125 51.421875 43.28125 58.90625 \nQ 39.453125 66.40625 31.78125 66.40625 \nz\nM 31.78125 74.21875 \nQ 44.046875 74.21875 50.515625 64.515625 \nQ 56.984375 54.828125 56.984375 36.375 \nQ 56.984375 17.96875 50.515625 8.265625 \nQ 44.046875 -1.421875 31.78125 -1.421875 \nQ 19.53125 -1.421875 13.0625 8.265625 \nQ 6.59375 17.96875 6.59375 36.375 \nQ 6.59375 54.828125 13.0625 64.515625 \nQ 19.53125 74.21875 31.78125 74.21875 \nz\n\" id=\"DejaVuSans-48\"/>\n      </defs>\n      <g transform=\"translate(181.801792 255.116406)scale(0.11 -0.11)\">\n       <use xlink:href=\"#DejaVuSans-55\"/>\n       <use x=\"63.623047\" xlink:href=\"#DejaVuSans-46\"/>\n       <use x=\"95.410156\" xlink:href=\"#DejaVuSans-48\"/>\n      </g>\n     </g>\n    </g>\n    <g id=\"xtick_5\">\n     <g id=\"line2d_9\">\n      <path clip-path=\"url(#p452bf9ad1b)\" d=\"M 229.936746 239.758125 \nL 229.936746 22.318125 \n\" style=\"fill:none;stroke:#b0b0b0;stroke-linecap:square;stroke-width:0.8;\"/>\n     </g>\n     <g id=\"line2d_10\">\n      <g>\n       <use style=\"stroke:#000000;stroke-width:0.8;\" x=\"229.936746\" xlink:href=\"#me624ffd70f\" y=\"239.758125\"/>\n      </g>\n     </g>\n     <g id=\"text_5\">\n      <!-- 7.1 -->\n      <defs>\n       <path d=\"M 12.40625 8.296875 \nL 28.515625 8.296875 \nL 28.515625 63.921875 \nL 10.984375 60.40625 \nL 10.984375 69.390625 \nL 28.421875 72.90625 \nL 38.28125 72.90625 \nL 38.28125 8.296875 \nL 54.390625 8.296875 \nL 54.390625 0 \nL 12.40625 0 \nz\n\" id=\"DejaVuSans-49\"/>\n      </defs>\n      <g transform=\"translate(221.190028 255.116406)scale(0.11 -0.11)\">\n       <use xlink:href=\"#DejaVuSans-55\"/>\n       <use x=\"63.623047\" xlink:href=\"#DejaVuSans-46\"/>\n       <use x=\"95.410156\" xlink:href=\"#DejaVuSans-49\"/>\n      </g>\n     </g>\n    </g>\n    <g id=\"xtick_6\">\n     <g id=\"line2d_11\">\n      <path clip-path=\"url(#p452bf9ad1b)\" d=\"M 269.324982 239.758125 \nL 269.324982 22.318125 \n\" style=\"fill:none;stroke:#b0b0b0;stroke-linecap:square;stroke-width:0.8;\"/>\n     </g>\n     <g id=\"line2d_12\">\n      <g>\n       <use style=\"stroke:#000000;stroke-width:0.8;\" x=\"269.324982\" xlink:href=\"#me624ffd70f\" y=\"239.758125\"/>\n      </g>\n     </g>\n     <g id=\"text_6\">\n      <!-- 7.2 -->\n      <defs>\n       <path d=\"M 19.1875 8.296875 \nL 53.609375 8.296875 \nL 53.609375 0 \nL 7.328125 0 \nL 7.328125 8.296875 \nQ 12.9375 14.109375 22.625 23.890625 \nQ 32.328125 33.6875 34.8125 36.53125 \nQ 39.546875 41.84375 41.421875 45.53125 \nQ 43.3125 49.21875 43.3125 52.78125 \nQ 43.3125 58.59375 39.234375 62.25 \nQ 35.15625 65.921875 28.609375 65.921875 \nQ 23.96875 65.921875 18.8125 64.3125 \nQ 13.671875 62.703125 7.8125 59.421875 \nL 7.8125 69.390625 \nQ 13.765625 71.78125 18.9375 73 \nQ 24.125 74.21875 28.421875 74.21875 \nQ 39.75 74.21875 46.484375 68.546875 \nQ 53.21875 62.890625 53.21875 53.421875 \nQ 53.21875 48.921875 51.53125 44.890625 \nQ 49.859375 40.875 45.40625 35.40625 \nQ 44.1875 33.984375 37.640625 27.21875 \nQ 31.109375 20.453125 19.1875 8.296875 \nz\n\" id=\"DejaVuSans-50\"/>\n      </defs>\n      <g transform=\"translate(260.578263 255.116406)scale(0.11 -0.11)\">\n       <use xlink:href=\"#DejaVuSans-55\"/>\n       <use x=\"63.623047\" xlink:href=\"#DejaVuSans-46\"/>\n       <use x=\"95.410156\" xlink:href=\"#DejaVuSans-50\"/>\n      </g>\n     </g>\n    </g>\n    <g id=\"xtick_7\">\n     <g id=\"line2d_13\">\n      <path clip-path=\"url(#p452bf9ad1b)\" d=\"M 308.713217 239.758125 \nL 308.713217 22.318125 \n\" style=\"fill:none;stroke:#b0b0b0;stroke-linecap:square;stroke-width:0.8;\"/>\n     </g>\n     <g id=\"line2d_14\">\n      <g>\n       <use style=\"stroke:#000000;stroke-width:0.8;\" x=\"308.713217\" xlink:href=\"#me624ffd70f\" y=\"239.758125\"/>\n      </g>\n     </g>\n     <g id=\"text_7\">\n      <!-- 7.3 -->\n      <defs>\n       <path d=\"M 40.578125 39.3125 \nQ 47.65625 37.796875 51.625 33 \nQ 55.609375 28.21875 55.609375 21.1875 \nQ 55.609375 10.40625 48.1875 4.484375 \nQ 40.765625 -1.421875 27.09375 -1.421875 \nQ 22.515625 -1.421875 17.65625 -0.515625 \nQ 12.796875 0.390625 7.625 2.203125 \nL 7.625 11.71875 \nQ 11.71875 9.328125 16.59375 8.109375 \nQ 21.484375 6.890625 26.8125 6.890625 \nQ 36.078125 6.890625 40.9375 10.546875 \nQ 45.796875 14.203125 45.796875 21.1875 \nQ 45.796875 27.640625 41.28125 31.265625 \nQ 36.765625 34.90625 28.71875 34.90625 \nL 20.21875 34.90625 \nL 20.21875 43.015625 \nL 29.109375 43.015625 \nQ 36.375 43.015625 40.234375 45.921875 \nQ 44.09375 48.828125 44.09375 54.296875 \nQ 44.09375 59.90625 40.109375 62.90625 \nQ 36.140625 65.921875 28.71875 65.921875 \nQ 24.65625 65.921875 20.015625 65.03125 \nQ 15.375 64.15625 9.8125 62.3125 \nL 9.8125 71.09375 \nQ 15.4375 72.65625 20.34375 73.4375 \nQ 25.25 74.21875 29.59375 74.21875 \nQ 40.828125 74.21875 47.359375 69.109375 \nQ 53.90625 64.015625 53.90625 55.328125 \nQ 53.90625 49.265625 50.4375 45.09375 \nQ 46.96875 40.921875 40.578125 39.3125 \nz\n\" id=\"DejaVuSans-51\"/>\n      </defs>\n      <g transform=\"translate(299.966498 255.116406)scale(0.11 -0.11)\">\n       <use xlink:href=\"#DejaVuSans-55\"/>\n       <use x=\"63.623047\" xlink:href=\"#DejaVuSans-46\"/>\n       <use x=\"95.410156\" xlink:href=\"#DejaVuSans-51\"/>\n      </g>\n     </g>\n    </g>\n    <g id=\"xtick_8\">\n     <g id=\"line2d_15\">\n      <path clip-path=\"url(#p452bf9ad1b)\" d=\"M 348.101452 239.758125 \nL 348.101452 22.318125 \n\" style=\"fill:none;stroke:#b0b0b0;stroke-linecap:square;stroke-width:0.8;\"/>\n     </g>\n     <g id=\"line2d_16\">\n      <g>\n       <use style=\"stroke:#000000;stroke-width:0.8;\" x=\"348.101452\" xlink:href=\"#me624ffd70f\" y=\"239.758125\"/>\n      </g>\n     </g>\n     <g id=\"text_8\">\n      <!-- 7.4 -->\n      <defs>\n       <path d=\"M 37.796875 64.3125 \nL 12.890625 25.390625 \nL 37.796875 25.390625 \nz\nM 35.203125 72.90625 \nL 47.609375 72.90625 \nL 47.609375 25.390625 \nL 58.015625 25.390625 \nL 58.015625 17.1875 \nL 47.609375 17.1875 \nL 47.609375 0 \nL 37.796875 0 \nL 37.796875 17.1875 \nL 4.890625 17.1875 \nL 4.890625 26.703125 \nz\n\" id=\"DejaVuSans-52\"/>\n      </defs>\n      <g transform=\"translate(339.354733 255.116406)scale(0.11 -0.11)\">\n       <use xlink:href=\"#DejaVuSans-55\"/>\n       <use x=\"63.623047\" xlink:href=\"#DejaVuSans-46\"/>\n       <use x=\"95.410156\" xlink:href=\"#DejaVuSans-52\"/>\n      </g>\n     </g>\n    </g>\n    <g id=\"xtick_9\">\n     <g id=\"line2d_17\">\n      <path clip-path=\"url(#p452bf9ad1b)\" d=\"M 387.489688 239.758125 \nL 387.489688 22.318125 \n\" style=\"fill:none;stroke:#b0b0b0;stroke-linecap:square;stroke-width:0.8;\"/>\n     </g>\n     <g id=\"line2d_18\">\n      <g>\n       <use style=\"stroke:#000000;stroke-width:0.8;\" x=\"387.489688\" xlink:href=\"#me624ffd70f\" y=\"239.758125\"/>\n      </g>\n     </g>\n     <g id=\"text_9\">\n      <!-- 7.5 -->\n      <defs>\n       <path d=\"M 10.796875 72.90625 \nL 49.515625 72.90625 \nL 49.515625 64.59375 \nL 19.828125 64.59375 \nL 19.828125 46.734375 \nQ 21.96875 47.46875 24.109375 47.828125 \nQ 26.265625 48.1875 28.421875 48.1875 \nQ 40.625 48.1875 47.75 41.5 \nQ 54.890625 34.8125 54.890625 23.390625 \nQ 54.890625 11.625 47.5625 5.09375 \nQ 40.234375 -1.421875 26.90625 -1.421875 \nQ 22.3125 -1.421875 17.546875 -0.640625 \nQ 12.796875 0.140625 7.71875 1.703125 \nL 7.71875 11.625 \nQ 12.109375 9.234375 16.796875 8.0625 \nQ 21.484375 6.890625 26.703125 6.890625 \nQ 35.15625 6.890625 40.078125 11.328125 \nQ 45.015625 15.765625 45.015625 23.390625 \nQ 45.015625 31 40.078125 35.4375 \nQ 35.15625 39.890625 26.703125 39.890625 \nQ 22.75 39.890625 18.8125 39.015625 \nQ 14.890625 38.140625 10.796875 36.28125 \nz\n\" id=\"DejaVuSans-53\"/>\n      </defs>\n      <g transform=\"translate(378.742969 255.116406)scale(0.11 -0.11)\">\n       <use xlink:href=\"#DejaVuSans-55\"/>\n       <use x=\"63.623047\" xlink:href=\"#DejaVuSans-46\"/>\n       <use x=\"95.410156\" xlink:href=\"#DejaVuSans-53\"/>\n      </g>\n     </g>\n    </g>\n   </g>\n   <g id=\"matplotlib.axis_2\">\n    <g id=\"ytick_1\">\n     <g id=\"line2d_19\">\n      <path clip-path=\"url(#p452bf9ad1b)\" d=\"M 52.689688 239.758125 \nL 387.489688 239.758125 \n\" style=\"fill:none;stroke:#b0b0b0;stroke-linecap:square;stroke-width:0.8;\"/>\n     </g>\n     <g id=\"line2d_20\">\n      <defs>\n       <path d=\"M 0 0 \nL -3.5 0 \n\" id=\"mf9b8dc719e\" style=\"stroke:#000000;stroke-width:0.8;\"/>\n      </defs>\n      <g>\n       <use style=\"stroke:#000000;stroke-width:0.8;\" x=\"52.689688\" xlink:href=\"#mf9b8dc719e\" y=\"239.758125\"/>\n      </g>\n     </g>\n     <g id=\"text_10\">\n      <!-- 0.0000 -->\n      <g transform=\"translate(7.2 243.937266)scale(0.11 -0.11)\">\n       <use xlink:href=\"#DejaVuSans-48\"/>\n       <use x=\"63.623047\" xlink:href=\"#DejaVuSans-46\"/>\n       <use x=\"95.410156\" xlink:href=\"#DejaVuSans-48\"/>\n       <use x=\"159.033203\" xlink:href=\"#DejaVuSans-48\"/>\n       <use x=\"222.65625\" xlink:href=\"#DejaVuSans-48\"/>\n       <use x=\"286.279297\" xlink:href=\"#DejaVuSans-48\"/>\n      </g>\n     </g>\n    </g>\n    <g id=\"ytick_2\">\n     <g id=\"line2d_21\">\n      <path clip-path=\"url(#p452bf9ad1b)\" d=\"M 52.689688 196.270125 \nL 387.489688 196.270125 \n\" style=\"fill:none;stroke:#b0b0b0;stroke-linecap:square;stroke-width:0.8;\"/>\n     </g>\n     <g id=\"line2d_22\">\n      <g>\n       <use style=\"stroke:#000000;stroke-width:0.8;\" x=\"52.689688\" xlink:href=\"#mf9b8dc719e\" y=\"196.270125\"/>\n      </g>\n     </g>\n     <g id=\"text_11\">\n      <!-- 0.0001 -->\n      <g transform=\"translate(7.2 200.449266)scale(0.11 -0.11)\">\n       <use xlink:href=\"#DejaVuSans-48\"/>\n       <use x=\"63.623047\" xlink:href=\"#DejaVuSans-46\"/>\n       <use x=\"95.410156\" xlink:href=\"#DejaVuSans-48\"/>\n       <use x=\"159.033203\" xlink:href=\"#DejaVuSans-48\"/>\n       <use x=\"222.65625\" xlink:href=\"#DejaVuSans-48\"/>\n       <use x=\"286.279297\" xlink:href=\"#DejaVuSans-49\"/>\n      </g>\n     </g>\n    </g>\n    <g id=\"ytick_3\">\n     <g id=\"line2d_23\">\n      <path clip-path=\"url(#p452bf9ad1b)\" d=\"M 52.689688 152.782125 \nL 387.489688 152.782125 \n\" style=\"fill:none;stroke:#b0b0b0;stroke-linecap:square;stroke-width:0.8;\"/>\n     </g>\n     <g id=\"line2d_24\">\n      <g>\n       <use style=\"stroke:#000000;stroke-width:0.8;\" x=\"52.689688\" xlink:href=\"#mf9b8dc719e\" y=\"152.782125\"/>\n      </g>\n     </g>\n     <g id=\"text_12\">\n      <!-- 0.0002 -->\n      <g transform=\"translate(7.2 156.961266)scale(0.11 -0.11)\">\n       <use xlink:href=\"#DejaVuSans-48\"/>\n       <use x=\"63.623047\" xlink:href=\"#DejaVuSans-46\"/>\n       <use x=\"95.410156\" xlink:href=\"#DejaVuSans-48\"/>\n       <use x=\"159.033203\" xlink:href=\"#DejaVuSans-48\"/>\n       <use x=\"222.65625\" xlink:href=\"#DejaVuSans-48\"/>\n       <use x=\"286.279297\" xlink:href=\"#DejaVuSans-50\"/>\n      </g>\n     </g>\n    </g>\n    <g id=\"ytick_4\">\n     <g id=\"line2d_25\">\n      <path clip-path=\"url(#p452bf9ad1b)\" d=\"M 52.689688 109.294125 \nL 387.489688 109.294125 \n\" style=\"fill:none;stroke:#b0b0b0;stroke-linecap:square;stroke-width:0.8;\"/>\n     </g>\n     <g id=\"line2d_26\">\n      <g>\n       <use style=\"stroke:#000000;stroke-width:0.8;\" x=\"52.689688\" xlink:href=\"#mf9b8dc719e\" y=\"109.294125\"/>\n      </g>\n     </g>\n     <g id=\"text_13\">\n      <!-- 0.0003 -->\n      <g transform=\"translate(7.2 113.473266)scale(0.11 -0.11)\">\n       <use xlink:href=\"#DejaVuSans-48\"/>\n       <use x=\"63.623047\" xlink:href=\"#DejaVuSans-46\"/>\n       <use x=\"95.410156\" xlink:href=\"#DejaVuSans-48\"/>\n       <use x=\"159.033203\" xlink:href=\"#DejaVuSans-48\"/>\n       <use x=\"222.65625\" xlink:href=\"#DejaVuSans-48\"/>\n       <use x=\"286.279297\" xlink:href=\"#DejaVuSans-51\"/>\n      </g>\n     </g>\n    </g>\n    <g id=\"ytick_5\">\n     <g id=\"line2d_27\">\n      <path clip-path=\"url(#p452bf9ad1b)\" d=\"M 52.689688 65.806125 \nL 387.489688 65.806125 \n\" style=\"fill:none;stroke:#b0b0b0;stroke-linecap:square;stroke-width:0.8;\"/>\n     </g>\n     <g id=\"line2d_28\">\n      <g>\n       <use style=\"stroke:#000000;stroke-width:0.8;\" x=\"52.689688\" xlink:href=\"#mf9b8dc719e\" y=\"65.806125\"/>\n      </g>\n     </g>\n     <g id=\"text_14\">\n      <!-- 0.0004 -->\n      <g transform=\"translate(7.2 69.985266)scale(0.11 -0.11)\">\n       <use xlink:href=\"#DejaVuSans-48\"/>\n       <use x=\"63.623047\" xlink:href=\"#DejaVuSans-46\"/>\n       <use x=\"95.410156\" xlink:href=\"#DejaVuSans-48\"/>\n       <use x=\"159.033203\" xlink:href=\"#DejaVuSans-48\"/>\n       <use x=\"222.65625\" xlink:href=\"#DejaVuSans-48\"/>\n       <use x=\"286.279297\" xlink:href=\"#DejaVuSans-52\"/>\n      </g>\n     </g>\n    </g>\n    <g id=\"ytick_6\">\n     <g id=\"line2d_29\">\n      <path clip-path=\"url(#p452bf9ad1b)\" d=\"M 52.689688 22.318125 \nL 387.489688 22.318125 \n\" style=\"fill:none;stroke:#b0b0b0;stroke-linecap:square;stroke-width:0.8;\"/>\n     </g>\n     <g id=\"line2d_30\">\n      <g>\n       <use style=\"stroke:#000000;stroke-width:0.8;\" x=\"52.689688\" xlink:href=\"#mf9b8dc719e\" y=\"22.318125\"/>\n      </g>\n     </g>\n     <g id=\"text_15\">\n      <!-- 0.0005 -->\n      <g transform=\"translate(7.2 26.497266)scale(0.11 -0.11)\">\n       <use xlink:href=\"#DejaVuSans-48\"/>\n       <use x=\"63.623047\" xlink:href=\"#DejaVuSans-46\"/>\n       <use x=\"95.410156\" xlink:href=\"#DejaVuSans-48\"/>\n       <use x=\"159.033203\" xlink:href=\"#DejaVuSans-48\"/>\n       <use x=\"222.65625\" xlink:href=\"#DejaVuSans-48\"/>\n       <use x=\"286.279297\" xlink:href=\"#DejaVuSans-53\"/>\n      </g>\n     </g>\n    </g>\n   </g>\n   <g id=\"line2d_31\">\n    <path clip-path=\"url(#p452bf9ad1b)\" d=\"M 108.66401 -1 \nL 112.091211 8.94231 \nL 116.030035 19.829848 \nL 119.968858 30.203823 \nL 123.907682 40.08846 \nL 127.846505 49.50684 \nL 131.785329 58.480957 \nL 135.724152 67.031767 \nL 139.662976 75.179236 \nL 143.601799 82.942391 \nL 147.540623 90.33936 \nL 151.479446 97.387414 \nL 155.41827 104.103014 \nL 159.357093 110.50184 \nL 163.295917 116.598834 \nL 167.23474 122.408234 \nL 171.173564 127.943606 \nL 175.112387 133.217876 \nL 179.051211 138.243359 \nL 182.990035 143.031791 \nL 186.928858 147.594354 \nL 190.867682 151.941701 \nL 194.806505 156.083986 \nL 198.745329 160.030879 \nL 202.684152 163.791598 \nL 206.622976 167.374924 \nL 210.561799 170.789226 \nL 214.500623 174.042476 \nL 218.439446 177.14227 \nL 222.37827 180.095848 \nL 226.317093 182.910106 \nL 230.255917 185.591616 \nL 234.19474 188.14664 \nL 238.133564 190.581144 \nL 242.072387 192.900813 \nL 246.011211 195.111063 \nL 249.950035 197.217056 \nL 253.888858 199.22371 \nL 257.827682 201.135711 \nL 261.766505 202.957523 \nL 265.705329 204.6934 \nL 269.644152 206.347396 \nL 273.582976 207.923374 \nL 277.521799 209.425013 \nL 281.460623 210.85582 \nL 285.399446 212.219136 \nL 289.33827 213.518145 \nL 293.277093 214.755879 \nL 297.215917 215.93523 \nL 301.15474 217.058951 \nL 305.093564 218.129667 \nL 309.032387 219.149877 \nL 312.971211 220.121964 \nL 316.910035 221.048198 \nL 320.848858 221.930741 \nL 324.787682 222.771655 \nL 328.726505 223.572904 \nL 332.665329 224.336357 \nL 336.604152 225.063799 \nL 340.542976 225.756927 \nL 344.481799 226.417361 \nL 348.420623 227.046642 \nL 352.359446 227.64624 \nL 356.29827 228.217555 \nL 360.237093 228.761922 \nL 364.175917 229.28061 \nL 368.11474 229.774833 \nL 372.053564 230.245742 \nL 375.992387 230.69444 \nL 379.931211 231.121972 \nL 383.870035 231.529337 \nL 387.808858 231.917487 \n\" style=\"fill:none;stroke:#1f77b4;stroke-linecap:square;stroke-width:1.5;\"/>\n   </g>\n   <g id=\"line2d_32\">\n    <path clip-path=\"url(#p452bf9ad1b)\" d=\"M 46.795971 -1 \nL 49.070035 5.690014 \nL 53.008858 16.730962 \nL 56.947682 27.251111 \nL 60.886505 37.275027 \nL 64.825329 46.826116 \nL 68.764152 55.926683 \nL 72.702976 64.597977 \nL 76.641799 72.860248 \nL 80.580623 80.732789 \nL 84.519446 88.233984 \nL 88.45827 95.381349 \nL 92.397093 102.191574 \nL 96.335917 108.680562 \nL 100.27474 114.863466 \nL 104.213564 120.754723 \nL 108.152387 126.368091 \nL 112.091211 131.716677 \nL 116.030035 136.812972 \nL 119.968858 141.668875 \nL 123.907682 146.295726 \nL 127.846505 150.70433 \nL 131.785329 154.90498 \nL 135.724152 158.907487 \nL 139.662976 162.721196 \nL 143.601799 166.355013 \nL 147.540623 169.817424 \nL 151.479446 173.116513 \nL 155.41827 176.259986 \nL 159.357093 179.255181 \nL 163.295917 182.109093 \nL 167.23474 184.828387 \nL 171.173564 187.419412 \nL 175.112387 189.888219 \nL 179.051211 192.240573 \nL 182.990035 194.481966 \nL 186.928858 196.617634 \nL 190.867682 198.652563 \nL 194.806505 200.591504 \nL 198.745329 202.438986 \nL 202.684152 204.199323 \nL 206.622976 205.876624 \nL 210.561799 207.474808 \nL 214.500623 208.997606 \nL 218.439446 210.448574 \nL 222.37827 211.831099 \nL 226.317093 213.148412 \nL 230.255917 214.403587 \nL 234.19474 215.599555 \nL 238.133564 216.73911 \nL 242.072387 217.824913 \nL 246.011211 218.859498 \nL 249.950035 219.845282 \nL 253.888858 220.784567 \nL 257.827682 221.679546 \nL 261.766505 222.532309 \nL 265.705329 223.344847 \nL 269.644152 224.119058 \nL 273.582976 224.85675 \nL 277.521799 225.559645 \nL 281.460623 226.229384 \nL 285.399446 226.867532 \nL 289.33827 227.475579 \nL 293.277093 228.054944 \nL 297.215917 228.606981 \nL 301.15474 229.132978 \nL 305.093564 229.634164 \nL 309.032387 230.111709 \nL 312.971211 230.566728 \nL 316.910035 231.000284 \nL 320.848858 231.41339 \nL 324.787682 231.807009 \nL 328.726505 232.182062 \nL 332.665329 232.539423 \nL 336.604152 232.879928 \nL 340.542976 233.204371 \nL 344.481799 233.51351 \nL 348.420623 233.808067 \nL 352.359446 234.08873 \nL 356.29827 234.356154 \nL 360.237093 234.610964 \nL 364.175917 234.853754 \nL 368.11474 235.085092 \nL 372.053564 235.305518 \nL 375.992387 235.515547 \nL 379.931211 235.715668 \nL 383.870035 235.90635 \nL 387.808858 236.088037 \n\" style=\"fill:none;stroke:#ff7f0e;stroke-linecap:square;stroke-width:1.5;\"/>\n   </g>\n   <g id=\"patch_3\">\n    <path d=\"M 52.689688 239.758125 \nL 52.689688 22.318125 \n\" style=\"fill:none;stroke:#000000;stroke-linecap:square;stroke-linejoin:miter;stroke-width:0.8;\"/>\n   </g>\n   <g id=\"patch_4\">\n    <path d=\"M 387.489688 239.758125 \nL 387.489688 22.318125 \n\" style=\"fill:none;stroke:#000000;stroke-linecap:square;stroke-linejoin:miter;stroke-width:0.8;\"/>\n   </g>\n   <g id=\"patch_5\">\n    <path d=\"M 52.689688 239.758125 \nL 387.489688 239.758125 \n\" style=\"fill:none;stroke:#000000;stroke-linecap:square;stroke-linejoin:miter;stroke-width:0.8;\"/>\n   </g>\n   <g id=\"patch_6\">\n    <path d=\"M 52.689688 22.318125 \nL 387.489688 22.318125 \n\" style=\"fill:none;stroke:#000000;stroke-linecap:square;stroke-linejoin:miter;stroke-width:0.8;\"/>\n   </g>\n   <g id=\"text_16\">\n    <!-- Carrera de condensadores -->\n    <defs>\n     <path d=\"M 64.40625 67.28125 \nL 64.40625 56.890625 \nQ 59.421875 61.53125 53.78125 63.8125 \nQ 48.140625 66.109375 41.796875 66.109375 \nQ 29.296875 66.109375 22.65625 58.46875 \nQ 16.015625 50.828125 16.015625 36.375 \nQ 16.015625 21.96875 22.65625 14.328125 \nQ 29.296875 6.6875 41.796875 6.6875 \nQ 48.140625 6.6875 53.78125 8.984375 \nQ 59.421875 11.28125 64.40625 15.921875 \nL 64.40625 5.609375 \nQ 59.234375 2.09375 53.4375 0.328125 \nQ 47.65625 -1.421875 41.21875 -1.421875 \nQ 24.65625 -1.421875 15.125 8.703125 \nQ 5.609375 18.84375 5.609375 36.375 \nQ 5.609375 53.953125 15.125 64.078125 \nQ 24.65625 74.21875 41.21875 74.21875 \nQ 47.75 74.21875 53.53125 72.484375 \nQ 59.328125 70.75 64.40625 67.28125 \nz\n\" id=\"DejaVuSans-67\"/>\n     <path d=\"M 34.28125 27.484375 \nQ 23.390625 27.484375 19.1875 25 \nQ 14.984375 22.515625 14.984375 16.5 \nQ 14.984375 11.71875 18.140625 8.90625 \nQ 21.296875 6.109375 26.703125 6.109375 \nQ 34.1875 6.109375 38.703125 11.40625 \nQ 43.21875 16.703125 43.21875 25.484375 \nL 43.21875 27.484375 \nz\nM 52.203125 31.203125 \nL 52.203125 0 \nL 43.21875 0 \nL 43.21875 8.296875 \nQ 40.140625 3.328125 35.546875 0.953125 \nQ 30.953125 -1.421875 24.3125 -1.421875 \nQ 15.921875 -1.421875 10.953125 3.296875 \nQ 6 8.015625 6 15.921875 \nQ 6 25.140625 12.171875 29.828125 \nQ 18.359375 34.515625 30.609375 34.515625 \nL 43.21875 34.515625 \nL 43.21875 35.40625 \nQ 43.21875 41.609375 39.140625 45 \nQ 35.0625 48.390625 27.6875 48.390625 \nQ 23 48.390625 18.546875 47.265625 \nQ 14.109375 46.140625 10.015625 43.890625 \nL 10.015625 52.203125 \nQ 14.9375 54.109375 19.578125 55.046875 \nQ 24.21875 56 28.609375 56 \nQ 40.484375 56 46.34375 49.84375 \nQ 52.203125 43.703125 52.203125 31.203125 \nz\n\" id=\"DejaVuSans-97\"/>\n     <path d=\"M 41.109375 46.296875 \nQ 39.59375 47.171875 37.8125 47.578125 \nQ 36.03125 48 33.890625 48 \nQ 26.265625 48 22.1875 43.046875 \nQ 18.109375 38.09375 18.109375 28.8125 \nL 18.109375 0 \nL 9.078125 0 \nL 9.078125 54.6875 \nL 18.109375 54.6875 \nL 18.109375 46.1875 \nQ 20.953125 51.171875 25.484375 53.578125 \nQ 30.03125 56 36.53125 56 \nQ 37.453125 56 38.578125 55.875 \nQ 39.703125 55.765625 41.0625 55.515625 \nz\n\" id=\"DejaVuSans-114\"/>\n     <path d=\"M 56.203125 29.59375 \nL 56.203125 25.203125 \nL 14.890625 25.203125 \nQ 15.484375 15.921875 20.484375 11.0625 \nQ 25.484375 6.203125 34.421875 6.203125 \nQ 39.59375 6.203125 44.453125 7.46875 \nQ 49.3125 8.734375 54.109375 11.28125 \nL 54.109375 2.78125 \nQ 49.265625 0.734375 44.1875 -0.34375 \nQ 39.109375 -1.421875 33.890625 -1.421875 \nQ 20.796875 -1.421875 13.15625 6.1875 \nQ 5.515625 13.8125 5.515625 26.8125 \nQ 5.515625 40.234375 12.765625 48.109375 \nQ 20.015625 56 32.328125 56 \nQ 43.359375 56 49.78125 48.890625 \nQ 56.203125 41.796875 56.203125 29.59375 \nz\nM 47.21875 32.234375 \nQ 47.125 39.59375 43.09375 43.984375 \nQ 39.0625 48.390625 32.421875 48.390625 \nQ 24.90625 48.390625 20.390625 44.140625 \nQ 15.875 39.890625 15.1875 32.171875 \nz\n\" id=\"DejaVuSans-101\"/>\n     <path id=\"DejaVuSans-32\"/>\n     <path d=\"M 45.40625 46.390625 \nL 45.40625 75.984375 \nL 54.390625 75.984375 \nL 54.390625 0 \nL 45.40625 0 \nL 45.40625 8.203125 \nQ 42.578125 3.328125 38.25 0.953125 \nQ 33.9375 -1.421875 27.875 -1.421875 \nQ 17.96875 -1.421875 11.734375 6.484375 \nQ 5.515625 14.40625 5.515625 27.296875 \nQ 5.515625 40.1875 11.734375 48.09375 \nQ 17.96875 56 27.875 56 \nQ 33.9375 56 38.25 53.625 \nQ 42.578125 51.265625 45.40625 46.390625 \nz\nM 14.796875 27.296875 \nQ 14.796875 17.390625 18.875 11.75 \nQ 22.953125 6.109375 30.078125 6.109375 \nQ 37.203125 6.109375 41.296875 11.75 \nQ 45.40625 17.390625 45.40625 27.296875 \nQ 45.40625 37.203125 41.296875 42.84375 \nQ 37.203125 48.484375 30.078125 48.484375 \nQ 22.953125 48.484375 18.875 42.84375 \nQ 14.796875 37.203125 14.796875 27.296875 \nz\n\" id=\"DejaVuSans-100\"/>\n     <path d=\"M 48.78125 52.59375 \nL 48.78125 44.1875 \nQ 44.96875 46.296875 41.140625 47.34375 \nQ 37.3125 48.390625 33.40625 48.390625 \nQ 24.65625 48.390625 19.8125 42.84375 \nQ 14.984375 37.3125 14.984375 27.296875 \nQ 14.984375 17.28125 19.8125 11.734375 \nQ 24.65625 6.203125 33.40625 6.203125 \nQ 37.3125 6.203125 41.140625 7.25 \nQ 44.96875 8.296875 48.78125 10.40625 \nL 48.78125 2.09375 \nQ 45.015625 0.34375 40.984375 -0.53125 \nQ 36.96875 -1.421875 32.421875 -1.421875 \nQ 20.0625 -1.421875 12.78125 6.34375 \nQ 5.515625 14.109375 5.515625 27.296875 \nQ 5.515625 40.671875 12.859375 48.328125 \nQ 20.21875 56 33.015625 56 \nQ 37.15625 56 41.109375 55.140625 \nQ 45.0625 54.296875 48.78125 52.59375 \nz\n\" id=\"DejaVuSans-99\"/>\n     <path d=\"M 30.609375 48.390625 \nQ 23.390625 48.390625 19.1875 42.75 \nQ 14.984375 37.109375 14.984375 27.296875 \nQ 14.984375 17.484375 19.15625 11.84375 \nQ 23.34375 6.203125 30.609375 6.203125 \nQ 37.796875 6.203125 41.984375 11.859375 \nQ 46.1875 17.53125 46.1875 27.296875 \nQ 46.1875 37.015625 41.984375 42.703125 \nQ 37.796875 48.390625 30.609375 48.390625 \nz\nM 30.609375 56 \nQ 42.328125 56 49.015625 48.375 \nQ 55.71875 40.765625 55.71875 27.296875 \nQ 55.71875 13.875 49.015625 6.21875 \nQ 42.328125 -1.421875 30.609375 -1.421875 \nQ 18.84375 -1.421875 12.171875 6.21875 \nQ 5.515625 13.875 5.515625 27.296875 \nQ 5.515625 40.765625 12.171875 48.375 \nQ 18.84375 56 30.609375 56 \nz\n\" id=\"DejaVuSans-111\"/>\n     <path d=\"M 54.890625 33.015625 \nL 54.890625 0 \nL 45.90625 0 \nL 45.90625 32.71875 \nQ 45.90625 40.484375 42.875 44.328125 \nQ 39.84375 48.1875 33.796875 48.1875 \nQ 26.515625 48.1875 22.3125 43.546875 \nQ 18.109375 38.921875 18.109375 30.90625 \nL 18.109375 0 \nL 9.078125 0 \nL 9.078125 54.6875 \nL 18.109375 54.6875 \nL 18.109375 46.1875 \nQ 21.34375 51.125 25.703125 53.5625 \nQ 30.078125 56 35.796875 56 \nQ 45.21875 56 50.046875 50.171875 \nQ 54.890625 44.34375 54.890625 33.015625 \nz\n\" id=\"DejaVuSans-110\"/>\n     <path d=\"M 44.28125 53.078125 \nL 44.28125 44.578125 \nQ 40.484375 46.53125 36.375 47.5 \nQ 32.28125 48.484375 27.875 48.484375 \nQ 21.1875 48.484375 17.84375 46.4375 \nQ 14.5 44.390625 14.5 40.28125 \nQ 14.5 37.15625 16.890625 35.375 \nQ 19.28125 33.59375 26.515625 31.984375 \nL 29.59375 31.296875 \nQ 39.15625 29.25 43.1875 25.515625 \nQ 47.21875 21.78125 47.21875 15.09375 \nQ 47.21875 7.46875 41.1875 3.015625 \nQ 35.15625 -1.421875 24.609375 -1.421875 \nQ 20.21875 -1.421875 15.453125 -0.5625 \nQ 10.6875 0.296875 5.421875 2 \nL 5.421875 11.28125 \nQ 10.40625 8.6875 15.234375 7.390625 \nQ 20.0625 6.109375 24.8125 6.109375 \nQ 31.15625 6.109375 34.5625 8.28125 \nQ 37.984375 10.453125 37.984375 14.40625 \nQ 37.984375 18.0625 35.515625 20.015625 \nQ 33.0625 21.96875 24.703125 23.78125 \nL 21.578125 24.515625 \nQ 13.234375 26.265625 9.515625 29.90625 \nQ 5.8125 33.546875 5.8125 39.890625 \nQ 5.8125 47.609375 11.28125 51.796875 \nQ 16.75 56 26.8125 56 \nQ 31.78125 56 36.171875 55.265625 \nQ 40.578125 54.546875 44.28125 53.078125 \nz\n\" id=\"DejaVuSans-115\"/>\n    </defs>\n    <g transform=\"translate(140.501563 16.318125)scale(0.12 -0.12)\">\n     <use xlink:href=\"#DejaVuSans-67\"/>\n     <use x=\"69.824219\" xlink:href=\"#DejaVuSans-97\"/>\n     <use x=\"131.103516\" xlink:href=\"#DejaVuSans-114\"/>\n     <use x=\"172.201172\" xlink:href=\"#DejaVuSans-114\"/>\n     <use x=\"213.283203\" xlink:href=\"#DejaVuSans-101\"/>\n     <use x=\"274.806641\" xlink:href=\"#DejaVuSans-114\"/>\n     <use x=\"315.919922\" xlink:href=\"#DejaVuSans-97\"/>\n     <use x=\"377.199219\" xlink:href=\"#DejaVuSans-32\"/>\n     <use x=\"408.986328\" xlink:href=\"#DejaVuSans-100\"/>\n     <use x=\"472.462891\" xlink:href=\"#DejaVuSans-101\"/>\n     <use x=\"533.986328\" xlink:href=\"#DejaVuSans-32\"/>\n     <use x=\"565.773438\" xlink:href=\"#DejaVuSans-99\"/>\n     <use x=\"620.753906\" xlink:href=\"#DejaVuSans-111\"/>\n     <use x=\"681.935547\" xlink:href=\"#DejaVuSans-110\"/>\n     <use x=\"745.314453\" xlink:href=\"#DejaVuSans-100\"/>\n     <use x=\"808.791016\" xlink:href=\"#DejaVuSans-101\"/>\n     <use x=\"870.314453\" xlink:href=\"#DejaVuSans-110\"/>\n     <use x=\"933.693359\" xlink:href=\"#DejaVuSans-115\"/>\n     <use x=\"985.792969\" xlink:href=\"#DejaVuSans-97\"/>\n     <use x=\"1047.072266\" xlink:href=\"#DejaVuSans-100\"/>\n     <use x=\"1110.548828\" xlink:href=\"#DejaVuSans-111\"/>\n     <use x=\"1171.730469\" xlink:href=\"#DejaVuSans-114\"/>\n     <use x=\"1212.8125\" xlink:href=\"#DejaVuSans-101\"/>\n     <use x=\"1274.335938\" xlink:href=\"#DejaVuSans-115\"/>\n    </g>\n   </g>\n  </g>\n </g>\n <defs>\n  <clipPath id=\"p452bf9ad1b\">\n   <rect height=\"217.44\" width=\"334.8\" x=\"52.689688\" y=\"22.318125\"/>\n  </clipPath>\n </defs>\n</svg>\n",
            "image/png": "[encoded data removed]"
          },
          "metadata": {
            "needs_background": "light"
          }
        }
      ],
      "execution_count": 39,
      "metadata": {}
    },
    {
      "source": [
        "**Ejercicio premium:** Repite la simulación con LTspice (invocándolo como comando externo, leyendo los datos de un fichero `.raw` y volviendo a graficar con Matplotlib. "
      ],
      "cell_type": "markdown",
      "metadata": {}
    },
    {
      "source": [
        "## Circuitos en corriente alterna\n",
        "\n",
        "** Ejercicio:** Simula este circuito con LTspice y representa el voltaje y la intensidad en función del tiempo. Traduce este ejercicio a la versión Spice de Akhab y haz la misma representación. Ahkab utiliza otra sintaxis para expresar la corriente alterna. Esta está descrita en la [documentación](https://ahkab.readthedocs.io/en/latest/help/Netlist-Syntax.html#id24). "
      ],
      "cell_type": "markdown",
      "metadata": {}
    },
    {
      "cell_type": "code",
      "execution_count": 40,
      "metadata": {},
      "outputs": [
        {
          "output_type": "stream",
          "name": "stdout",
          "text": [
            "Writing corriente alterna.net\n"
          ]
        }
      ],
      "source": [
        "%%writefile \"corriente alterna.net\"\n",
        "* Circuito en corriente alterna\n",
        "v1 1 0 sin(0 120 60 0 0)\n",
        "r1 0 1 10k\n",
        ".tran 1\n",
        ".end"
      ]
    },
    {
      "cell_type": "code",
      "execution_count": 41,
      "metadata": {},
      "outputs": [],
      "source": [
        "lts \"corriente alterna.net\""
      ]
    },
    {
      "source": [
        "# Resumen de lo que se pide\n",
        "Volved a realizar todos los ejercicios y demos en vuestro propio notebook, explicando con vuestras palabras cada paso, cada gráfica y respondiendo a cada pregunta. Cuidad la belleza, coherencia, narración, explicaciones y gráficas. Todas las gráficas se han pintado con Matplotlib, que es una biblioteca extendidísima en ciencia y tecnología. Es muuuuy bueno que la conozcáis. [Aquí](https://matplotlib.org/tutorials/introductory/pyplot.html) tenéis muchos ejemplos. "
      ],
      "cell_type": "markdown",
      "metadata": {}
    }
  ],
  "metadata": {
    "pygments_lexer": "ipython3",
    "orig_nbformat": 2,
    "name": "python",
    "mimetype": "text/x-python",
    "npconvert_exporter": "python",
    "kernel_info": {
      "name": "python3"
    },
    "language_info": {
      "name": "python",
      "version": "3.7.4-final",
      "mimetype": "text/x-python",
      "codemirror_mode": {
        "name": "ipython",
        "version": 3
      },
      "pygments_lexer": "ipython3",
      "nbconvert_exporter": "python",
      "file_extension": ".py"
    },
    "version": 3,
    "kernelspec": {
      "name": "python3",
      "language": "python",
      "display_name": "Python 3"
    },
    "file_extension": ".py",
    "nteract": {
      "version": "0.27.0"
    }
  },
  "nbformat": 4,
  "nbformat_minor": 2
}
